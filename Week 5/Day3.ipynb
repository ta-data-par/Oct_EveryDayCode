{
 "cells": [
  {
   "cell_type": "markdown",
   "metadata": {},
   "source": [
    "# Sampling methods:\n",
    "\n",
    "### Probabilistic\n",
    "1. Random Sample\n",
    "2. Systematic (Mechanical) Sample\n",
    "3. Stratified Sample\n",
    "4. Cluster sample\n",
    "\n",
    "### Non-probabilistic\n",
    "1. Quote sampling\n",
    "2. Snowball sampling\n",
    "3. Spontaneous sampling"
   ]
  },
  {
   "cell_type": "markdown",
   "metadata": {},
   "source": [
    "# Cheese haters problem"
   ]
  },
  {
   "cell_type": "code",
   "execution_count": 1,
   "metadata": {},
   "outputs": [],
   "source": [
    "total_population=66990000\n",
    "non_eaters=0.06"
   ]
  },
  {
   "cell_type": "code",
   "execution_count": 4,
   "metadata": {},
   "outputs": [],
   "source": [
    "num_peps_non_eaters=int(non_eaters*total_population)"
   ]
  },
  {
   "cell_type": "code",
   "execution_count": 5,
   "metadata": {},
   "outputs": [
    {
     "data": {
      "text/plain": [
       "4019400"
      ]
     },
     "execution_count": 5,
     "metadata": {},
     "output_type": "execute_result"
    }
   ],
   "source": [
    "num_peps_non_eaters"
   ]
  },
  {
   "cell_type": "code",
   "execution_count": 8,
   "metadata": {},
   "outputs": [],
   "source": [
    "num_eaters=total_population-num_peps_non_eaters"
   ]
  },
  {
   "cell_type": "code",
   "execution_count": 7,
   "metadata": {},
   "outputs": [],
   "source": [
    "import numpy as np"
   ]
  },
  {
   "cell_type": "code",
   "execution_count": 10,
   "metadata": {},
   "outputs": [],
   "source": [
    "pop_non_eaters=np.zeros(num_peps_non_eaters)\n",
    "pop_eaters=np.ones(num_eaters)\n"
   ]
  },
  {
   "cell_type": "code",
   "execution_count": 11,
   "metadata": {},
   "outputs": [
    {
     "data": {
      "text/plain": [
       "62970600.0"
      ]
     },
     "execution_count": 11,
     "metadata": {},
     "output_type": "execute_result"
    }
   ],
   "source": [
    "pop_eaters.sum()+pop_non_eaters.sum()"
   ]
  },
  {
   "cell_type": "code",
   "execution_count": 12,
   "metadata": {},
   "outputs": [
    {
     "data": {
      "text/plain": [
       "66990000"
      ]
     },
     "execution_count": 12,
     "metadata": {},
     "output_type": "execute_result"
    }
   ],
   "source": [
    "len(pop_eaters)+len(pop_non_eaters)"
   ]
  },
  {
   "cell_type": "code",
   "execution_count": 13,
   "metadata": {},
   "outputs": [],
   "source": [
    "all_population=np.hstack([pop_eaters,pop_non_eaters])"
   ]
  },
  {
   "cell_type": "code",
   "execution_count": 14,
   "metadata": {},
   "outputs": [
    {
     "data": {
      "text/plain": [
       "array([1., 1., 1., ..., 0., 0., 0.])"
      ]
     },
     "execution_count": 14,
     "metadata": {},
     "output_type": "execute_result"
    }
   ],
   "source": [
    "all_population"
   ]
  },
  {
   "cell_type": "code",
   "execution_count": 15,
   "metadata": {},
   "outputs": [
    {
     "data": {
      "text/plain": [
       "0.94"
      ]
     },
     "execution_count": 15,
     "metadata": {},
     "output_type": "execute_result"
    }
   ],
   "source": [
    "all_population.mean() #represents the proportion of love eaters. We want to track the reverse, so let's reverse ones and zeros"
   ]
  },
  {
   "cell_type": "code",
   "execution_count": 17,
   "metadata": {},
   "outputs": [
    {
     "data": {
      "text/plain": [
       "0.06"
      ]
     },
     "execution_count": 17,
     "metadata": {},
     "output_type": "execute_result"
    }
   ],
   "source": [
    "all_population=1-all_population\n",
    "all_population.mean()"
   ]
  },
  {
   "cell_type": "code",
   "execution_count": 21,
   "metadata": {},
   "outputs": [
    {
     "data": {
      "text/plain": [
       "0.06"
      ]
     },
     "execution_count": 21,
     "metadata": {},
     "output_type": "execute_result"
    }
   ],
   "source": [
    "sample=np.random.choice(all_population,1000)\n",
    "sample.mean()"
   ]
  },
  {
   "cell_type": "code",
   "execution_count": 22,
   "metadata": {},
   "outputs": [
    {
     "name": "stdout",
     "output_type": "stream",
     "text": [
      "Sample 0 : 0.062\n",
      "Sample 1 : 0.056\n",
      "Sample 2 : 0.055\n",
      "Sample 3 : 0.061\n",
      "Sample 4 : 0.061\n",
      "Sample 5 : 0.047\n",
      "Sample 6 : 0.052\n",
      "Sample 7 : 0.053\n",
      "Sample 8 : 0.058\n",
      "Sample 9 : 0.068\n"
     ]
    }
   ],
   "source": [
    "for i in range(10):\n",
    "    sample=np.random.choice(all_population,1000)\n",
    "    print('Sample',i,':',sample.mean())"
   ]
  },
  {
   "cell_type": "code",
   "execution_count": 23,
   "metadata": {},
   "outputs": [
    {
     "name": "stdout",
     "output_type": "stream",
     "text": [
      "0.05999470000000001\n"
     ]
    }
   ],
   "source": [
    "values=[]\n",
    "for i in range(10000):\n",
    "    sample=np.random.choice(all_population,1000)\n",
    "    mean=sample.mean()\n",
    "    values.append(mean)\n",
    "print(np.mean(values))"
   ]
  },
  {
   "cell_type": "code",
   "execution_count": 26,
   "metadata": {},
   "outputs": [
    {
     "data": {
      "text/plain": [
       "(array([2.00e+00, 0.00e+00, 0.00e+00, 3.00e+00, 5.00e+00, 9.00e+00,\n",
       "        1.30e+01, 5.40e+01, 3.80e+01, 5.40e+01, 6.90e+01, 7.40e+01,\n",
       "        1.11e+02, 1.50e+02, 4.16e+02, 2.56e+02, 3.25e+02, 3.59e+02,\n",
       "        4.01e+02, 4.11e+02, 4.84e+02, 1.02e+03, 5.43e+02, 5.24e+02,\n",
       "        5.54e+02, 5.37e+02, 4.60e+02, 4.54e+02, 7.35e+02, 3.20e+02,\n",
       "        3.12e+02, 2.51e+02, 2.47e+02, 1.84e+02, 1.50e+02, 2.08e+02,\n",
       "        7.10e+01, 4.80e+01, 3.30e+01, 3.10e+01, 2.30e+01, 1.40e+01,\n",
       "        2.30e+01, 9.00e+00, 5.00e+00, 3.00e+00, 3.00e+00, 3.00e+00,\n",
       "        0.00e+00, 1.00e+00]),\n",
       " array([0.033  , 0.03414, 0.03528, 0.03642, 0.03756, 0.0387 , 0.03984,\n",
       "        0.04098, 0.04212, 0.04326, 0.0444 , 0.04554, 0.04668, 0.04782,\n",
       "        0.04896, 0.0501 , 0.05124, 0.05238, 0.05352, 0.05466, 0.0558 ,\n",
       "        0.05694, 0.05808, 0.05922, 0.06036, 0.0615 , 0.06264, 0.06378,\n",
       "        0.06492, 0.06606, 0.0672 , 0.06834, 0.06948, 0.07062, 0.07176,\n",
       "        0.0729 , 0.07404, 0.07518, 0.07632, 0.07746, 0.0786 , 0.07974,\n",
       "        0.08088, 0.08202, 0.08316, 0.0843 , 0.08544, 0.08658, 0.08772,\n",
       "        0.08886, 0.09   ]),\n",
       " <a list of 50 Patch objects>)"
      ]
     },
     "execution_count": 26,
     "metadata": {},
     "output_type": "execute_result"
    },
    {
     "data": {
      "image/png": "[encoded data removed]",
      "text/plain": [
       "<Figure size 432x288 with 1 Axes>"
      ]
     },
     "metadata": {
      "needs_background": "light"
     },
     "output_type": "display_data"
    }
   ],
   "source": [
    "import matplotlib.pyplot as plt\n",
    "%matplotlib inline\n",
    "plt.hist(values, bins=50)"
   ]
  },
  {
   "cell_type": "code",
   "execution_count": 27,
   "metadata": {},
   "outputs": [
    {
     "name": "stdout",
     "output_type": "stream",
     "text": [
      "0.06000028100000001\n"
     ]
    },
    {
     "data": {
      "text/plain": [
       "(array([3.00000e+00, 4.00000e+00, 3.50000e+01, 3.20000e+01, 1.52000e+02,\n",
       "        4.84000e+02, 4.56000e+02, 7.55000e+02, 2.99800e+03, 2.58600e+03,\n",
       "        8.64900e+03, 6.85600e+03, 2.09550e+04, 1.52290e+04, 4.11680e+04,\n",
       "        5.83430e+04, 3.53060e+04, 4.03460e+04, 9.18970e+04, 4.99060e+04,\n",
       "        1.04726e+05, 5.30500e+04, 1.02865e+05, 4.83350e+04, 8.60240e+04,\n",
       "        3.73690e+04, 6.21550e+04, 2.50200e+04, 3.86560e+04, 1.44890e+04,\n",
       "        2.13480e+04, 7.46400e+03, 1.03030e+04, 3.30800e+03, 4.35500e+03,\n",
       "        1.36600e+03, 1.63200e+03, 4.50000e+02, 5.36000e+02, 1.25000e+02,\n",
       "        1.58000e+02, 2.80000e+01, 4.70000e+01, 1.20000e+01, 1.00000e+01,\n",
       "        5.00000e+00, 2.00000e+00, 0.00000e+00, 0.00000e+00, 2.00000e+00]),\n",
       " array([0.028 , 0.0295, 0.031 , 0.0325, 0.034 , 0.0355, 0.037 , 0.0385,\n",
       "        0.04  , 0.0415, 0.043 , 0.0445, 0.046 , 0.0475, 0.049 , 0.0505,\n",
       "        0.052 , 0.0535, 0.055 , 0.0565, 0.058 , 0.0595, 0.061 , 0.0625,\n",
       "        0.064 , 0.0655, 0.067 , 0.0685, 0.07  , 0.0715, 0.073 , 0.0745,\n",
       "        0.076 , 0.0775, 0.079 , 0.0805, 0.082 , 0.0835, 0.085 , 0.0865,\n",
       "        0.088 , 0.0895, 0.091 , 0.0925, 0.094 , 0.0955, 0.097 , 0.0985,\n",
       "        0.1   , 0.1015, 0.103 ]),\n",
       " <a list of 50 Patch objects>)"
      ]
     },
     "execution_count": 27,
     "metadata": {},
     "output_type": "execute_result"
    },
    {
     "data": {
      "image/png": "[encoded data removed]",
      "text/plain": [
       "<Figure size 432x288 with 1 Axes>"
      ]
     },
     "metadata": {
      "needs_background": "light"
     },
     "output_type": "display_data"
    }
   ],
   "source": [
    "values=[]\n",
    "for i in range(1000000):\n",
    "    sample=np.random.choice(all_population,1000)\n",
    "    mean=sample.mean()\n",
    "    values.append(mean)\n",
    "print(np.mean(values))\n",
    "plt.hist(values, bins=50)"
   ]
  },
  {
   "cell_type": "code",
   "execution_count": 29,
   "metadata": {},
   "outputs": [
    {
     "data": {
      "text/plain": [
       "(array([1.90000e+01, 2.07000e+02, 1.69500e+03, 5.58400e+03, 2.46390e+04,\n",
       "        6.82180e+04, 1.33995e+05, 1.41803e+05, 2.09999e+05, 1.85001e+05,\n",
       "        1.24544e+05, 5.31450e+04, 3.46930e+04, 1.20850e+04, 3.44800e+03,\n",
       "        6.61000e+02, 2.16000e+02, 3.90000e+01, 7.00000e+00, 2.00000e+00]),\n",
       " array([0.028  , 0.03175, 0.0355 , 0.03925, 0.043  , 0.04675, 0.0505 ,\n",
       "        0.05425, 0.058  , 0.06175, 0.0655 , 0.06925, 0.073  , 0.07675,\n",
       "        0.0805 , 0.08425, 0.088  , 0.09175, 0.0955 , 0.09925, 0.103  ]),\n",
       " <a list of 20 Patch objects>)"
      ]
     },
     "execution_count": 29,
     "metadata": {},
     "output_type": "execute_result"
    },
    {
     "data": {
      "image/png": "[encoded data removed]",
      "text/plain": [
       "<Figure size 432x288 with 1 Axes>"
      ]
     },
     "metadata": {
      "needs_background": "light"
     },
     "output_type": "display_data"
    }
   ],
   "source": [
    "plt.hist(values,bins=20)"
   ]
  },
  {
   "cell_type": "code",
   "execution_count": 31,
   "metadata": {},
   "outputs": [
    {
     "data": {
      "text/plain": [
       "0.007501568030821224"
      ]
     },
     "execution_count": 31,
     "metadata": {},
     "output_type": "execute_result"
    }
   ],
   "source": [
    "np.std(values)"
   ]
  },
  {
   "cell_type": "code",
   "execution_count": 32,
   "metadata": {},
   "outputs": [
    {
     "data": {
      "text/plain": [
       "0.04499714493835756"
      ]
     },
     "execution_count": 32,
     "metadata": {},
     "output_type": "execute_result"
    }
   ],
   "source": [
    "np.mean(values)-2*np.std(values)"
   ]
  },
  {
   "cell_type": "code",
   "execution_count": null,
   "metadata": {},
   "outputs": [],
   "source": []
  },
  {
   "cell_type": "code",
   "execution_count": null,
   "metadata": {},
   "outputs": [],
   "source": []
  },
  {
   "cell_type": "code",
   "execution_count": 33,
   "metadata": {},
   "outputs": [],
   "source": [
    "total_shops=105\n",
    "loss_shops=27\n",
    "p=loss_shops/total_shops\n",
    "se=((p*(1-p))/total_shops)**0.5"
   ]
  },
  {
   "cell_type": "code",
   "execution_count": 40,
   "metadata": {},
   "outputs": [
    {
     "data": {
      "text/plain": [
       "(-1.2815515655446004, 1.2815515655446004)"
      ]
     },
     "execution_count": 40,
     "metadata": {},
     "output_type": "execute_result"
    }
   ],
   "source": [
    "scs.norm.interval(0.8)"
   ]
  },
  {
   "cell_type": "code",
   "execution_count": 35,
   "metadata": {},
   "outputs": [
    {
     "data": {
      "text/plain": [
       "[0.20248138545542083, 0.3118043288302934]"
      ]
     },
     "execution_count": 35,
     "metadata": {},
     "output_type": "execute_result"
    }
   ],
   "source": [
    "import scipy.stats as scs\n",
    "conf_80=[p-(scs.norm.interval(0.8)[1]*se),p+(scs.norm.interval(0.8)[1]*se)]\n",
    "conf_80"
   ]
  },
  {
   "cell_type": "code",
   "execution_count": 36,
   "metadata": {},
   "outputs": [
    {
     "data": {
      "text/plain": [
       "[0.1869856177645281, 0.32730009652118613]"
      ]
     },
     "execution_count": 36,
     "metadata": {},
     "output_type": "execute_result"
    }
   ],
   "source": [
    "conf_90=[p-(scs.norm.interval(0.9)[1]*se),p+(scs.norm.interval(0.9)[1]*se)]\n",
    "conf_90"
   ]
  },
  {
   "cell_type": "code",
   "execution_count": 42,
   "metadata": {},
   "outputs": [
    {
     "data": {
      "text/plain": [
       "0.04265257298812451"
      ]
     },
     "execution_count": 42,
     "metadata": {},
     "output_type": "execute_result"
    }
   ],
   "source": [
    "se"
   ]
  },
  {
   "cell_type": "markdown",
   "metadata": {},
   "source": [
    "# second approach"
   ]
  },
  {
   "cell_type": "code",
   "execution_count": 38,
   "metadata": {},
   "outputs": [
    {
     "data": {
      "text/plain": [
       "(0.20248138545542083, 0.3118043288302934)"
      ]
     },
     "execution_count": 38,
     "metadata": {},
     "output_type": "execute_result"
    }
   ],
   "source": [
    "conf_80_1=scs.norm.interval(0.8,loc=p,scale=se)\n",
    "conf_80_1"
   ]
  },
  {
   "cell_type": "code",
   "execution_count": 39,
   "metadata": {},
   "outputs": [
    {
     "data": {
      "text/plain": [
       "(0.1869856177645281, 0.32730009652118613)"
      ]
     },
     "execution_count": 39,
     "metadata": {},
     "output_type": "execute_result"
    }
   ],
   "source": [
    "conf_90_1=scs.norm.interval(0.9,loc=p,scale=se)\n",
    "conf_90_1"
   ]
  }
 ],
 "metadata": {
  "kernelspec": {
   "display_name": "Python 3",
   "language": "python",
   "name": "python3"
  },
  "language_info": {
   "codemirror_mode": {
    "name": "ipython",
    "version": 3
   },
   "file_extension": ".py",
   "mimetype": "text/x-python",
   "name": "python",
   "nbconvert_exporter": "python",
   "pygments_lexer": "ipython3",
   "version": "3.6.8"
  }
 },
 "nbformat": 4,
 "nbformat_minor": 2
}
