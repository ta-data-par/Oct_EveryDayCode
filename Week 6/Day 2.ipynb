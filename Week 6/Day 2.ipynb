{
 "cells": [
  {
   "cell_type": "code",
   "execution_count": 1,
   "metadata": {},
   "outputs": [],
   "source": [
    "import pandas as pd\n",
    "df=pd.read_csv('https://s3-eu-west-1.amazonaws.com/ih-materials/uploads/data-static/data/module-2/rate_by_city.csv')"
   ]
  },
  {
   "cell_type": "code",
   "execution_count": 2,
   "metadata": {},
   "outputs": [
    {
     "data": {
      "text/html": [
       "<div>\n",
       "<style scoped>\n",
       "    .dataframe tbody tr th:only-of-type {\n",
       "        vertical-align: middle;\n",
       "    }\n",
       "\n",
       "    .dataframe tbody tr th {\n",
       "        vertical-align: top;\n",
       "    }\n",
       "\n",
       "    .dataframe thead th {\n",
       "        text-align: right;\n",
       "    }\n",
       "</style>\n",
       "<table border=\"1\" class=\"dataframe\">\n",
       "  <thead>\n",
       "    <tr style=\"text-align: right;\">\n",
       "      <th></th>\n",
       "      <th>Rate</th>\n",
       "      <th>City</th>\n",
       "    </tr>\n",
       "  </thead>\n",
       "  <tbody>\n",
       "    <tr>\n",
       "      <th>0</th>\n",
       "      <td>13.75</td>\n",
       "      <td>1</td>\n",
       "    </tr>\n",
       "    <tr>\n",
       "      <th>1</th>\n",
       "      <td>13.75</td>\n",
       "      <td>1</td>\n",
       "    </tr>\n",
       "    <tr>\n",
       "      <th>2</th>\n",
       "      <td>13.50</td>\n",
       "      <td>1</td>\n",
       "    </tr>\n",
       "    <tr>\n",
       "      <th>3</th>\n",
       "      <td>13.50</td>\n",
       "      <td>1</td>\n",
       "    </tr>\n",
       "    <tr>\n",
       "      <th>4</th>\n",
       "      <td>13.00</td>\n",
       "      <td>1</td>\n",
       "    </tr>\n",
       "  </tbody>\n",
       "</table>\n",
       "</div>"
      ],
      "text/plain": [
       "    Rate  City\n",
       "0  13.75     1\n",
       "1  13.75     1\n",
       "2  13.50     1\n",
       "3  13.50     1\n",
       "4  13.00     1"
      ]
     },
     "execution_count": 2,
     "metadata": {},
     "output_type": "execute_result"
    }
   ],
   "source": [
    "df.head()"
   ]
  },
  {
   "cell_type": "code",
   "execution_count": 3,
   "metadata": {},
   "outputs": [],
   "source": [
    "from scipy.stats import f_oneway"
   ]
  },
  {
   "cell_type": "code",
   "execution_count": 4,
   "metadata": {},
   "outputs": [
    {
     "data": {
      "text/plain": [
       "(54, 2)"
      ]
     },
     "execution_count": 4,
     "metadata": {},
     "output_type": "execute_result"
    }
   ],
   "source": [
    "df.shape"
   ]
  },
  {
   "cell_type": "code",
   "execution_count": 6,
   "metadata": {},
   "outputs": [],
   "source": [
    "df['city_count']=df.groupby('City').cumcount()"
   ]
  },
  {
   "cell_type": "code",
   "execution_count": 8,
   "metadata": {},
   "outputs": [],
   "source": [
    "df_pivot=df.pivot(index='city_count',columns='City',values='Rate')"
   ]
  },
  {
   "cell_type": "code",
   "execution_count": 14,
   "metadata": {},
   "outputs": [],
   "source": [
    "df_pivot.columns=['City_'+str(i) for i in df_pivot.columns]"
   ]
  },
  {
   "cell_type": "code",
   "execution_count": 15,
   "metadata": {},
   "outputs": [
    {
     "data": {
      "text/html": [
       "<div>\n",
       "<style scoped>\n",
       "    .dataframe tbody tr th:only-of-type {\n",
       "        vertical-align: middle;\n",
       "    }\n",
       "\n",
       "    .dataframe tbody tr th {\n",
       "        vertical-align: top;\n",
       "    }\n",
       "\n",
       "    .dataframe thead th {\n",
       "        text-align: right;\n",
       "    }\n",
       "</style>\n",
       "<table border=\"1\" class=\"dataframe\">\n",
       "  <thead>\n",
       "    <tr style=\"text-align: right;\">\n",
       "      <th></th>\n",
       "      <th>City_1</th>\n",
       "      <th>City_2</th>\n",
       "      <th>City_3</th>\n",
       "      <th>City_4</th>\n",
       "      <th>City_5</th>\n",
       "      <th>City_6</th>\n",
       "    </tr>\n",
       "    <tr>\n",
       "      <th>city_count</th>\n",
       "      <th></th>\n",
       "      <th></th>\n",
       "      <th></th>\n",
       "      <th></th>\n",
       "      <th></th>\n",
       "      <th></th>\n",
       "    </tr>\n",
       "  </thead>\n",
       "  <tbody>\n",
       "    <tr>\n",
       "      <th>0</th>\n",
       "      <td>13.75</td>\n",
       "      <td>14.25</td>\n",
       "      <td>14.00</td>\n",
       "      <td>15.00</td>\n",
       "      <td>14.50</td>\n",
       "      <td>13.50</td>\n",
       "    </tr>\n",
       "    <tr>\n",
       "      <th>1</th>\n",
       "      <td>13.75</td>\n",
       "      <td>13.00</td>\n",
       "      <td>14.00</td>\n",
       "      <td>14.00</td>\n",
       "      <td>14.00</td>\n",
       "      <td>12.25</td>\n",
       "    </tr>\n",
       "    <tr>\n",
       "      <th>2</th>\n",
       "      <td>13.50</td>\n",
       "      <td>12.75</td>\n",
       "      <td>13.51</td>\n",
       "      <td>13.75</td>\n",
       "      <td>14.00</td>\n",
       "      <td>12.25</td>\n",
       "    </tr>\n",
       "    <tr>\n",
       "      <th>3</th>\n",
       "      <td>13.50</td>\n",
       "      <td>12.50</td>\n",
       "      <td>13.50</td>\n",
       "      <td>13.59</td>\n",
       "      <td>13.90</td>\n",
       "      <td>12.00</td>\n",
       "    </tr>\n",
       "    <tr>\n",
       "      <th>4</th>\n",
       "      <td>13.00</td>\n",
       "      <td>12.50</td>\n",
       "      <td>13.50</td>\n",
       "      <td>13.25</td>\n",
       "      <td>13.75</td>\n",
       "      <td>12.00</td>\n",
       "    </tr>\n",
       "    <tr>\n",
       "      <th>5</th>\n",
       "      <td>13.00</td>\n",
       "      <td>12.40</td>\n",
       "      <td>13.25</td>\n",
       "      <td>12.97</td>\n",
       "      <td>13.25</td>\n",
       "      <td>12.00</td>\n",
       "    </tr>\n",
       "    <tr>\n",
       "      <th>6</th>\n",
       "      <td>13.00</td>\n",
       "      <td>12.30</td>\n",
       "      <td>13.00</td>\n",
       "      <td>12.50</td>\n",
       "      <td>13.00</td>\n",
       "      <td>12.00</td>\n",
       "    </tr>\n",
       "    <tr>\n",
       "      <th>7</th>\n",
       "      <td>12.75</td>\n",
       "      <td>11.90</td>\n",
       "      <td>12.50</td>\n",
       "      <td>12.25</td>\n",
       "      <td>12.50</td>\n",
       "      <td>11.90</td>\n",
       "    </tr>\n",
       "    <tr>\n",
       "      <th>8</th>\n",
       "      <td>12.50</td>\n",
       "      <td>11.90</td>\n",
       "      <td>12.50</td>\n",
       "      <td>11.89</td>\n",
       "      <td>12.45</td>\n",
       "      <td>11.90</td>\n",
       "    </tr>\n",
       "  </tbody>\n",
       "</table>\n",
       "</div>"
      ],
      "text/plain": [
       "            City_1  City_2  City_3  City_4  City_5  City_6\n",
       "city_count                                                \n",
       "0            13.75   14.25   14.00   15.00   14.50   13.50\n",
       "1            13.75   13.00   14.00   14.00   14.00   12.25\n",
       "2            13.50   12.75   13.51   13.75   14.00   12.25\n",
       "3            13.50   12.50   13.50   13.59   13.90   12.00\n",
       "4            13.00   12.50   13.50   13.25   13.75   12.00\n",
       "5            13.00   12.40   13.25   12.97   13.25   12.00\n",
       "6            13.00   12.30   13.00   12.50   13.00   12.00\n",
       "7            12.75   11.90   12.50   12.25   12.50   11.90\n",
       "8            12.50   11.90   12.50   11.89   12.45   11.90"
      ]
     },
     "execution_count": 15,
     "metadata": {},
     "output_type": "execute_result"
    }
   ],
   "source": [
    "df_pivot"
   ]
  },
  {
   "cell_type": "code",
   "execution_count": 16,
   "metadata": {},
   "outputs": [
    {
     "data": {
      "text/plain": [
       "City_1    13.194444\n",
       "City_2    12.611111\n",
       "City_3    13.306667\n",
       "City_4    13.244444\n",
       "City_5    13.483333\n",
       "City_6    12.200000\n",
       "dtype: float64"
      ]
     },
     "execution_count": 16,
     "metadata": {},
     "output_type": "execute_result"
    }
   ],
   "source": [
    "df_pivot.mean()"
   ]
  },
  {
   "cell_type": "code",
   "execution_count": 35,
   "metadata": {},
   "outputs": [
    {
     "data": {
      "text/plain": [
       "F_onewayResult(statistic=4.8293848737024, pvalue=0.001174551414504048)"
      ]
     },
     "execution_count": 35,
     "metadata": {},
     "output_type": "execute_result"
    }
   ],
   "source": [
    "f_oneway(df_pivot.City_1,df_pivot.City_2,df_pivot.City_3,df_pivot.City_4,df_pivot.City_5,df_pivot.City_6)"
   ]
  },
  {
   "cell_type": "code",
   "execution_count": 34,
   "metadata": {},
   "outputs": [
    {
     "data": {
      "text/plain": [
       "F_onewayResult(statistic=0.05909131997668963, pvalue=0.9427573893060512)"
      ]
     },
     "execution_count": 34,
     "metadata": {},
     "output_type": "execute_result"
    }
   ],
   "source": [
    "f_oneway(df_pivot.City_1,df_pivot.City_3,df_pivot.City_4)"
   ]
  },
  {
   "cell_type": "code",
   "execution_count": 30,
   "metadata": {},
   "outputs": [],
   "source": [
    "import statsmodels.api as sm"
   ]
  },
  {
   "cell_type": "code",
   "execution_count": 31,
   "metadata": {},
   "outputs": [],
   "source": [
    "from statsmodels.formula.api import ols"
   ]
  },
  {
   "cell_type": "code",
   "execution_count": 32,
   "metadata": {},
   "outputs": [],
   "source": [
    "model=ols('Rate ~ C(City)',data=df).fit()"
   ]
  },
  {
   "cell_type": "code",
   "execution_count": 43,
   "metadata": {},
   "outputs": [
    {
     "data": {
      "text/html": [
       "<div>\n",
       "<style scoped>\n",
       "    .dataframe tbody tr th:only-of-type {\n",
       "        vertical-align: middle;\n",
       "    }\n",
       "\n",
       "    .dataframe tbody tr th {\n",
       "        vertical-align: top;\n",
       "    }\n",
       "\n",
       "    .dataframe thead th {\n",
       "        text-align: right;\n",
       "    }\n",
       "</style>\n",
       "<table border=\"1\" class=\"dataframe\">\n",
       "  <thead>\n",
       "    <tr style=\"text-align: right;\">\n",
       "      <th></th>\n",
       "      <th>sum_sq</th>\n",
       "      <th>df</th>\n",
       "      <th>F</th>\n",
       "      <th>PR(&gt;F)</th>\n",
       "    </tr>\n",
       "  </thead>\n",
       "  <tbody>\n",
       "    <tr>\n",
       "      <th>C(City)</th>\n",
       "      <td>10.945667</td>\n",
       "      <td>5.0</td>\n",
       "      <td>4.829385</td>\n",
       "      <td>0.001175</td>\n",
       "    </tr>\n",
       "    <tr>\n",
       "      <th>Residual</th>\n",
       "      <td>21.758133</td>\n",
       "      <td>48.0</td>\n",
       "      <td>NaN</td>\n",
       "      <td>NaN</td>\n",
       "    </tr>\n",
       "  </tbody>\n",
       "</table>\n",
       "</div>"
      ],
      "text/plain": [
       "             sum_sq    df         F    PR(>F)\n",
       "C(City)   10.945667   5.0  4.829385  0.001175\n",
       "Residual  21.758133  48.0       NaN       NaN"
      ]
     },
     "execution_count": 43,
     "metadata": {},
     "output_type": "execute_result"
    }
   ],
   "source": [
    "anova_table=sm.stats.anova_lm(model,typ=2)\n",
    "anova_table"
   ]
  },
  {
   "cell_type": "code",
   "execution_count": 37,
   "metadata": {},
   "outputs": [],
   "source": [
    "?sm.stats.anova_lm"
   ]
  },
  {
   "cell_type": "code",
   "execution_count": 36,
   "metadata": {},
   "outputs": [
    {
     "data": {
      "text/html": [
       "<table class=\"simpletable\">\n",
       "<caption>OLS Regression Results</caption>\n",
       "<tr>\n",
       "  <th>Dep. Variable:</th>          <td>Rate</td>       <th>  R-squared:         </th> <td>   0.335</td>\n",
       "</tr>\n",
       "<tr>\n",
       "  <th>Model:</th>                   <td>OLS</td>       <th>  Adj. R-squared:    </th> <td>   0.265</td>\n",
       "</tr>\n",
       "<tr>\n",
       "  <th>Method:</th>             <td>Least Squares</td>  <th>  F-statistic:       </th> <td>   4.829</td>\n",
       "</tr>\n",
       "<tr>\n",
       "  <th>Date:</th>             <td>Tue, 19 Nov 2019</td> <th>  Prob (F-statistic):</th>  <td>0.00117</td>\n",
       "</tr>\n",
       "<tr>\n",
       "  <th>Time:</th>                 <td>10:30:16</td>     <th>  Log-Likelihood:    </th> <td> -52.080</td>\n",
       "</tr>\n",
       "<tr>\n",
       "  <th>No. Observations:</th>      <td>    54</td>      <th>  AIC:               </th> <td>   116.2</td>\n",
       "</tr>\n",
       "<tr>\n",
       "  <th>Df Residuals:</th>          <td>    48</td>      <th>  BIC:               </th> <td>   128.1</td>\n",
       "</tr>\n",
       "<tr>\n",
       "  <th>Df Model:</th>              <td>     5</td>      <th>                     </th>     <td> </td>   \n",
       "</tr>\n",
       "<tr>\n",
       "  <th>Covariance Type:</th>      <td>nonrobust</td>    <th>                     </th>     <td> </td>   \n",
       "</tr>\n",
       "</table>\n",
       "<table class=\"simpletable\">\n",
       "<tr>\n",
       "        <td></td>          <th>coef</th>     <th>std err</th>      <th>t</th>      <th>P>|t|</th>  <th>[0.025</th>    <th>0.975]</th>  \n",
       "</tr>\n",
       "<tr>\n",
       "  <th>Intercept</th>    <td>   13.1944</td> <td>    0.224</td> <td>   58.793</td> <td> 0.000</td> <td>   12.743</td> <td>   13.646</td>\n",
       "</tr>\n",
       "<tr>\n",
       "  <th>C(City)[T.2]</th> <td>   -0.5833</td> <td>    0.317</td> <td>   -1.838</td> <td> 0.072</td> <td>   -1.221</td> <td>    0.055</td>\n",
       "</tr>\n",
       "<tr>\n",
       "  <th>C(City)[T.3]</th> <td>    0.1122</td> <td>    0.317</td> <td>    0.354</td> <td> 0.725</td> <td>   -0.526</td> <td>    0.750</td>\n",
       "</tr>\n",
       "<tr>\n",
       "  <th>C(City)[T.4]</th> <td>    0.0500</td> <td>    0.317</td> <td>    0.158</td> <td> 0.875</td> <td>   -0.588</td> <td>    0.688</td>\n",
       "</tr>\n",
       "<tr>\n",
       "  <th>C(City)[T.5]</th> <td>    0.2889</td> <td>    0.317</td> <td>    0.910</td> <td> 0.367</td> <td>   -0.349</td> <td>    0.927</td>\n",
       "</tr>\n",
       "<tr>\n",
       "  <th>C(City)[T.6]</th> <td>   -0.9944</td> <td>    0.317</td> <td>   -3.133</td> <td> 0.003</td> <td>   -1.633</td> <td>   -0.356</td>\n",
       "</tr>\n",
       "</table>\n",
       "<table class=\"simpletable\">\n",
       "<tr>\n",
       "  <th>Omnibus:</th>       <td> 3.616</td> <th>  Durbin-Watson:     </th> <td>   1.477</td>\n",
       "</tr>\n",
       "<tr>\n",
       "  <th>Prob(Omnibus):</th> <td> 0.164</td> <th>  Jarque-Bera (JB):  </th> <td>   2.624</td>\n",
       "</tr>\n",
       "<tr>\n",
       "  <th>Skew:</th>          <td> 0.487</td> <th>  Prob(JB):          </th> <td>   0.269</td>\n",
       "</tr>\n",
       "<tr>\n",
       "  <th>Kurtosis:</th>      <td> 3.466</td> <th>  Cond. No.          </th> <td>    6.85</td>\n",
       "</tr>\n",
       "</table><br/><br/>Warnings:<br/>[1] Standard Errors assume that the covariance matrix of the errors is correctly specified."
      ],
      "text/plain": [
       "<class 'statsmodels.iolib.summary.Summary'>\n",
       "\"\"\"\n",
       "                            OLS Regression Results                            \n",
       "==============================================================================\n",
       "Dep. Variable:                   Rate   R-squared:                       0.335\n",
       "Model:                            OLS   Adj. R-squared:                  0.265\n",
       "Method:                 Least Squares   F-statistic:                     4.829\n",
       "Date:                Tue, 19 Nov 2019   Prob (F-statistic):            0.00117\n",
       "Time:                        10:30:16   Log-Likelihood:                -52.080\n",
       "No. Observations:                  54   AIC:                             116.2\n",
       "Df Residuals:                      48   BIC:                             128.1\n",
       "Df Model:                           5                                         \n",
       "Covariance Type:            nonrobust                                         \n",
       "================================================================================\n",
       "                   coef    std err          t      P>|t|      [0.025      0.975]\n",
       "--------------------------------------------------------------------------------\n",
       "Intercept       13.1944      0.224     58.793      0.000      12.743      13.646\n",
       "C(City)[T.2]    -0.5833      0.317     -1.838      0.072      -1.221       0.055\n",
       "C(City)[T.3]     0.1122      0.317      0.354      0.725      -0.526       0.750\n",
       "C(City)[T.4]     0.0500      0.317      0.158      0.875      -0.588       0.688\n",
       "C(City)[T.5]     0.2889      0.317      0.910      0.367      -0.349       0.927\n",
       "C(City)[T.6]    -0.9944      0.317     -3.133      0.003      -1.633      -0.356\n",
       "==============================================================================\n",
       "Omnibus:                        3.616   Durbin-Watson:                   1.477\n",
       "Prob(Omnibus):                  0.164   Jarque-Bera (JB):                2.624\n",
       "Skew:                           0.487   Prob(JB):                        0.269\n",
       "Kurtosis:                       3.466   Cond. No.                         6.85\n",
       "==============================================================================\n",
       "\n",
       "Warnings:\n",
       "[1] Standard Errors assume that the covariance matrix of the errors is correctly specified.\n",
       "\"\"\""
      ]
     },
     "execution_count": 36,
     "metadata": {},
     "output_type": "execute_result"
    }
   ],
   "source": [
    "model.summary()"
   ]
  },
  {
   "cell_type": "code",
   "execution_count": null,
   "metadata": {},
   "outputs": [],
   "source": []
  },
  {
   "cell_type": "code",
   "execution_count": 44,
   "metadata": {},
   "outputs": [],
   "source": [
    "df=pd.read_csv(r'C:\\Users\\eldiy\\Documents\\GitHub\\data-labs-oct\\module-2\\lab-matplotlib-seaborn\\your-code\\Fitbit2.csv')"
   ]
  },
  {
   "cell_type": "code",
   "execution_count": 46,
   "metadata": {},
   "outputs": [
    {
     "data": {
      "text/html": [
       "<div>\n",
       "<style scoped>\n",
       "    .dataframe tbody tr th:only-of-type {\n",
       "        vertical-align: middle;\n",
       "    }\n",
       "\n",
       "    .dataframe tbody tr th {\n",
       "        vertical-align: top;\n",
       "    }\n",
       "\n",
       "    .dataframe thead th {\n",
       "        text-align: right;\n",
       "    }\n",
       "</style>\n",
       "<table border=\"1\" class=\"dataframe\">\n",
       "  <thead>\n",
       "    <tr style=\"text-align: right;\">\n",
       "      <th></th>\n",
       "      <th>Date</th>\n",
       "      <th>Calorie burned</th>\n",
       "      <th>Steps</th>\n",
       "      <th>Distance</th>\n",
       "      <th>Floors</th>\n",
       "      <th>Minutes Sedentary</th>\n",
       "      <th>Minutes Lightly Active</th>\n",
       "      <th>Minutes Fairly Active</th>\n",
       "      <th>Minutes Very Active</th>\n",
       "      <th>Activity Calories</th>\n",
       "      <th>...</th>\n",
       "      <th>Distance_miles</th>\n",
       "      <th>Days</th>\n",
       "      <th>Days_encoded</th>\n",
       "      <th>Work_or_Weekend</th>\n",
       "      <th>Hours Sleep</th>\n",
       "      <th>Sleep efficiency</th>\n",
       "      <th>Yesterday_sleep</th>\n",
       "      <th>Yesterday_sleep_efficiency</th>\n",
       "      <th>Months</th>\n",
       "      <th>Months_encoded</th>\n",
       "    </tr>\n",
       "  </thead>\n",
       "  <tbody>\n",
       "    <tr>\n",
       "      <th>0</th>\n",
       "      <td>2015-05-08</td>\n",
       "      <td>1934</td>\n",
       "      <td>905</td>\n",
       "      <td>0.65</td>\n",
       "      <td>0</td>\n",
       "      <td>1.355</td>\n",
       "      <td>46</td>\n",
       "      <td>0</td>\n",
       "      <td>0</td>\n",
       "      <td>1680</td>\n",
       "      <td>...</td>\n",
       "      <td>0.403891</td>\n",
       "      <td>Friday</td>\n",
       "      <td>4.0</td>\n",
       "      <td>1</td>\n",
       "      <td>6.400000</td>\n",
       "      <td>92.086331</td>\n",
       "      <td>0.000000</td>\n",
       "      <td>0.000000</td>\n",
       "      <td>May</td>\n",
       "      <td>5</td>\n",
       "    </tr>\n",
       "    <tr>\n",
       "      <th>1</th>\n",
       "      <td>2015-05-09</td>\n",
       "      <td>3631</td>\n",
       "      <td>18925</td>\n",
       "      <td>14.11</td>\n",
       "      <td>4</td>\n",
       "      <td>611.000</td>\n",
       "      <td>316</td>\n",
       "      <td>61</td>\n",
       "      <td>60</td>\n",
       "      <td>2248</td>\n",
       "      <td>...</td>\n",
       "      <td>8.767545</td>\n",
       "      <td>Saturday</td>\n",
       "      <td>5.0</td>\n",
       "      <td>0</td>\n",
       "      <td>7.566667</td>\n",
       "      <td>92.464358</td>\n",
       "      <td>6.400000</td>\n",
       "      <td>92.086331</td>\n",
       "      <td>May</td>\n",
       "      <td>5</td>\n",
       "    </tr>\n",
       "    <tr>\n",
       "      <th>2</th>\n",
       "      <td>2015-05-10</td>\n",
       "      <td>3204</td>\n",
       "      <td>14228</td>\n",
       "      <td>10.57</td>\n",
       "      <td>1</td>\n",
       "      <td>602.000</td>\n",
       "      <td>226</td>\n",
       "      <td>14</td>\n",
       "      <td>77</td>\n",
       "      <td>1719</td>\n",
       "      <td>...</td>\n",
       "      <td>6.567891</td>\n",
       "      <td>Sunday</td>\n",
       "      <td>6.0</td>\n",
       "      <td>0</td>\n",
       "      <td>6.450000</td>\n",
       "      <td>88.761468</td>\n",
       "      <td>7.566667</td>\n",
       "      <td>92.464358</td>\n",
       "      <td>May</td>\n",
       "      <td>5</td>\n",
       "    </tr>\n",
       "    <tr>\n",
       "      <th>3</th>\n",
       "      <td>2015-05-11</td>\n",
       "      <td>2673</td>\n",
       "      <td>6756</td>\n",
       "      <td>5.02</td>\n",
       "      <td>8</td>\n",
       "      <td>749.000</td>\n",
       "      <td>190</td>\n",
       "      <td>23</td>\n",
       "      <td>4</td>\n",
       "      <td>9620</td>\n",
       "      <td>...</td>\n",
       "      <td>3.119282</td>\n",
       "      <td>Monday</td>\n",
       "      <td>0.0</td>\n",
       "      <td>1</td>\n",
       "      <td>5.183333</td>\n",
       "      <td>88.857143</td>\n",
       "      <td>6.450000</td>\n",
       "      <td>88.761468</td>\n",
       "      <td>May</td>\n",
       "      <td>5</td>\n",
       "    </tr>\n",
       "    <tr>\n",
       "      <th>4</th>\n",
       "      <td>2015-05-12</td>\n",
       "      <td>2495</td>\n",
       "      <td>502</td>\n",
       "      <td>3.73</td>\n",
       "      <td>1</td>\n",
       "      <td>876.000</td>\n",
       "      <td>171</td>\n",
       "      <td>0</td>\n",
       "      <td>0</td>\n",
       "      <td>7360</td>\n",
       "      <td>...</td>\n",
       "      <td>2.317714</td>\n",
       "      <td>Tuesday</td>\n",
       "      <td>1.0</td>\n",
       "      <td>1</td>\n",
       "      <td>6.783333</td>\n",
       "      <td>82.892057</td>\n",
       "      <td>5.183333</td>\n",
       "      <td>88.857143</td>\n",
       "      <td>May</td>\n",
       "      <td>5</td>\n",
       "    </tr>\n",
       "  </tbody>\n",
       "</table>\n",
       "<p>5 rows × 24 columns</p>\n",
       "</div>"
      ],
      "text/plain": [
       "         Date  Calorie burned  Steps  Distance  Floors  Minutes Sedentary  \\\n",
       "0  2015-05-08            1934    905      0.65       0              1.355   \n",
       "1  2015-05-09            3631  18925     14.11       4            611.000   \n",
       "2  2015-05-10            3204  14228     10.57       1            602.000   \n",
       "3  2015-05-11            2673   6756      5.02       8            749.000   \n",
       "4  2015-05-12            2495    502      3.73       1            876.000   \n",
       "\n",
       "   Minutes Lightly Active  Minutes Fairly Active  Minutes Very Active  \\\n",
       "0                      46                      0                    0   \n",
       "1                     316                     61                   60   \n",
       "2                     226                     14                   77   \n",
       "3                     190                     23                    4   \n",
       "4                     171                      0                    0   \n",
       "\n",
       "   Activity Calories  ...  Distance_miles      Days  Days_encoded  \\\n",
       "0               1680  ...        0.403891    Friday           4.0   \n",
       "1               2248  ...        8.767545  Saturday           5.0   \n",
       "2               1719  ...        6.567891    Sunday           6.0   \n",
       "3               9620  ...        3.119282    Monday           0.0   \n",
       "4               7360  ...        2.317714   Tuesday           1.0   \n",
       "\n",
       "   Work_or_Weekend  Hours Sleep Sleep efficiency  Yesterday_sleep  \\\n",
       "0                1     6.400000        92.086331         0.000000   \n",
       "1                0     7.566667        92.464358         6.400000   \n",
       "2                0     6.450000        88.761468         7.566667   \n",
       "3                1     5.183333        88.857143         6.450000   \n",
       "4                1     6.783333        82.892057         5.183333   \n",
       "\n",
       "   Yesterday_sleep_efficiency  Months  Months_encoded  \n",
       "0                    0.000000     May               5  \n",
       "1                   92.086331     May               5  \n",
       "2                   92.464358     May               5  \n",
       "3                   88.761468     May               5  \n",
       "4                   88.857143     May               5  \n",
       "\n",
       "[5 rows x 24 columns]"
      ]
     },
     "execution_count": 46,
     "metadata": {},
     "output_type": "execute_result"
    }
   ],
   "source": [
    "df.head()"
   ]
  },
  {
   "cell_type": "code",
   "execution_count": 48,
   "metadata": {},
   "outputs": [
    {
     "data": {
      "text/plain": [
       "<matplotlib.axes._subplots.AxesSubplot at 0x1f7b1f7a780>"
      ]
     },
     "execution_count": 48,
     "metadata": {},
     "output_type": "execute_result"
    },
    {
     "data": {
      "image/png": "[encoded data removed]",
      "text/plain": [
       "<Figure size 432x288 with 1 Axes>"
      ]
     },
     "metadata": {
      "needs_background": "light"
     },
     "output_type": "display_data"
    }
   ],
   "source": [
    "import seaborn as sns\n",
    "sns.regplot(x='NumberOfAwakings',y='MinutesOfBeingAwake',data=df)"
   ]
  },
  {
   "cell_type": "code",
   "execution_count": 49,
   "metadata": {},
   "outputs": [],
   "source": [
    "from scipy.stats import linregress"
   ]
  },
  {
   "cell_type": "code",
   "execution_count": 51,
   "metadata": {},
   "outputs": [],
   "source": [
    "X=df.NumberOfAwakings\n",
    "y=df.MinutesOfBeingAwake\n",
    "slope,intercept,r_value,pvalue,std_error=linregress(X,y)"
   ]
  },
  {
   "cell_type": "code",
   "execution_count": 59,
   "metadata": {},
   "outputs": [
    {
     "data": {
      "text/plain": [
       "'MinutesOfBeingAwake = 1.44 + 1.64 * NumberOfAwakings'"
      ]
     },
     "execution_count": 59,
     "metadata": {},
     "output_type": "execute_result"
    }
   ],
   "source": [
    "f'MinutesOfBeingAwake = {round(intercept,2)} + {round(slope,2)} * NumberOfAwakings'"
   ]
  },
  {
   "cell_type": "code",
   "execution_count": 54,
   "metadata": {},
   "outputs": [
    {
     "data": {
      "text/plain": [
       "1.885191872908422e-189"
      ]
     },
     "execution_count": 54,
     "metadata": {},
     "output_type": "execute_result"
    }
   ],
   "source": [
    "pvalue # variable Number of Awakings is significant"
   ]
  },
  {
   "cell_type": "code",
   "execution_count": 55,
   "metadata": {},
   "outputs": [
    {
     "data": {
      "text/plain": [
       "0.9518168284473624"
      ]
     },
     "execution_count": 55,
     "metadata": {},
     "output_type": "execute_result"
    }
   ],
   "source": [
    "r_value # correlation between the actual data and prediction"
   ]
  },
  {
   "cell_type": "code",
   "execution_count": 58,
   "metadata": {},
   "outputs": [
    {
     "data": {
      "text/plain": [
       "0.9059552749155957"
      ]
     },
     "execution_count": 58,
     "metadata": {},
     "output_type": "execute_result"
    }
   ],
   "source": [
    "r_value**2 # r_squared of the model"
   ]
  },
  {
   "cell_type": "code",
   "execution_count": null,
   "metadata": {},
   "outputs": [],
   "source": []
  },
  {
   "cell_type": "code",
   "execution_count": 61,
   "metadata": {},
   "outputs": [
    {
     "data": {
      "text/html": [
       "<table class=\"simpletable\">\n",
       "<caption>OLS Regression Results</caption>\n",
       "<tr>\n",
       "  <th>Dep. Variable:</th>    <td>MinutesOfBeingAwake</td> <th>  R-squared (uncentered):</th>      <td>   0.971</td> \n",
       "</tr>\n",
       "<tr>\n",
       "  <th>Model:</th>                    <td>OLS</td>         <th>  Adj. R-squared (uncentered):</th> <td>   0.971</td> \n",
       "</tr>\n",
       "<tr>\n",
       "  <th>Method:</th>              <td>Least Squares</td>    <th>  F-statistic:       </th>          <td>1.218e+04</td>\n",
       "</tr>\n",
       "<tr>\n",
       "  <th>Date:</th>              <td>Tue, 19 Nov 2019</td>   <th>  Prob (F-statistic):</th>          <td>4.88e-283</td>\n",
       "</tr>\n",
       "<tr>\n",
       "  <th>Time:</th>                  <td>15:27:37</td>       <th>  Log-Likelihood:    </th>          <td> -1161.7</td> \n",
       "</tr>\n",
       "<tr>\n",
       "  <th>No. Observations:</th>       <td>   367</td>        <th>  AIC:               </th>          <td>   2325.</td> \n",
       "</tr>\n",
       "<tr>\n",
       "  <th>Df Residuals:</th>           <td>   366</td>        <th>  BIC:               </th>          <td>   2329.</td> \n",
       "</tr>\n",
       "<tr>\n",
       "  <th>Df Model:</th>               <td>     1</td>        <th>                     </th>              <td> </td>    \n",
       "</tr>\n",
       "<tr>\n",
       "  <th>Covariance Type:</th>       <td>nonrobust</td>      <th>                     </th>              <td> </td>    \n",
       "</tr>\n",
       "</table>\n",
       "<table class=\"simpletable\">\n",
       "<tr>\n",
       "          <td></td>            <th>coef</th>     <th>std err</th>      <th>t</th>      <th>P>|t|</th>  <th>[0.025</th>    <th>0.975]</th>  \n",
       "</tr>\n",
       "<tr>\n",
       "  <th>NumberOfAwakings</th> <td>    1.7022</td> <td>    0.015</td> <td>  110.383</td> <td> 0.000</td> <td>    1.672</td> <td>    1.733</td>\n",
       "</tr>\n",
       "</table>\n",
       "<table class=\"simpletable\">\n",
       "<tr>\n",
       "  <th>Omnibus:</th>       <td>13.367</td> <th>  Durbin-Watson:     </th> <td>   1.790</td>\n",
       "</tr>\n",
       "<tr>\n",
       "  <th>Prob(Omnibus):</th> <td> 0.001</td> <th>  Jarque-Bera (JB):  </th> <td>  28.053</td>\n",
       "</tr>\n",
       "<tr>\n",
       "  <th>Skew:</th>          <td> 0.092</td> <th>  Prob(JB):          </th> <td>8.10e-07</td>\n",
       "</tr>\n",
       "<tr>\n",
       "  <th>Kurtosis:</th>      <td> 4.342</td> <th>  Cond. No.          </th> <td>    1.00</td>\n",
       "</tr>\n",
       "</table><br/><br/>Warnings:<br/>[1] Standard Errors assume that the covariance matrix of the errors is correctly specified."
      ],
      "text/plain": [
       "<class 'statsmodels.iolib.summary.Summary'>\n",
       "\"\"\"\n",
       "                                 OLS Regression Results                                 \n",
       "========================================================================================\n",
       "Dep. Variable:     MinutesOfBeingAwake   R-squared (uncentered):                   0.971\n",
       "Model:                             OLS   Adj. R-squared (uncentered):              0.971\n",
       "Method:                  Least Squares   F-statistic:                          1.218e+04\n",
       "Date:                 Tue, 19 Nov 2019   Prob (F-statistic):                   4.88e-283\n",
       "Time:                         15:27:37   Log-Likelihood:                         -1161.7\n",
       "No. Observations:                  367   AIC:                                      2325.\n",
       "Df Residuals:                      366   BIC:                                      2329.\n",
       "Df Model:                            1                                                  \n",
       "Covariance Type:             nonrobust                                                  \n",
       "====================================================================================\n",
       "                       coef    std err          t      P>|t|      [0.025      0.975]\n",
       "------------------------------------------------------------------------------------\n",
       "NumberOfAwakings     1.7022      0.015    110.383      0.000       1.672       1.733\n",
       "==============================================================================\n",
       "Omnibus:                       13.367   Durbin-Watson:                   1.790\n",
       "Prob(Omnibus):                  0.001   Jarque-Bera (JB):               28.053\n",
       "Skew:                           0.092   Prob(JB):                     8.10e-07\n",
       "Kurtosis:                       4.342   Cond. No.                         1.00\n",
       "==============================================================================\n",
       "\n",
       "Warnings:\n",
       "[1] Standard Errors assume that the covariance matrix of the errors is correctly specified.\n",
       "\"\"\""
      ]
     },
     "execution_count": 61,
     "metadata": {},
     "output_type": "execute_result"
    }
   ],
   "source": [
    "model=sm.OLS(y,X)\n",
    "results=model.fit()\n",
    "results.summary()"
   ]
  },
  {
   "cell_type": "code",
   "execution_count": 69,
   "metadata": {},
   "outputs": [
    {
     "data": {
      "text/html": [
       "<table class=\"simpletable\">\n",
       "<caption>OLS Regression Results</caption>\n",
       "<tr>\n",
       "  <th>Dep. Variable:</th>    <td>MinutesOfBeingAwake</td> <th>  R-squared:         </th> <td>   0.914</td> \n",
       "</tr>\n",
       "<tr>\n",
       "  <th>Model:</th>                    <td>OLS</td>         <th>  Adj. R-squared:    </th> <td>   0.911</td> \n",
       "</tr>\n",
       "<tr>\n",
       "  <th>Method:</th>              <td>Least Squares</td>    <th>  F-statistic:       </th> <td>   290.3</td> \n",
       "</tr>\n",
       "<tr>\n",
       "  <th>Date:</th>              <td>Tue, 19 Nov 2019</td>   <th>  Prob (F-statistic):</th> <td>1.77e-179</td>\n",
       "</tr>\n",
       "<tr>\n",
       "  <th>Time:</th>                  <td>15:50:50</td>       <th>  Log-Likelihood:    </th> <td> -1140.7</td> \n",
       "</tr>\n",
       "<tr>\n",
       "  <th>No. Observations:</th>       <td>   367</td>        <th>  AIC:               </th> <td>   2309.</td> \n",
       "</tr>\n",
       "<tr>\n",
       "  <th>Df Residuals:</th>           <td>   353</td>        <th>  BIC:               </th> <td>   2364.</td> \n",
       "</tr>\n",
       "<tr>\n",
       "  <th>Df Model:</th>               <td>    13</td>        <th>                     </th>     <td> </td>    \n",
       "</tr>\n",
       "<tr>\n",
       "  <th>Covariance Type:</th>       <td>nonrobust</td>      <th>                     </th>     <td> </td>    \n",
       "</tr>\n",
       "</table>\n",
       "<table class=\"simpletable\">\n",
       "<tr>\n",
       "               <td></td>                 <th>coef</th>     <th>std err</th>      <th>t</th>      <th>P>|t|</th>  <th>[0.025</th>    <th>0.975]</th>  \n",
       "</tr>\n",
       "<tr>\n",
       "  <th>Intercept</th>                  <td>    5.5492</td> <td>    1.340</td> <td>    4.142</td> <td> 0.000</td> <td>    2.914</td> <td>    8.184</td>\n",
       "</tr>\n",
       "<tr>\n",
       "  <th>Months[T.August]</th>           <td>   -4.7582</td> <td>    1.414</td> <td>   -3.364</td> <td> 0.001</td> <td>   -7.540</td> <td>   -1.977</td>\n",
       "</tr>\n",
       "<tr>\n",
       "  <th>Months[T.December]</th>         <td>   -5.4653</td> <td>    1.427</td> <td>   -3.830</td> <td> 0.000</td> <td>   -8.271</td> <td>   -2.659</td>\n",
       "</tr>\n",
       "<tr>\n",
       "  <th>Months[T.February]</th>         <td>   -4.6044</td> <td>    1.433</td> <td>   -3.214</td> <td> 0.001</td> <td>   -7.422</td> <td>   -1.787</td>\n",
       "</tr>\n",
       "<tr>\n",
       "  <th>Months[T.January]</th>          <td>   -3.7960</td> <td>    1.415</td> <td>   -2.682</td> <td> 0.008</td> <td>   -6.579</td> <td>   -1.013</td>\n",
       "</tr>\n",
       "<tr>\n",
       "  <th>Months[T.July]</th>             <td>   -0.4155</td> <td>    1.417</td> <td>   -0.293</td> <td> 0.769</td> <td>   -3.202</td> <td>    2.371</td>\n",
       "</tr>\n",
       "<tr>\n",
       "  <th>Months[T.June]</th>             <td>   -2.1388</td> <td>    1.427</td> <td>   -1.499</td> <td> 0.135</td> <td>   -4.945</td> <td>    0.667</td>\n",
       "</tr>\n",
       "<tr>\n",
       "  <th>Months[T.March]</th>            <td>   -4.8842</td> <td>    1.425</td> <td>   -3.427</td> <td> 0.001</td> <td>   -7.687</td> <td>   -2.081</td>\n",
       "</tr>\n",
       "<tr>\n",
       "  <th>Months[T.May]</th>              <td>   -4.5936</td> <td>    1.417</td> <td>   -3.242</td> <td> 0.001</td> <td>   -7.380</td> <td>   -1.807</td>\n",
       "</tr>\n",
       "<tr>\n",
       "  <th>Months[T.November]</th>         <td>   -3.9770</td> <td>    1.439</td> <td>   -2.763</td> <td> 0.006</td> <td>   -6.808</td> <td>   -1.146</td>\n",
       "</tr>\n",
       "<tr>\n",
       "  <th>Months[T.October]</th>          <td>   -4.3926</td> <td>    1.433</td> <td>   -3.065</td> <td> 0.002</td> <td>   -7.211</td> <td>   -1.574</td>\n",
       "</tr>\n",
       "<tr>\n",
       "  <th>Months[T.September]</th>        <td>   -4.7993</td> <td>    1.438</td> <td>   -3.338</td> <td> 0.001</td> <td>   -7.627</td> <td>   -1.971</td>\n",
       "</tr>\n",
       "<tr>\n",
       "  <th>NumberOfAwakings</th>           <td>    1.6269</td> <td>    0.028</td> <td>   58.296</td> <td> 0.000</td> <td>    1.572</td> <td>    1.682</td>\n",
       "</tr>\n",
       "<tr>\n",
       "  <th>Yesterday_sleep_efficiency</th> <td>   -0.0030</td> <td>    0.009</td> <td>   -0.336</td> <td> 0.737</td> <td>   -0.021</td> <td>    0.015</td>\n",
       "</tr>\n",
       "</table>\n",
       "<table class=\"simpletable\">\n",
       "<tr>\n",
       "  <th>Omnibus:</th>       <td> 7.936</td> <th>  Durbin-Watson:     </th> <td>   2.007</td>\n",
       "</tr>\n",
       "<tr>\n",
       "  <th>Prob(Omnibus):</th> <td> 0.019</td> <th>  Jarque-Bera (JB):  </th> <td>  10.222</td>\n",
       "</tr>\n",
       "<tr>\n",
       "  <th>Skew:</th>          <td> 0.193</td> <th>  Prob(JB):          </th> <td> 0.00603</td>\n",
       "</tr>\n",
       "<tr>\n",
       "  <th>Kurtosis:</th>      <td> 3.721</td> <th>  Cond. No.          </th> <td>1.07e+03</td>\n",
       "</tr>\n",
       "</table><br/><br/>Warnings:<br/>[1] Standard Errors assume that the covariance matrix of the errors is correctly specified.<br/>[2] The condition number is large, 1.07e+03. This might indicate that there are<br/>strong multicollinearity or other numerical problems."
      ],
      "text/plain": [
       "<class 'statsmodels.iolib.summary.Summary'>\n",
       "\"\"\"\n",
       "                             OLS Regression Results                            \n",
       "===============================================================================\n",
       "Dep. Variable:     MinutesOfBeingAwake   R-squared:                       0.914\n",
       "Model:                             OLS   Adj. R-squared:                  0.911\n",
       "Method:                  Least Squares   F-statistic:                     290.3\n",
       "Date:                 Tue, 19 Nov 2019   Prob (F-statistic):          1.77e-179\n",
       "Time:                         15:50:50   Log-Likelihood:                -1140.7\n",
       "No. Observations:                  367   AIC:                             2309.\n",
       "Df Residuals:                      353   BIC:                             2364.\n",
       "Df Model:                           13                                         \n",
       "Covariance Type:             nonrobust                                         \n",
       "==============================================================================================\n",
       "                                 coef    std err          t      P>|t|      [0.025      0.975]\n",
       "----------------------------------------------------------------------------------------------\n",
       "Intercept                      5.5492      1.340      4.142      0.000       2.914       8.184\n",
       "Months[T.August]              -4.7582      1.414     -3.364      0.001      -7.540      -1.977\n",
       "Months[T.December]            -5.4653      1.427     -3.830      0.000      -8.271      -2.659\n",
       "Months[T.February]            -4.6044      1.433     -3.214      0.001      -7.422      -1.787\n",
       "Months[T.January]             -3.7960      1.415     -2.682      0.008      -6.579      -1.013\n",
       "Months[T.July]                -0.4155      1.417     -0.293      0.769      -3.202       2.371\n",
       "Months[T.June]                -2.1388      1.427     -1.499      0.135      -4.945       0.667\n",
       "Months[T.March]               -4.8842      1.425     -3.427      0.001      -7.687      -2.081\n",
       "Months[T.May]                 -4.5936      1.417     -3.242      0.001      -7.380      -1.807\n",
       "Months[T.November]            -3.9770      1.439     -2.763      0.006      -6.808      -1.146\n",
       "Months[T.October]             -4.3926      1.433     -3.065      0.002      -7.211      -1.574\n",
       "Months[T.September]           -4.7993      1.438     -3.338      0.001      -7.627      -1.971\n",
       "NumberOfAwakings               1.6269      0.028     58.296      0.000       1.572       1.682\n",
       "Yesterday_sleep_efficiency    -0.0030      0.009     -0.336      0.737      -0.021       0.015\n",
       "==============================================================================\n",
       "Omnibus:                        7.936   Durbin-Watson:                   2.007\n",
       "Prob(Omnibus):                  0.019   Jarque-Bera (JB):               10.222\n",
       "Skew:                           0.193   Prob(JB):                      0.00603\n",
       "Kurtosis:                       3.721   Cond. No.                     1.07e+03\n",
       "==============================================================================\n",
       "\n",
       "Warnings:\n",
       "[1] Standard Errors assume that the covariance matrix of the errors is correctly specified.\n",
       "[2] The condition number is large, 1.07e+03. This might indicate that there are\n",
       "strong multicollinearity or other numerical problems.\n",
       "\"\"\""
      ]
     },
     "execution_count": 69,
     "metadata": {},
     "output_type": "execute_result"
    }
   ],
   "source": [
    "model=ols('MinutesOfBeingAwake ~ NumberOfAwakings+Yesterday_sleep_efficiency+Months',data=df)\n",
    "results=model.fit()\n",
    "results.summary()"
   ]
  },
  {
   "cell_type": "code",
   "execution_count": null,
   "metadata": {},
   "outputs": [],
   "source": [
    "pd.get_dummies(data=df,columns=[col1,col2,col3], drop_first=True)"
   ]
  },
  {
   "cell_type": "code",
   "execution_count": null,
   "metadata": {},
   "outputs": [],
   "source": [
    "y=df.col1\n",
    "X=df.drop(col1,axis=1)"
   ]
  },
  {
   "cell_type": "code",
   "execution_count": 70,
   "metadata": {},
   "outputs": [
    {
     "data": {
      "text/plain": [
       "0        May\n",
       "1        May\n",
       "2        May\n",
       "3        May\n",
       "4        May\n",
       "5        May\n",
       "6        May\n",
       "7        May\n",
       "8        May\n",
       "9        May\n",
       "10       May\n",
       "11       May\n",
       "12       May\n",
       "13       May\n",
       "14       May\n",
       "15       May\n",
       "16       May\n",
       "17       May\n",
       "18       May\n",
       "19       May\n",
       "20       May\n",
       "21       May\n",
       "22       May\n",
       "23       May\n",
       "24      June\n",
       "25      June\n",
       "26      June\n",
       "27      June\n",
       "28      June\n",
       "29      June\n",
       "       ...  \n",
       "337    April\n",
       "338    April\n",
       "339    April\n",
       "340    April\n",
       "341    April\n",
       "342    April\n",
       "343    April\n",
       "344    April\n",
       "345    April\n",
       "346    April\n",
       "347    April\n",
       "348    April\n",
       "349    April\n",
       "350    April\n",
       "351    April\n",
       "352    April\n",
       "353    April\n",
       "354    April\n",
       "355    April\n",
       "356    April\n",
       "357    April\n",
       "358    April\n",
       "359    April\n",
       "360      May\n",
       "361      May\n",
       "362      May\n",
       "363      May\n",
       "364      May\n",
       "365      May\n",
       "366      May\n",
       "Name: Months, Length: 367, dtype: object"
      ]
     },
     "execution_count": 70,
     "metadata": {},
     "output_type": "execute_result"
    }
   ],
   "source": [
    "df.Months"
   ]
  }
 ],
 "metadata": {
  "kernelspec": {
   "display_name": "Python 3",
   "language": "python",
   "name": "python3"
  },
  "language_info": {
   "codemirror_mode": {
    "name": "ipython",
    "version": 3
   },
   "file_extension": ".py",
   "mimetype": "text/x-python",
   "name": "python",
   "nbconvert_exporter": "python",
   "pygments_lexer": "ipython3",
   "version": "3.6.8"
  }
 },
 "nbformat": 4,
 "nbformat_minor": 2
}
