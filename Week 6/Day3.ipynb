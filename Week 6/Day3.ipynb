{
 "cells": [
  {
   "cell_type": "code",
   "execution_count": 1,
   "metadata": {},
   "outputs": [],
   "source": [
    "import pandas as pd\n",
    "import numpy as np\n",
    "import matplotlib.pyplot as plt\n",
    "import seaborn as sns\n",
    "import statsmodels.api as sm\n",
    "import statsmodels.formula.api as smf"
   ]
  },
  {
   "cell_type": "code",
   "execution_count": 2,
   "metadata": {},
   "outputs": [],
   "source": [
    "df=pd.read_csv('C:/Users/eldiy/Documents/Applications/old/Ironhack/test/exercises/data/housing_prices.csv')"
   ]
  },
  {
   "cell_type": "code",
   "execution_count": 3,
   "metadata": {},
   "outputs": [
    {
     "data": {
      "text/html": [
       "<div>\n",
       "<style scoped>\n",
       "    .dataframe tbody tr th:only-of-type {\n",
       "        vertical-align: middle;\n",
       "    }\n",
       "\n",
       "    .dataframe tbody tr th {\n",
       "        vertical-align: top;\n",
       "    }\n",
       "\n",
       "    .dataframe thead th {\n",
       "        text-align: right;\n",
       "    }\n",
       "</style>\n",
       "<table border=\"1\" class=\"dataframe\">\n",
       "  <thead>\n",
       "    <tr style=\"text-align: right;\">\n",
       "      <th></th>\n",
       "      <th>Id</th>\n",
       "      <th>MSSubClass</th>\n",
       "      <th>LotFrontage</th>\n",
       "      <th>LotArea</th>\n",
       "      <th>OverallQual</th>\n",
       "      <th>OverallCond</th>\n",
       "      <th>YearBuilt</th>\n",
       "      <th>YearRemodAdd</th>\n",
       "      <th>MasVnrArea</th>\n",
       "      <th>BsmtFinSF1</th>\n",
       "      <th>...</th>\n",
       "      <th>WoodDeckSF</th>\n",
       "      <th>OpenPorchSF</th>\n",
       "      <th>EnclosedPorch</th>\n",
       "      <th>3SsnPorch</th>\n",
       "      <th>ScreenPorch</th>\n",
       "      <th>PoolArea</th>\n",
       "      <th>MiscVal</th>\n",
       "      <th>MoSold</th>\n",
       "      <th>YrSold</th>\n",
       "      <th>SalePrice</th>\n",
       "    </tr>\n",
       "  </thead>\n",
       "  <tbody>\n",
       "    <tr>\n",
       "      <th>count</th>\n",
       "      <td>1460.000000</td>\n",
       "      <td>1460.000000</td>\n",
       "      <td>1201.000000</td>\n",
       "      <td>1460.000000</td>\n",
       "      <td>1460.000000</td>\n",
       "      <td>1460.000000</td>\n",
       "      <td>1460.000000</td>\n",
       "      <td>1460.000000</td>\n",
       "      <td>1452.000000</td>\n",
       "      <td>1460.000000</td>\n",
       "      <td>...</td>\n",
       "      <td>1460.000000</td>\n",
       "      <td>1460.000000</td>\n",
       "      <td>1460.000000</td>\n",
       "      <td>1460.000000</td>\n",
       "      <td>1460.000000</td>\n",
       "      <td>1460.000000</td>\n",
       "      <td>1460.000000</td>\n",
       "      <td>1460.000000</td>\n",
       "      <td>1460.000000</td>\n",
       "      <td>1460.000000</td>\n",
       "    </tr>\n",
       "    <tr>\n",
       "      <th>mean</th>\n",
       "      <td>730.500000</td>\n",
       "      <td>56.897260</td>\n",
       "      <td>70.049958</td>\n",
       "      <td>10516.828082</td>\n",
       "      <td>6.099315</td>\n",
       "      <td>5.575342</td>\n",
       "      <td>1971.267808</td>\n",
       "      <td>1984.865753</td>\n",
       "      <td>103.685262</td>\n",
       "      <td>443.639726</td>\n",
       "      <td>...</td>\n",
       "      <td>94.244521</td>\n",
       "      <td>46.660274</td>\n",
       "      <td>21.954110</td>\n",
       "      <td>3.409589</td>\n",
       "      <td>15.060959</td>\n",
       "      <td>2.758904</td>\n",
       "      <td>43.489041</td>\n",
       "      <td>6.321918</td>\n",
       "      <td>2007.815753</td>\n",
       "      <td>180921.195890</td>\n",
       "    </tr>\n",
       "    <tr>\n",
       "      <th>std</th>\n",
       "      <td>421.610009</td>\n",
       "      <td>42.300571</td>\n",
       "      <td>24.284752</td>\n",
       "      <td>9981.264932</td>\n",
       "      <td>1.382997</td>\n",
       "      <td>1.112799</td>\n",
       "      <td>30.202904</td>\n",
       "      <td>20.645407</td>\n",
       "      <td>181.066207</td>\n",
       "      <td>456.098091</td>\n",
       "      <td>...</td>\n",
       "      <td>125.338794</td>\n",
       "      <td>66.256028</td>\n",
       "      <td>61.119149</td>\n",
       "      <td>29.317331</td>\n",
       "      <td>55.757415</td>\n",
       "      <td>40.177307</td>\n",
       "      <td>496.123024</td>\n",
       "      <td>2.703626</td>\n",
       "      <td>1.328095</td>\n",
       "      <td>79442.502883</td>\n",
       "    </tr>\n",
       "    <tr>\n",
       "      <th>min</th>\n",
       "      <td>1.000000</td>\n",
       "      <td>20.000000</td>\n",
       "      <td>21.000000</td>\n",
       "      <td>1300.000000</td>\n",
       "      <td>1.000000</td>\n",
       "      <td>1.000000</td>\n",
       "      <td>1872.000000</td>\n",
       "      <td>1950.000000</td>\n",
       "      <td>0.000000</td>\n",
       "      <td>0.000000</td>\n",
       "      <td>...</td>\n",
       "      <td>0.000000</td>\n",
       "      <td>0.000000</td>\n",
       "      <td>0.000000</td>\n",
       "      <td>0.000000</td>\n",
       "      <td>0.000000</td>\n",
       "      <td>0.000000</td>\n",
       "      <td>0.000000</td>\n",
       "      <td>1.000000</td>\n",
       "      <td>2006.000000</td>\n",
       "      <td>34900.000000</td>\n",
       "    </tr>\n",
       "    <tr>\n",
       "      <th>25%</th>\n",
       "      <td>365.750000</td>\n",
       "      <td>20.000000</td>\n",
       "      <td>59.000000</td>\n",
       "      <td>7553.500000</td>\n",
       "      <td>5.000000</td>\n",
       "      <td>5.000000</td>\n",
       "      <td>1954.000000</td>\n",
       "      <td>1967.000000</td>\n",
       "      <td>0.000000</td>\n",
       "      <td>0.000000</td>\n",
       "      <td>...</td>\n",
       "      <td>0.000000</td>\n",
       "      <td>0.000000</td>\n",
       "      <td>0.000000</td>\n",
       "      <td>0.000000</td>\n",
       "      <td>0.000000</td>\n",
       "      <td>0.000000</td>\n",
       "      <td>0.000000</td>\n",
       "      <td>5.000000</td>\n",
       "      <td>2007.000000</td>\n",
       "      <td>129975.000000</td>\n",
       "    </tr>\n",
       "    <tr>\n",
       "      <th>50%</th>\n",
       "      <td>730.500000</td>\n",
       "      <td>50.000000</td>\n",
       "      <td>69.000000</td>\n",
       "      <td>9478.500000</td>\n",
       "      <td>6.000000</td>\n",
       "      <td>5.000000</td>\n",
       "      <td>1973.000000</td>\n",
       "      <td>1994.000000</td>\n",
       "      <td>0.000000</td>\n",
       "      <td>383.500000</td>\n",
       "      <td>...</td>\n",
       "      <td>0.000000</td>\n",
       "      <td>25.000000</td>\n",
       "      <td>0.000000</td>\n",
       "      <td>0.000000</td>\n",
       "      <td>0.000000</td>\n",
       "      <td>0.000000</td>\n",
       "      <td>0.000000</td>\n",
       "      <td>6.000000</td>\n",
       "      <td>2008.000000</td>\n",
       "      <td>163000.000000</td>\n",
       "    </tr>\n",
       "    <tr>\n",
       "      <th>75%</th>\n",
       "      <td>1095.250000</td>\n",
       "      <td>70.000000</td>\n",
       "      <td>80.000000</td>\n",
       "      <td>11601.500000</td>\n",
       "      <td>7.000000</td>\n",
       "      <td>6.000000</td>\n",
       "      <td>2000.000000</td>\n",
       "      <td>2004.000000</td>\n",
       "      <td>166.000000</td>\n",
       "      <td>712.250000</td>\n",
       "      <td>...</td>\n",
       "      <td>168.000000</td>\n",
       "      <td>68.000000</td>\n",
       "      <td>0.000000</td>\n",
       "      <td>0.000000</td>\n",
       "      <td>0.000000</td>\n",
       "      <td>0.000000</td>\n",
       "      <td>0.000000</td>\n",
       "      <td>8.000000</td>\n",
       "      <td>2009.000000</td>\n",
       "      <td>214000.000000</td>\n",
       "    </tr>\n",
       "    <tr>\n",
       "      <th>max</th>\n",
       "      <td>1460.000000</td>\n",
       "      <td>190.000000</td>\n",
       "      <td>313.000000</td>\n",
       "      <td>215245.000000</td>\n",
       "      <td>10.000000</td>\n",
       "      <td>9.000000</td>\n",
       "      <td>2010.000000</td>\n",
       "      <td>2010.000000</td>\n",
       "      <td>1600.000000</td>\n",
       "      <td>5644.000000</td>\n",
       "      <td>...</td>\n",
       "      <td>857.000000</td>\n",
       "      <td>547.000000</td>\n",
       "      <td>552.000000</td>\n",
       "      <td>508.000000</td>\n",
       "      <td>480.000000</td>\n",
       "      <td>738.000000</td>\n",
       "      <td>15500.000000</td>\n",
       "      <td>12.000000</td>\n",
       "      <td>2010.000000</td>\n",
       "      <td>755000.000000</td>\n",
       "    </tr>\n",
       "  </tbody>\n",
       "</table>\n",
       "<p>8 rows × 38 columns</p>\n",
       "</div>"
      ],
      "text/plain": [
       "                Id   MSSubClass  LotFrontage        LotArea  OverallQual  \\\n",
       "count  1460.000000  1460.000000  1201.000000    1460.000000  1460.000000   \n",
       "mean    730.500000    56.897260    70.049958   10516.828082     6.099315   \n",
       "std     421.610009    42.300571    24.284752    9981.264932     1.382997   \n",
       "min       1.000000    20.000000    21.000000    1300.000000     1.000000   \n",
       "25%     365.750000    20.000000    59.000000    7553.500000     5.000000   \n",
       "50%     730.500000    50.000000    69.000000    9478.500000     6.000000   \n",
       "75%    1095.250000    70.000000    80.000000   11601.500000     7.000000   \n",
       "max    1460.000000   190.000000   313.000000  215245.000000    10.000000   \n",
       "\n",
       "       OverallCond    YearBuilt  YearRemodAdd   MasVnrArea   BsmtFinSF1  ...  \\\n",
       "count  1460.000000  1460.000000   1460.000000  1452.000000  1460.000000  ...   \n",
       "mean      5.575342  1971.267808   1984.865753   103.685262   443.639726  ...   \n",
       "std       1.112799    30.202904     20.645407   181.066207   456.098091  ...   \n",
       "min       1.000000  1872.000000   1950.000000     0.000000     0.000000  ...   \n",
       "25%       5.000000  1954.000000   1967.000000     0.000000     0.000000  ...   \n",
       "50%       5.000000  1973.000000   1994.000000     0.000000   383.500000  ...   \n",
       "75%       6.000000  2000.000000   2004.000000   166.000000   712.250000  ...   \n",
       "max       9.000000  2010.000000   2010.000000  1600.000000  5644.000000  ...   \n",
       "\n",
       "        WoodDeckSF  OpenPorchSF  EnclosedPorch    3SsnPorch  ScreenPorch  \\\n",
       "count  1460.000000  1460.000000    1460.000000  1460.000000  1460.000000   \n",
       "mean     94.244521    46.660274      21.954110     3.409589    15.060959   \n",
       "std     125.338794    66.256028      61.119149    29.317331    55.757415   \n",
       "min       0.000000     0.000000       0.000000     0.000000     0.000000   \n",
       "25%       0.000000     0.000000       0.000000     0.000000     0.000000   \n",
       "50%       0.000000    25.000000       0.000000     0.000000     0.000000   \n",
       "75%     168.000000    68.000000       0.000000     0.000000     0.000000   \n",
       "max     857.000000   547.000000     552.000000   508.000000   480.000000   \n",
       "\n",
       "          PoolArea       MiscVal       MoSold       YrSold      SalePrice  \n",
       "count  1460.000000   1460.000000  1460.000000  1460.000000    1460.000000  \n",
       "mean      2.758904     43.489041     6.321918  2007.815753  180921.195890  \n",
       "std      40.177307    496.123024     2.703626     1.328095   79442.502883  \n",
       "min       0.000000      0.000000     1.000000  2006.000000   34900.000000  \n",
       "25%       0.000000      0.000000     5.000000  2007.000000  129975.000000  \n",
       "50%       0.000000      0.000000     6.000000  2008.000000  163000.000000  \n",
       "75%       0.000000      0.000000     8.000000  2009.000000  214000.000000  \n",
       "max     738.000000  15500.000000    12.000000  2010.000000  755000.000000  \n",
       "\n",
       "[8 rows x 38 columns]"
      ]
     },
     "execution_count": 3,
     "metadata": {},
     "output_type": "execute_result"
    }
   ],
   "source": [
    "df.describe()"
   ]
  },
  {
   "cell_type": "code",
   "execution_count": 4,
   "metadata": {},
   "outputs": [
    {
     "name": "stdout",
     "output_type": "stream",
     "text": [
      "<class 'pandas.core.frame.DataFrame'>\n",
      "RangeIndex: 1460 entries, 0 to 1459\n",
      "Data columns (total 81 columns):\n",
      "Id               1460 non-null int64\n",
      "MSSubClass       1460 non-null int64\n",
      "MSZoning         1460 non-null object\n",
      "LotFrontage      1201 non-null float64\n",
      "LotArea          1460 non-null int64\n",
      "Street           1460 non-null object\n",
      "Alley            91 non-null object\n",
      "LotShape         1460 non-null object\n",
      "LandContour      1460 non-null object\n",
      "Utilities        1460 non-null object\n",
      "LotConfig        1460 non-null object\n",
      "LandSlope        1460 non-null object\n",
      "Neighborhood     1460 non-null object\n",
      "Condition1       1460 non-null object\n",
      "Condition2       1460 non-null object\n",
      "BldgType         1460 non-null object\n",
      "HouseStyle       1460 non-null object\n",
      "OverallQual      1460 non-null int64\n",
      "OverallCond      1460 non-null int64\n",
      "YearBuilt        1460 non-null int64\n",
      "YearRemodAdd     1460 non-null int64\n",
      "RoofStyle        1460 non-null object\n",
      "RoofMatl         1460 non-null object\n",
      "Exterior1st      1460 non-null object\n",
      "Exterior2nd      1460 non-null object\n",
      "MasVnrType       1452 non-null object\n",
      "MasVnrArea       1452 non-null float64\n",
      "ExterQual        1460 non-null object\n",
      "ExterCond        1460 non-null object\n",
      "Foundation       1460 non-null object\n",
      "BsmtQual         1423 non-null object\n",
      "BsmtCond         1423 non-null object\n",
      "BsmtExposure     1422 non-null object\n",
      "BsmtFinType1     1423 non-null object\n",
      "BsmtFinSF1       1460 non-null int64\n",
      "BsmtFinType2     1422 non-null object\n",
      "BsmtFinSF2       1460 non-null int64\n",
      "BsmtUnfSF        1460 non-null int64\n",
      "TotalBsmtSF      1460 non-null int64\n",
      "Heating          1460 non-null object\n",
      "HeatingQC        1460 non-null object\n",
      "CentralAir       1460 non-null object\n",
      "Electrical       1459 non-null object\n",
      "1stFlrSF         1460 non-null int64\n",
      "2ndFlrSF         1460 non-null int64\n",
      "LowQualFinSF     1460 non-null int64\n",
      "GrLivArea        1460 non-null int64\n",
      "BsmtFullBath     1460 non-null int64\n",
      "BsmtHalfBath     1460 non-null int64\n",
      "FullBath         1460 non-null int64\n",
      "HalfBath         1460 non-null int64\n",
      "BedroomAbvGr     1460 non-null int64\n",
      "KitchenAbvGr     1460 non-null int64\n",
      "KitchenQual      1460 non-null object\n",
      "TotRmsAbvGrd     1460 non-null int64\n",
      "Functional       1460 non-null object\n",
      "Fireplaces       1460 non-null int64\n",
      "FireplaceQu      770 non-null object\n",
      "GarageType       1379 non-null object\n",
      "GarageYrBlt      1379 non-null float64\n",
      "GarageFinish     1379 non-null object\n",
      "GarageCars       1460 non-null int64\n",
      "GarageArea       1460 non-null int64\n",
      "GarageQual       1379 non-null object\n",
      "GarageCond       1379 non-null object\n",
      "PavedDrive       1460 non-null object\n",
      "WoodDeckSF       1460 non-null int64\n",
      "OpenPorchSF      1460 non-null int64\n",
      "EnclosedPorch    1460 non-null int64\n",
      "3SsnPorch        1460 non-null int64\n",
      "ScreenPorch      1460 non-null int64\n",
      "PoolArea         1460 non-null int64\n",
      "PoolQC           7 non-null object\n",
      "Fence            281 non-null object\n",
      "MiscFeature      54 non-null object\n",
      "MiscVal          1460 non-null int64\n",
      "MoSold           1460 non-null int64\n",
      "YrSold           1460 non-null int64\n",
      "SaleType         1460 non-null object\n",
      "SaleCondition    1460 non-null object\n",
      "SalePrice        1460 non-null int64\n",
      "dtypes: float64(3), int64(35), object(43)\n",
      "memory usage: 924.0+ KB\n"
     ]
    }
   ],
   "source": [
    "df.info()"
   ]
  },
  {
   "cell_type": "code",
   "execution_count": 5,
   "metadata": {},
   "outputs": [
    {
     "data": {
      "text/html": [
       "<div>\n",
       "<style scoped>\n",
       "    .dataframe tbody tr th:only-of-type {\n",
       "        vertical-align: middle;\n",
       "    }\n",
       "\n",
       "    .dataframe tbody tr th {\n",
       "        vertical-align: top;\n",
       "    }\n",
       "\n",
       "    .dataframe thead th {\n",
       "        text-align: right;\n",
       "    }\n",
       "</style>\n",
       "<table border=\"1\" class=\"dataframe\">\n",
       "  <thead>\n",
       "    <tr style=\"text-align: right;\">\n",
       "      <th></th>\n",
       "      <th>Id</th>\n",
       "      <th>MSSubClass</th>\n",
       "      <th>MSZoning</th>\n",
       "      <th>LotFrontage</th>\n",
       "      <th>LotArea</th>\n",
       "      <th>Street</th>\n",
       "      <th>Alley</th>\n",
       "      <th>LotShape</th>\n",
       "      <th>LandContour</th>\n",
       "      <th>Utilities</th>\n",
       "      <th>...</th>\n",
       "      <th>PoolArea</th>\n",
       "      <th>PoolQC</th>\n",
       "      <th>Fence</th>\n",
       "      <th>MiscFeature</th>\n",
       "      <th>MiscVal</th>\n",
       "      <th>MoSold</th>\n",
       "      <th>YrSold</th>\n",
       "      <th>SaleType</th>\n",
       "      <th>SaleCondition</th>\n",
       "      <th>SalePrice</th>\n",
       "    </tr>\n",
       "  </thead>\n",
       "  <tbody>\n",
       "    <tr>\n",
       "      <th>0</th>\n",
       "      <td>1</td>\n",
       "      <td>60</td>\n",
       "      <td>RL</td>\n",
       "      <td>65.0</td>\n",
       "      <td>8450</td>\n",
       "      <td>Pave</td>\n",
       "      <td>NaN</td>\n",
       "      <td>Reg</td>\n",
       "      <td>Lvl</td>\n",
       "      <td>AllPub</td>\n",
       "      <td>...</td>\n",
       "      <td>0</td>\n",
       "      <td>NaN</td>\n",
       "      <td>NaN</td>\n",
       "      <td>NaN</td>\n",
       "      <td>0</td>\n",
       "      <td>2</td>\n",
       "      <td>2008</td>\n",
       "      <td>WD</td>\n",
       "      <td>Normal</td>\n",
       "      <td>208500</td>\n",
       "    </tr>\n",
       "    <tr>\n",
       "      <th>1</th>\n",
       "      <td>2</td>\n",
       "      <td>20</td>\n",
       "      <td>RL</td>\n",
       "      <td>80.0</td>\n",
       "      <td>9600</td>\n",
       "      <td>Pave</td>\n",
       "      <td>NaN</td>\n",
       "      <td>Reg</td>\n",
       "      <td>Lvl</td>\n",
       "      <td>AllPub</td>\n",
       "      <td>...</td>\n",
       "      <td>0</td>\n",
       "      <td>NaN</td>\n",
       "      <td>NaN</td>\n",
       "      <td>NaN</td>\n",
       "      <td>0</td>\n",
       "      <td>5</td>\n",
       "      <td>2007</td>\n",
       "      <td>WD</td>\n",
       "      <td>Normal</td>\n",
       "      <td>181500</td>\n",
       "    </tr>\n",
       "    <tr>\n",
       "      <th>2</th>\n",
       "      <td>3</td>\n",
       "      <td>60</td>\n",
       "      <td>RL</td>\n",
       "      <td>68.0</td>\n",
       "      <td>11250</td>\n",
       "      <td>Pave</td>\n",
       "      <td>NaN</td>\n",
       "      <td>IR1</td>\n",
       "      <td>Lvl</td>\n",
       "      <td>AllPub</td>\n",
       "      <td>...</td>\n",
       "      <td>0</td>\n",
       "      <td>NaN</td>\n",
       "      <td>NaN</td>\n",
       "      <td>NaN</td>\n",
       "      <td>0</td>\n",
       "      <td>9</td>\n",
       "      <td>2008</td>\n",
       "      <td>WD</td>\n",
       "      <td>Normal</td>\n",
       "      <td>223500</td>\n",
       "    </tr>\n",
       "    <tr>\n",
       "      <th>3</th>\n",
       "      <td>4</td>\n",
       "      <td>70</td>\n",
       "      <td>RL</td>\n",
       "      <td>60.0</td>\n",
       "      <td>9550</td>\n",
       "      <td>Pave</td>\n",
       "      <td>NaN</td>\n",
       "      <td>IR1</td>\n",
       "      <td>Lvl</td>\n",
       "      <td>AllPub</td>\n",
       "      <td>...</td>\n",
       "      <td>0</td>\n",
       "      <td>NaN</td>\n",
       "      <td>NaN</td>\n",
       "      <td>NaN</td>\n",
       "      <td>0</td>\n",
       "      <td>2</td>\n",
       "      <td>2006</td>\n",
       "      <td>WD</td>\n",
       "      <td>Abnorml</td>\n",
       "      <td>140000</td>\n",
       "    </tr>\n",
       "    <tr>\n",
       "      <th>4</th>\n",
       "      <td>5</td>\n",
       "      <td>60</td>\n",
       "      <td>RL</td>\n",
       "      <td>84.0</td>\n",
       "      <td>14260</td>\n",
       "      <td>Pave</td>\n",
       "      <td>NaN</td>\n",
       "      <td>IR1</td>\n",
       "      <td>Lvl</td>\n",
       "      <td>AllPub</td>\n",
       "      <td>...</td>\n",
       "      <td>0</td>\n",
       "      <td>NaN</td>\n",
       "      <td>NaN</td>\n",
       "      <td>NaN</td>\n",
       "      <td>0</td>\n",
       "      <td>12</td>\n",
       "      <td>2008</td>\n",
       "      <td>WD</td>\n",
       "      <td>Normal</td>\n",
       "      <td>250000</td>\n",
       "    </tr>\n",
       "  </tbody>\n",
       "</table>\n",
       "<p>5 rows × 81 columns</p>\n",
       "</div>"
      ],
      "text/plain": [
       "   Id  MSSubClass MSZoning  LotFrontage  LotArea Street Alley LotShape  \\\n",
       "0   1          60       RL         65.0     8450   Pave   NaN      Reg   \n",
       "1   2          20       RL         80.0     9600   Pave   NaN      Reg   \n",
       "2   3          60       RL         68.0    11250   Pave   NaN      IR1   \n",
       "3   4          70       RL         60.0     9550   Pave   NaN      IR1   \n",
       "4   5          60       RL         84.0    14260   Pave   NaN      IR1   \n",
       "\n",
       "  LandContour Utilities  ... PoolArea PoolQC Fence MiscFeature MiscVal MoSold  \\\n",
       "0         Lvl    AllPub  ...        0    NaN   NaN         NaN       0      2   \n",
       "1         Lvl    AllPub  ...        0    NaN   NaN         NaN       0      5   \n",
       "2         Lvl    AllPub  ...        0    NaN   NaN         NaN       0      9   \n",
       "3         Lvl    AllPub  ...        0    NaN   NaN         NaN       0      2   \n",
       "4         Lvl    AllPub  ...        0    NaN   NaN         NaN       0     12   \n",
       "\n",
       "  YrSold  SaleType  SaleCondition  SalePrice  \n",
       "0   2008        WD         Normal     208500  \n",
       "1   2007        WD         Normal     181500  \n",
       "2   2008        WD         Normal     223500  \n",
       "3   2006        WD        Abnorml     140000  \n",
       "4   2008        WD         Normal     250000  \n",
       "\n",
       "[5 rows x 81 columns]"
      ]
     },
     "execution_count": 5,
     "metadata": {},
     "output_type": "execute_result"
    }
   ],
   "source": [
    "df.head()"
   ]
  },
  {
   "cell_type": "code",
   "execution_count": 6,
   "metadata": {},
   "outputs": [
    {
     "data": {
      "text/plain": [
       "Index(['Id', 'MSSubClass', 'MSZoning', 'LotFrontage', 'LotArea', 'Street',\n",
       "       'Alley', 'LotShape', 'LandContour', 'Utilities', 'LotConfig',\n",
       "       'LandSlope', 'Neighborhood', 'Condition1', 'Condition2', 'BldgType',\n",
       "       'HouseStyle', 'OverallQual', 'OverallCond', 'YearBuilt', 'YearRemodAdd',\n",
       "       'RoofStyle', 'RoofMatl', 'Exterior1st', 'Exterior2nd', 'MasVnrType',\n",
       "       'MasVnrArea', 'ExterQual', 'ExterCond', 'Foundation', 'BsmtQual',\n",
       "       'BsmtCond', 'BsmtExposure', 'BsmtFinType1', 'BsmtFinSF1',\n",
       "       'BsmtFinType2', 'BsmtFinSF2', 'BsmtUnfSF', 'TotalBsmtSF', 'Heating',\n",
       "       'HeatingQC', 'CentralAir', 'Electrical', '1stFlrSF', '2ndFlrSF',\n",
       "       'LowQualFinSF', 'GrLivArea', 'BsmtFullBath', 'BsmtHalfBath', 'FullBath',\n",
       "       'HalfBath', 'BedroomAbvGr', 'KitchenAbvGr', 'KitchenQual',\n",
       "       'TotRmsAbvGrd', 'Functional', 'Fireplaces', 'FireplaceQu', 'GarageType',\n",
       "       'GarageYrBlt', 'GarageFinish', 'GarageCars', 'GarageArea', 'GarageQual',\n",
       "       'GarageCond', 'PavedDrive', 'WoodDeckSF', 'OpenPorchSF',\n",
       "       'EnclosedPorch', '3SsnPorch', 'ScreenPorch', 'PoolArea', 'PoolQC',\n",
       "       'Fence', 'MiscFeature', 'MiscVal', 'MoSold', 'YrSold', 'SaleType',\n",
       "       'SaleCondition', 'SalePrice'],\n",
       "      dtype='object')"
      ]
     },
     "execution_count": 6,
     "metadata": {},
     "output_type": "execute_result"
    }
   ],
   "source": [
    "df.columns"
   ]
  },
  {
   "cell_type": "code",
   "execution_count": 9,
   "metadata": {},
   "outputs": [
    {
     "data": {
      "text/plain": [
       "LotFrontage      259\n",
       "Alley           1369\n",
       "MasVnrType         8\n",
       "MasVnrArea         8\n",
       "BsmtQual          37\n",
       "BsmtCond          37\n",
       "BsmtExposure      38\n",
       "BsmtFinType1      37\n",
       "BsmtFinType2      38\n",
       "Electrical         1\n",
       "FireplaceQu      690\n",
       "GarageType        81\n",
       "GarageYrBlt       81\n",
       "GarageFinish      81\n",
       "GarageQual        81\n",
       "GarageCond        81\n",
       "PoolQC          1453\n",
       "Fence           1179\n",
       "MiscFeature     1406\n",
       "dtype: int64"
      ]
     },
     "execution_count": 9,
     "metadata": {},
     "output_type": "execute_result"
    }
   ],
   "source": [
    "missing_df=df.isna().sum()\n",
    "missing_df[missing_df>0]"
   ]
  },
  {
   "cell_type": "code",
   "execution_count": 15,
   "metadata": {},
   "outputs": [],
   "source": [
    "df.drop('LotFrontage',axis=1,inplace=True)"
   ]
  },
  {
   "cell_type": "code",
   "execution_count": 17,
   "metadata": {},
   "outputs": [],
   "source": [
    "df.drop('Alley',axis=1,inplace=True)"
   ]
  },
  {
   "cell_type": "code",
   "execution_count": 22,
   "metadata": {},
   "outputs": [],
   "source": [
    "df[['FireplaceQu','GarageType','GarageYrBlt','GarageFinish','GarageQual','GarageCond','PoolQC']]=df[['FireplaceQu','GarageType','GarageYrBlt','GarageFinish','GarageQual','GarageCond','PoolQC']].fillna(0)"
   ]
  },
  {
   "cell_type": "code",
   "execution_count": 23,
   "metadata": {},
   "outputs": [
    {
     "data": {
      "text/plain": [
       "MasVnrType         8\n",
       "MasVnrArea         8\n",
       "BsmtQual          37\n",
       "BsmtCond          37\n",
       "BsmtExposure      38\n",
       "BsmtFinType1      37\n",
       "BsmtFinType2      38\n",
       "Electrical         1\n",
       "Fence           1179\n",
       "MiscFeature     1406\n",
       "dtype: int64"
      ]
     },
     "execution_count": 23,
     "metadata": {},
     "output_type": "execute_result"
    }
   ],
   "source": [
    "missing_df=df.isna().sum()\n",
    "missing_df[missing_df>0]"
   ]
  },
  {
   "cell_type": "code",
   "execution_count": 28,
   "metadata": {},
   "outputs": [],
   "source": [
    "df.Electrical=df.Electrical.fillna(df.Electrical.mode()[0])"
   ]
  },
  {
   "cell_type": "code",
   "execution_count": 29,
   "metadata": {},
   "outputs": [
    {
     "data": {
      "text/plain": [
       "MasVnrType         8\n",
       "MasVnrArea         8\n",
       "BsmtQual          37\n",
       "BsmtCond          37\n",
       "BsmtExposure      38\n",
       "BsmtFinType1      37\n",
       "BsmtFinType2      38\n",
       "Fence           1179\n",
       "MiscFeature     1406\n",
       "dtype: int64"
      ]
     },
     "execution_count": 29,
     "metadata": {},
     "output_type": "execute_result"
    }
   ],
   "source": [
    "missing_df=df.isna().sum()\n",
    "missing_df[missing_df>0]"
   ]
  },
  {
   "cell_type": "code",
   "execution_count": 40,
   "metadata": {},
   "outputs": [],
   "source": [
    "df.MasVnrType=df.MasVnrType.fillna('None')"
   ]
  },
  {
   "cell_type": "code",
   "execution_count": 41,
   "metadata": {},
   "outputs": [],
   "source": [
    "df.loc[df.MasVnrType=='None','MasVnrArea']=0"
   ]
  },
  {
   "cell_type": "code",
   "execution_count": 46,
   "metadata": {},
   "outputs": [],
   "source": [
    "df.loc[(df.MasVnrType!='None')&(df['MasVnrArea']==0),'MasVnrType']='None'"
   ]
  },
  {
   "cell_type": "code",
   "execution_count": 47,
   "metadata": {},
   "outputs": [
    {
     "data": {
      "text/plain": [
       "BsmtQual          37\n",
       "BsmtCond          37\n",
       "BsmtExposure      38\n",
       "BsmtFinType1      37\n",
       "BsmtFinType2      38\n",
       "Fence           1179\n",
       "MiscFeature     1406\n",
       "dtype: int64"
      ]
     },
     "execution_count": 47,
     "metadata": {},
     "output_type": "execute_result"
    }
   ],
   "source": [
    "missing_df=df.isna().sum()\n",
    "missing_df[missing_df>0]"
   ]
  },
  {
   "cell_type": "code",
   "execution_count": 55,
   "metadata": {},
   "outputs": [],
   "source": [
    "df.drop(df.loc[df.BsmtQual.isna(),'BsmtQual'].index,inplace=True)"
   ]
  },
  {
   "cell_type": "code",
   "execution_count": 56,
   "metadata": {},
   "outputs": [
    {
     "data": {
      "text/plain": [
       "BsmtExposure       1\n",
       "BsmtFinType2       1\n",
       "Fence           1146\n",
       "MiscFeature     1372\n",
       "dtype: int64"
      ]
     },
     "execution_count": 56,
     "metadata": {},
     "output_type": "execute_result"
    }
   ],
   "source": [
    "missing_df=df.isna().sum()\n",
    "missing_df[missing_df>0]"
   ]
  },
  {
   "cell_type": "code",
   "execution_count": 60,
   "metadata": {},
   "outputs": [],
   "source": [
    "df.loc[df.BsmtFinType2.isna(),'BsmtFinType2']=df.loc[df.BsmtFinType2.isna(),'BsmtFinType1']"
   ]
  },
  {
   "cell_type": "code",
   "execution_count": 62,
   "metadata": {},
   "outputs": [],
   "source": [
    "df.BsmtExposure=df.BsmtExposure.fillna(df.BsmtExposure.mode()[0])"
   ]
  },
  {
   "cell_type": "code",
   "execution_count": 63,
   "metadata": {},
   "outputs": [
    {
     "data": {
      "text/plain": [
       "Fence          1146\n",
       "MiscFeature    1372\n",
       "dtype: int64"
      ]
     },
     "execution_count": 63,
     "metadata": {},
     "output_type": "execute_result"
    }
   ],
   "source": [
    "missing_df=df.isna().sum()\n",
    "missing_df[missing_df>0]"
   ]
  },
  {
   "cell_type": "code",
   "execution_count": 67,
   "metadata": {},
   "outputs": [
    {
     "data": {
      "text/plain": [
       "79"
      ]
     },
     "execution_count": 67,
     "metadata": {},
     "output_type": "execute_result"
    }
   ],
   "source": [
    "df.shape[1]"
   ]
  },
  {
   "cell_type": "code",
   "execution_count": 71,
   "metadata": {},
   "outputs": [],
   "source": [
    "df_nm=pd.get_dummies(data=df,columns=['Fence','MiscFeature'])"
   ]
  },
  {
   "cell_type": "code",
   "execution_count": 73,
   "metadata": {},
   "outputs": [],
   "source": [
    "df_nm.set_index('Id',inplace=True)"
   ]
  },
  {
   "cell_type": "code",
   "execution_count": 74,
   "metadata": {},
   "outputs": [
    {
     "data": {
      "text/html": [
       "<div>\n",
       "<style scoped>\n",
       "    .dataframe tbody tr th:only-of-type {\n",
       "        vertical-align: middle;\n",
       "    }\n",
       "\n",
       "    .dataframe tbody tr th {\n",
       "        vertical-align: top;\n",
       "    }\n",
       "\n",
       "    .dataframe thead th {\n",
       "        text-align: right;\n",
       "    }\n",
       "</style>\n",
       "<table border=\"1\" class=\"dataframe\">\n",
       "  <thead>\n",
       "    <tr style=\"text-align: right;\">\n",
       "      <th></th>\n",
       "      <th>MSSubClass</th>\n",
       "      <th>MSZoning</th>\n",
       "      <th>LotArea</th>\n",
       "      <th>Street</th>\n",
       "      <th>LotShape</th>\n",
       "      <th>LandContour</th>\n",
       "      <th>Utilities</th>\n",
       "      <th>LotConfig</th>\n",
       "      <th>LandSlope</th>\n",
       "      <th>Neighborhood</th>\n",
       "      <th>...</th>\n",
       "      <th>SaleCondition</th>\n",
       "      <th>SalePrice</th>\n",
       "      <th>Fence_GdPrv</th>\n",
       "      <th>Fence_GdWo</th>\n",
       "      <th>Fence_MnPrv</th>\n",
       "      <th>Fence_MnWw</th>\n",
       "      <th>MiscFeature_Gar2</th>\n",
       "      <th>MiscFeature_Othr</th>\n",
       "      <th>MiscFeature_Shed</th>\n",
       "      <th>MiscFeature_TenC</th>\n",
       "    </tr>\n",
       "    <tr>\n",
       "      <th>Id</th>\n",
       "      <th></th>\n",
       "      <th></th>\n",
       "      <th></th>\n",
       "      <th></th>\n",
       "      <th></th>\n",
       "      <th></th>\n",
       "      <th></th>\n",
       "      <th></th>\n",
       "      <th></th>\n",
       "      <th></th>\n",
       "      <th></th>\n",
       "      <th></th>\n",
       "      <th></th>\n",
       "      <th></th>\n",
       "      <th></th>\n",
       "      <th></th>\n",
       "      <th></th>\n",
       "      <th></th>\n",
       "      <th></th>\n",
       "      <th></th>\n",
       "      <th></th>\n",
       "    </tr>\n",
       "  </thead>\n",
       "  <tbody>\n",
       "    <tr>\n",
       "      <th>1</th>\n",
       "      <td>60</td>\n",
       "      <td>RL</td>\n",
       "      <td>8450</td>\n",
       "      <td>Pave</td>\n",
       "      <td>Reg</td>\n",
       "      <td>Lvl</td>\n",
       "      <td>AllPub</td>\n",
       "      <td>Inside</td>\n",
       "      <td>Gtl</td>\n",
       "      <td>CollgCr</td>\n",
       "      <td>...</td>\n",
       "      <td>Normal</td>\n",
       "      <td>208500</td>\n",
       "      <td>0</td>\n",
       "      <td>0</td>\n",
       "      <td>0</td>\n",
       "      <td>0</td>\n",
       "      <td>0</td>\n",
       "      <td>0</td>\n",
       "      <td>0</td>\n",
       "      <td>0</td>\n",
       "    </tr>\n",
       "    <tr>\n",
       "      <th>2</th>\n",
       "      <td>20</td>\n",
       "      <td>RL</td>\n",
       "      <td>9600</td>\n",
       "      <td>Pave</td>\n",
       "      <td>Reg</td>\n",
       "      <td>Lvl</td>\n",
       "      <td>AllPub</td>\n",
       "      <td>FR2</td>\n",
       "      <td>Gtl</td>\n",
       "      <td>Veenker</td>\n",
       "      <td>...</td>\n",
       "      <td>Normal</td>\n",
       "      <td>181500</td>\n",
       "      <td>0</td>\n",
       "      <td>0</td>\n",
       "      <td>0</td>\n",
       "      <td>0</td>\n",
       "      <td>0</td>\n",
       "      <td>0</td>\n",
       "      <td>0</td>\n",
       "      <td>0</td>\n",
       "    </tr>\n",
       "    <tr>\n",
       "      <th>3</th>\n",
       "      <td>60</td>\n",
       "      <td>RL</td>\n",
       "      <td>11250</td>\n",
       "      <td>Pave</td>\n",
       "      <td>IR1</td>\n",
       "      <td>Lvl</td>\n",
       "      <td>AllPub</td>\n",
       "      <td>Inside</td>\n",
       "      <td>Gtl</td>\n",
       "      <td>CollgCr</td>\n",
       "      <td>...</td>\n",
       "      <td>Normal</td>\n",
       "      <td>223500</td>\n",
       "      <td>0</td>\n",
       "      <td>0</td>\n",
       "      <td>0</td>\n",
       "      <td>0</td>\n",
       "      <td>0</td>\n",
       "      <td>0</td>\n",
       "      <td>0</td>\n",
       "      <td>0</td>\n",
       "    </tr>\n",
       "    <tr>\n",
       "      <th>4</th>\n",
       "      <td>70</td>\n",
       "      <td>RL</td>\n",
       "      <td>9550</td>\n",
       "      <td>Pave</td>\n",
       "      <td>IR1</td>\n",
       "      <td>Lvl</td>\n",
       "      <td>AllPub</td>\n",
       "      <td>Corner</td>\n",
       "      <td>Gtl</td>\n",
       "      <td>Crawfor</td>\n",
       "      <td>...</td>\n",
       "      <td>Abnorml</td>\n",
       "      <td>140000</td>\n",
       "      <td>0</td>\n",
       "      <td>0</td>\n",
       "      <td>0</td>\n",
       "      <td>0</td>\n",
       "      <td>0</td>\n",
       "      <td>0</td>\n",
       "      <td>0</td>\n",
       "      <td>0</td>\n",
       "    </tr>\n",
       "    <tr>\n",
       "      <th>5</th>\n",
       "      <td>60</td>\n",
       "      <td>RL</td>\n",
       "      <td>14260</td>\n",
       "      <td>Pave</td>\n",
       "      <td>IR1</td>\n",
       "      <td>Lvl</td>\n",
       "      <td>AllPub</td>\n",
       "      <td>FR2</td>\n",
       "      <td>Gtl</td>\n",
       "      <td>NoRidge</td>\n",
       "      <td>...</td>\n",
       "      <td>Normal</td>\n",
       "      <td>250000</td>\n",
       "      <td>0</td>\n",
       "      <td>0</td>\n",
       "      <td>0</td>\n",
       "      <td>0</td>\n",
       "      <td>0</td>\n",
       "      <td>0</td>\n",
       "      <td>0</td>\n",
       "      <td>0</td>\n",
       "    </tr>\n",
       "  </tbody>\n",
       "</table>\n",
       "<p>5 rows × 84 columns</p>\n",
       "</div>"
      ],
      "text/plain": [
       "    MSSubClass MSZoning  LotArea Street LotShape LandContour Utilities  \\\n",
       "Id                                                                       \n",
       "1           60       RL     8450   Pave      Reg         Lvl    AllPub   \n",
       "2           20       RL     9600   Pave      Reg         Lvl    AllPub   \n",
       "3           60       RL    11250   Pave      IR1         Lvl    AllPub   \n",
       "4           70       RL     9550   Pave      IR1         Lvl    AllPub   \n",
       "5           60       RL    14260   Pave      IR1         Lvl    AllPub   \n",
       "\n",
       "   LotConfig LandSlope Neighborhood  ... SaleCondition SalePrice Fence_GdPrv  \\\n",
       "Id                                   ...                                       \n",
       "1     Inside       Gtl      CollgCr  ...        Normal    208500           0   \n",
       "2        FR2       Gtl      Veenker  ...        Normal    181500           0   \n",
       "3     Inside       Gtl      CollgCr  ...        Normal    223500           0   \n",
       "4     Corner       Gtl      Crawfor  ...       Abnorml    140000           0   \n",
       "5        FR2       Gtl      NoRidge  ...        Normal    250000           0   \n",
       "\n",
       "   Fence_GdWo  Fence_MnPrv  Fence_MnWw  MiscFeature_Gar2  MiscFeature_Othr  \\\n",
       "Id                                                                           \n",
       "1           0            0           0                 0                 0   \n",
       "2           0            0           0                 0                 0   \n",
       "3           0            0           0                 0                 0   \n",
       "4           0            0           0                 0                 0   \n",
       "5           0            0           0                 0                 0   \n",
       "\n",
       "   MiscFeature_Shed MiscFeature_TenC  \n",
       "Id                                    \n",
       "1                 0                0  \n",
       "2                 0                0  \n",
       "3                 0                0  \n",
       "4                 0                0  \n",
       "5                 0                0  \n",
       "\n",
       "[5 rows x 84 columns]"
      ]
     },
     "execution_count": 74,
     "metadata": {},
     "output_type": "execute_result"
    }
   ],
   "source": [
    "df_nm.head()"
   ]
  },
  {
   "cell_type": "code",
   "execution_count": 77,
   "metadata": {},
   "outputs": [
    {
     "name": "stdout",
     "output_type": "stream",
     "text": [
      "['LowQualFinSF', 'BsmtHalfBath', '3SsnPorch', 'ScreenPorch', 'PoolArea', 'MiscVal', 'Fence_GdPrv', 'Fence_GdWo', 'Fence_MnWw', 'MiscFeature_Gar2', 'MiscFeature_Othr', 'MiscFeature_Shed', 'MiscFeature_TenC']\n"
     ]
    }
   ],
   "source": [
    "low_variance=[]\n",
    "for col in df_nm._get_numeric_data():\n",
    "    minimum=min(df_nm[col])\n",
    "    ninety_perc=np.percentile(df_nm[col],90)\n",
    "    if ninety_perc==minimum:\n",
    "        low_variance.append(col)\n",
    "print(low_variance)"
   ]
  },
  {
   "cell_type": "code",
   "execution_count": 94,
   "metadata": {},
   "outputs": [],
   "source": [
    "df_nm.loc[df_nm.PoolArea>0,'PoolArea']=1"
   ]
  },
  {
   "cell_type": "code",
   "execution_count": 95,
   "metadata": {},
   "outputs": [
    {
     "data": {
      "text/plain": [
       "0    1416\n",
       "1       7\n",
       "Name: PoolArea, dtype: int64"
      ]
     },
     "execution_count": 95,
     "metadata": {},
     "output_type": "execute_result"
    }
   ],
   "source": [
    "df_nm.PoolArea.value_counts()"
   ]
  },
  {
   "cell_type": "code",
   "execution_count": 111,
   "metadata": {},
   "outputs": [
    {
     "name": "stdout",
     "output_type": "stream",
     "text": [
      "['MSZoning', 'Street', 'LandContour', 'Utilities', 'LotConfig', 'LandSlope', 'Neighborhood', 'Condition1', 'Condition2', 'BldgType', 'HouseStyle', 'RoofStyle', 'RoofMatl', 'Exterior1st', 'Exterior2nd', 'MasVnrType', 'MasVnrArea', 'ExterQual', 'ExterCond', 'Foundation', 'BsmtQual', 'BsmtCond', 'BsmtExposure', 'BsmtFinType1', 'BsmtFinType2', 'Heating', 'HeatingQC', 'CentralAir', 'Electrical', 'KitchenQual', 'Functional', 'FireplaceQu', 'GarageType', 'GarageFinish', 'GarageQual', 'GarageCond', 'PavedDrive', 'PoolQC', 'SaleType', 'SaleCondition']\n"
     ]
    }
   ],
   "source": [
    "print([i for i in df_nm.columns if i not in df_nm._get_numeric_data().columns.tolist()])"
   ]
  },
  {
   "cell_type": "code",
   "execution_count": 182,
   "metadata": {},
   "outputs": [
    {
     "data": {
      "text/plain": [
       "Normal     1166\n",
       "Partial     125\n",
       "Abnorml     100\n",
       "Family       20\n",
       "Alloca        9\n",
       "AdjLand       3\n",
       "Name: SaleCondition, dtype: int64"
      ]
     },
     "execution_count": 182,
     "metadata": {},
     "output_type": "execute_result"
    }
   ],
   "source": [
    "df.SaleCondition.value_counts()"
   ]
  },
  {
   "cell_type": "code",
   "execution_count": 174,
   "metadata": {},
   "outputs": [],
   "source": [
    "df_nm.GarageFinish=df_nm.GarageFinish.map({'Fin':1}).fillna(0)"
   ]
  },
  {
   "cell_type": "code",
   "execution_count": 169,
   "metadata": {},
   "outputs": [
    {
     "data": {
      "text/plain": [
       "dtype('int64')"
      ]
     },
     "execution_count": 169,
     "metadata": {},
     "output_type": "execute_result"
    }
   ],
   "source": [
    "df_nm.loc[df_nm.GarageType!=0,'GarageType']=1\n",
    "df_nm.GarageType.dtype"
   ]
  },
  {
   "cell_type": "code",
   "execution_count": 159,
   "metadata": {},
   "outputs": [],
   "source": [
    "df_nm.CentralAir=df_nm.CentralAir.map({'Y':1,'N':0})"
   ]
  },
  {
   "cell_type": "code",
   "execution_count": 156,
   "metadata": {},
   "outputs": [],
   "source": [
    "exposure_dict={'Gd':3,'Av':2,'Mn':1,'No':0}\n",
    "\n",
    "df_nm.BsmtExposure=df_nm.BsmtExposure.map(exposure_dict)"
   ]
  },
  {
   "cell_type": "code",
   "execution_count": 152,
   "metadata": {},
   "outputs": [],
   "source": [
    "qual_dict={'Ex':5,'Gd':4,'TA':3,'Fa':2,'Po':1}\n",
    "\n",
    "df_nm.ExterQual=df_nm.ExterQual.map(qual_dict)\n",
    "df_nm.BsmtQual=df_nm.BsmtQual.map(qual_dict)"
   ]
  },
  {
   "cell_type": "code",
   "execution_count": 180,
   "metadata": {},
   "outputs": [],
   "source": [
    "df_nm.PoolQC=df_nm.PoolQC.map(qual_dict).fillna(0)"
   ]
  },
  {
   "cell_type": "code",
   "execution_count": 162,
   "metadata": {},
   "outputs": [],
   "source": [
    "df_nm.KitchenQual=df_nm.KitchenQual.map(qual_dict)"
   ]
  },
  {
   "cell_type": "code",
   "execution_count": 176,
   "metadata": {},
   "outputs": [],
   "source": [
    "df_nm.GarageQual=df_nm.GarageQual.map(qual_dict).fillna(0)"
   ]
  },
  {
   "cell_type": "code",
   "execution_count": 165,
   "metadata": {},
   "outputs": [],
   "source": [
    "df_nm.FireplaceQu=df_nm.FireplaceQu.map(qual_dict)\n",
    "df_nm.FireplaceQu.fillna(0,inplace=True)"
   ]
  },
  {
   "cell_type": "code",
   "execution_count": 143,
   "metadata": {
    "scrolled": true
   },
   "outputs": [],
   "source": [
    "df_nm.MasVnrArea=df_nm.MasVnrArea.astype(float)"
   ]
  },
  {
   "cell_type": "code",
   "execution_count": 121,
   "metadata": {},
   "outputs": [],
   "source": [
    "df_nm.LandSlope=df_nm.LandSlope.map({'Gtl':0,'Mod':1,'Sev':2})"
   ]
  },
  {
   "cell_type": "code",
   "execution_count": 118,
   "metadata": {},
   "outputs": [],
   "source": [
    "df_nm.drop(df_nm[df_nm.Utilities=='NoSeWa'].index,inplace=True)"
   ]
  },
  {
   "cell_type": "code",
   "execution_count": 110,
   "metadata": {},
   "outputs": [],
   "source": [
    "df_nm.LotShape=df_nm.LotShape.map({'Reg':0,'IR1':1,'IR2':2,'IR3':3})"
   ]
  },
  {
   "cell_type": "code",
   "execution_count": 184,
   "metadata": {},
   "outputs": [],
   "source": [
    "df_nm.drop(['Street','LandContour','Utilities','Condition1', 'Condition2','HouseStyle','RoofStyle','RoofMatl',\n",
    "            'Exterior1st', 'Exterior2nd','ExterCond','BsmtCond','BsmtFinType1', 'BsmtFinType2','Heating','HeatingQC',\n",
    "            'Electrical','Functional','GarageCond','PavedDrive'],axis=1,inplace=True)"
   ]
  },
  {
   "cell_type": "code",
   "execution_count": 188,
   "metadata": {},
   "outputs": [],
   "source": [
    "df_dummies=pd.get_dummies(data=df_nm, columns=['MSZoning','LotConfig','Neighborhood','BldgType','MasVnrType','Foundation','SaleCondition','SaleType'], drop_first=True)"
   ]
  },
  {
   "cell_type": "code",
   "execution_count": 190,
   "metadata": {},
   "outputs": [
    {
     "data": {
      "text/plain": [
       "(1422, 112)"
      ]
     },
     "execution_count": 190,
     "metadata": {},
     "output_type": "execute_result"
    }
   ],
   "source": [
    "df_dummies.shape"
   ]
  },
  {
   "cell_type": "code",
   "execution_count": 192,
   "metadata": {},
   "outputs": [
    {
     "data": {
      "text/plain": [
       "(1422, 112)"
      ]
     },
     "execution_count": 192,
     "metadata": {},
     "output_type": "execute_result"
    }
   ],
   "source": [
    "df_dummies._get_numeric_data().shape"
   ]
  },
  {
   "cell_type": "code",
   "execution_count": 193,
   "metadata": {},
   "outputs": [
    {
     "name": "stdout",
     "output_type": "stream",
     "text": [
      "<class 'pandas.core.frame.DataFrame'>\n",
      "Int64Index: 1422 entries, 1 to 1460\n",
      "Columns: 112 entries, MSSubClass to SaleType_WD\n",
      "dtypes: float64(6), int64(42), uint8(64)\n",
      "memory usage: 633.2 KB\n"
     ]
    }
   ],
   "source": [
    "df_dummies.info()"
   ]
  },
  {
   "cell_type": "code",
   "execution_count": 198,
   "metadata": {},
   "outputs": [],
   "source": [
    "df_dummies.YearBuilt=2019-df_dummies.YearBuilt\n",
    "df_dummies.YearRemodAdd=2019-df_dummies.YearRemodAdd"
   ]
  },
  {
   "cell_type": "code",
   "execution_count": null,
   "metadata": {},
   "outputs": [],
   "source": []
  },
  {
   "cell_type": "code",
   "execution_count": null,
   "metadata": {},
   "outputs": [],
   "source": []
  },
  {
   "cell_type": "code",
   "execution_count": null,
   "metadata": {},
   "outputs": [],
   "source": []
  },
  {
   "cell_type": "code",
   "execution_count": 202,
   "metadata": {},
   "outputs": [
    {
     "data": {
      "text/plain": [
       "YearBuilt              -0.518535\n",
       "YearRemodAdd           -0.499997\n",
       "Neighborhood_NridgHt    0.401984\n",
       "GarageFinish            0.416221\n",
       "Fireplaces              0.461427\n",
       "MasVnrArea              0.473050\n",
       "Foundation_PConc        0.491768\n",
       "FireplaceQu             0.516541\n",
       "TotRmsAbvGrd            0.542919\n",
       "FullBath                0.573379\n",
       "TotalBsmtSF             0.609580\n",
       "1stFlrSF                0.614085\n",
       "GarageArea              0.622792\n",
       "GarageCars              0.643184\n",
       "BsmtQual                0.643915\n",
       "KitchenQual             0.655601\n",
       "ExterQual               0.677163\n",
       "GrLivArea               0.709287\n",
       "OverallQual             0.787943\n",
       "SalePrice               1.000000\n",
       "Name: SalePrice, dtype: float64"
      ]
     },
     "execution_count": 202,
     "metadata": {},
     "output_type": "execute_result"
    }
   ],
   "source": [
    "df_dummies.corr().SalePrice[abs(df_dummies.corr().SalePrice)>0.4].sort_values()"
   ]
  },
  {
   "cell_type": "code",
   "execution_count": 209,
   "metadata": {},
   "outputs": [
    {
     "data": {
      "text/plain": [
       "<seaborn.axisgrid.JointGrid at 0x235bcda9f98>"
      ]
     },
     "execution_count": 209,
     "metadata": {},
     "output_type": "execute_result"
    },
    {
     "data": {
      "image/png": "[encoded data removed]",
      "text/plain": [
       "<Figure size 432x432 with 3 Axes>"
      ]
     },
     "metadata": {
      "needs_background": "light"
     },
     "output_type": "display_data"
    }
   ],
   "source": [
    "sns.jointplot(y='SalePrice',x='Foundation_PConc',data=df_dummies, kind='reg')"
   ]
  },
  {
   "cell_type": "code",
   "execution_count": null,
   "metadata": {},
   "outputs": [],
   "source": []
  },
  {
   "cell_type": "code",
   "execution_count": 210,
   "metadata": {},
   "outputs": [],
   "source": [
    "y=df_dummies.SalePrice\n",
    "X=df_dummies.drop('SalePrice',axis=1)"
   ]
  },
  {
   "cell_type": "code",
   "execution_count": 215,
   "metadata": {
    "scrolled": false
   },
   "outputs": [
    {
     "name": "stderr",
     "output_type": "stream",
     "text": [
      "C:\\Users\\eldiy\\Anaconda3\\lib\\site-packages\\numpy\\core\\fromnumeric.py:2389: FutureWarning: Method .ptp is deprecated and will be removed in a future version. Use numpy.ptp instead.\n",
      "  return ptp(axis=axis, out=out, **kwargs)\n"
     ]
    }
   ],
   "source": [
    "from statsmodels.tools.tools import add_constant\n",
    "X=add_constant(X)"
   ]
  },
  {
   "cell_type": "code",
   "execution_count": 378,
   "metadata": {},
   "outputs": [],
   "source": [
    "#X=X.drop('LandSlope',axis=1)\n",
    "#X=X.drop('BsmtFinSF2',axis=1)\n",
    "#X=X.drop('EnclosedPorch',axis=1)\n",
    "#X=X.drop('OpenPorchSF',axis=1)\n",
    "#X=X.drop('Fence_GdPrv',axis=1)\n",
    "#X=X.drop('Fence_GdWo',axis=1)\n",
    "#X=X.drop('Fence_MnWw',axis=1)\n",
    "#X=X.drop('Fence_MnPrv',axis=1)\n",
    "#X=X.drop('YearRemodAdd',axis=1)\n",
    "#X=X.drop('BsmtFinSF1',axis=1)\n",
    "#X=X.drop('CentralAir',axis=1)\n",
    "#X=X.drop('MiscFeature_Othr',axis=1)\n",
    "#X=X.drop('LotConfig_Inside',axis=1)\n",
    "#X=X.drop('Neighborhood_Blueste',axis=1)\n",
    "#X=X.drop('BldgType_TwnhsE',axis=1)\n",
    "#X=X.drop('SaleCondition_Family',axis=1)\n",
    "#X=X.drop('SaleType_WD',axis=1)\n",
    "#X=X.drop('SaleType_ConLw',axis=1)\n",
    "#X=X.drop('Neighborhood_Timber',axis=1)\n",
    "#X=X.drop('Neighborhood_ClearCr',axis=1)\n",
    "#X=X.drop('TotalBsmtSF',axis=1)\n",
    "#X=X.drop('LowQualFinSF',axis=1)\n",
    "#X=X.drop('SaleCondition_Alloca',axis=1)\n",
    "#X=X.drop('2ndFlrSF',axis=1)\n",
    "#X=X.drop('FireplaceQu',axis=1)\n",
    "#X=X.drop('GarageArea',axis=1)\n",
    "#X=X.drop('SaleType_Oth',axis=1)\n",
    "#X=X.drop('SaleCondition_AdjLand',axis=1)\n",
    "#X=X.drop('Neighborhood_SawyerW',axis=1)\n",
    "#X=X.drop('LotShape',axis=1)\n",
    "#X=X.drop('1stFlrSF',axis=1)\n",
    "#X=X.drop('MiscFeature_Shed',axis=1)\n",
    "#X=X.drop('BsmtUnfSF',axis=1)\n",
    "#X=X.drop('HalfBath',axis=1)\n",
    "#X=X.drop('GarageType',axis=1)\n",
    "#X=X.drop('MiscVal',axis=1)\n",
    "#X=X.drop('MoSold',axis=1)\n",
    "#X=X.drop('YrSold',axis=1)\n",
    "#X=X.drop('MiscFeature_Gar2',axis=1)\n",
    "#X=X.drop('LotConfig_FR3',axis=1)\n",
    "#X=X.drop('LotConfig_FR2',axis=1)\n",
    "#X=X.drop('3SsnPorch',axis=1)\n",
    "#X=X.drop('Neighborhood_BrkSide',axis=1)\n",
    "#X=X.drop('Neighborhood_CollgCr',axis=1)\n",
    "#X=X.drop('Neighborhood_IDOTRR',axis=1)\n",
    "#X=X.drop('Neighborhood_Mitchel',axis=1)\n",
    "#X=X.drop('Neighborhood_NAmes',axis=1)\n",
    "#X=X.drop('Neighborhood_NWAmes',axis=1)\n",
    "#X=X.drop('Neighborhood_Sawyer',axis=1)\n",
    "#X=X.drop('Neighborhood_SWISU',axis=1)\n",
    "#X=X.drop('SaleType_ConLI',axis=1)\n",
    "#X=X.drop('SaleType_ConLD',axis=1)\n",
    "#X=X.drop('SaleCondition_Partial',axis=1)\n",
    "#X=X.drop('SaleType_CWD',axis=1)\n",
    "#X=X.drop('Foundation_Stone',axis=1)\n",
    "#X=X.drop('Foundation_Wood',axis=1)\n",
    "#X=X.drop('BldgType_Duplex',axis=1)\n",
    "#X=X.drop('BldgType_Twnhs',axis=1)\n",
    "#X=X.drop('Foundation_PConc',axis=1)\n",
    "#X=X.drop('Foundation_CBlock',axis=1)\n",
    "#X=X.drop('SaleType_Con',axis=1)\n",
    "#X=X.drop('Neighborhood_OldTown',axis=1)\n",
    "#X=X.drop('Neighborhood_Gilbert',axis=1)\n",
    "#X=X.drop('FullBath',axis=1)\n",
    "#X=X.drop('MasVnrType_BrkFace',axis=1)\n",
    "##X=X.drop('MasVnrType_Stone',axis=1)\n",
    "#X=X.drop('Neighborhood_MeadowV',axis=1)\n",
    "#X=X.drop('MiscFeature_TenC',axis=1)\n",
    "#X=X.drop('BsmtHalfBath',axis=1)\n",
    "#X=X.drop('MSZoning_RM',axis=1)\n",
    "#X=X.drop('MSZoning_FV',axis=1)\n",
    "#X=X.drop('MSZoning_RL',axis=1)\n",
    "X=X.drop('MSZoning_RH',axis=1)\n",
    "\n"
   ]
  },
  {
   "cell_type": "code",
   "execution_count": 379,
   "metadata": {
    "scrolled": false
   },
   "outputs": [
    {
     "data": {
      "text/html": [
       "<table class=\"simpletable\">\n",
       "<caption>OLS Regression Results</caption>\n",
       "<tr>\n",
       "  <th>Dep. Variable:</th>        <td>SalePrice</td>    <th>  R-squared:         </th> <td>   0.864</td> \n",
       "</tr>\n",
       "<tr>\n",
       "  <th>Model:</th>                   <td>OLS</td>       <th>  Adj. R-squared:    </th> <td>   0.860</td> \n",
       "</tr>\n",
       "<tr>\n",
       "  <th>Method:</th>             <td>Least Squares</td>  <th>  F-statistic:       </th> <td>   230.3</td> \n",
       "</tr>\n",
       "<tr>\n",
       "  <th>Date:</th>             <td>Wed, 20 Nov 2019</td> <th>  Prob (F-statistic):</th>  <td>  0.00</td>  \n",
       "</tr>\n",
       "<tr>\n",
       "  <th>Time:</th>                 <td>15:48:28</td>     <th>  Log-Likelihood:    </th> <td> -16645.</td> \n",
       "</tr>\n",
       "<tr>\n",
       "  <th>No. Observations:</th>      <td>  1422</td>      <th>  AIC:               </th> <td>3.337e+04</td>\n",
       "</tr>\n",
       "<tr>\n",
       "  <th>Df Residuals:</th>          <td>  1383</td>      <th>  BIC:               </th> <td>3.357e+04</td>\n",
       "</tr>\n",
       "<tr>\n",
       "  <th>Df Model:</th>              <td>    38</td>      <th>                     </th>     <td> </td>    \n",
       "</tr>\n",
       "<tr>\n",
       "  <th>Covariance Type:</th>      <td>nonrobust</td>    <th>                     </th>     <td> </td>    \n",
       "</tr>\n",
       "</table>\n",
       "<table class=\"simpletable\">\n",
       "<tr>\n",
       "            <td></td>              <th>coef</th>     <th>std err</th>      <th>t</th>      <th>P>|t|</th>  <th>[0.025</th>    <th>0.975]</th>  \n",
       "</tr>\n",
       "<tr>\n",
       "  <th>const</th>                <td>-7.317e+04</td> <td> 1.34e+04</td> <td>   -5.450</td> <td> 0.000</td> <td>-9.95e+04</td> <td>-4.68e+04</td>\n",
       "</tr>\n",
       "<tr>\n",
       "  <th>MSSubClass</th>           <td> -295.8174</td> <td>   24.572</td> <td>  -12.039</td> <td> 0.000</td> <td> -344.020</td> <td> -247.615</td>\n",
       "</tr>\n",
       "<tr>\n",
       "  <th>LotArea</th>              <td>    0.3063</td> <td>    0.089</td> <td>    3.439</td> <td> 0.001</td> <td>    0.132</td> <td>    0.481</td>\n",
       "</tr>\n",
       "<tr>\n",
       "  <th>OverallQual</th>          <td> 9657.2982</td> <td> 1129.856</td> <td>    8.547</td> <td> 0.000</td> <td> 7440.881</td> <td> 1.19e+04</td>\n",
       "</tr>\n",
       "<tr>\n",
       "  <th>OverallCond</th>          <td> 5050.6043</td> <td>  843.083</td> <td>    5.991</td> <td> 0.000</td> <td> 3396.745</td> <td> 6704.464</td>\n",
       "</tr>\n",
       "<tr>\n",
       "  <th>YearBuilt</th>            <td> -220.1197</td> <td>   49.184</td> <td>   -4.475</td> <td> 0.000</td> <td> -316.603</td> <td> -123.636</td>\n",
       "</tr>\n",
       "<tr>\n",
       "  <th>MasVnrArea</th>           <td>   27.1878</td> <td>    6.743</td> <td>    4.032</td> <td> 0.000</td> <td>   13.960</td> <td>   40.416</td>\n",
       "</tr>\n",
       "<tr>\n",
       "  <th>ExterQual</th>            <td> 5440.0834</td> <td> 2403.566</td> <td>    2.263</td> <td> 0.024</td> <td>  725.055</td> <td> 1.02e+04</td>\n",
       "</tr>\n",
       "<tr>\n",
       "  <th>BsmtQual</th>             <td> 8018.7457</td> <td> 2065.431</td> <td>    3.882</td> <td> 0.000</td> <td> 3967.029</td> <td> 1.21e+04</td>\n",
       "</tr>\n",
       "<tr>\n",
       "  <th>BsmtExposure</th>         <td> 7362.4892</td> <td>  886.535</td> <td>    8.305</td> <td> 0.000</td> <td> 5623.391</td> <td> 9101.587</td>\n",
       "</tr>\n",
       "<tr>\n",
       "  <th>GrLivArea</th>            <td>   44.7281</td> <td>    3.612</td> <td>   12.384</td> <td> 0.000</td> <td>   37.643</td> <td>   51.813</td>\n",
       "</tr>\n",
       "<tr>\n",
       "  <th>BsmtFullBath</th>         <td> 1.045e+04</td> <td> 1687.398</td> <td>    6.194</td> <td> 0.000</td> <td> 7142.021</td> <td> 1.38e+04</td>\n",
       "</tr>\n",
       "<tr>\n",
       "  <th>BedroomAbvGr</th>         <td>-3640.0920</td> <td> 1487.823</td> <td>   -2.447</td> <td> 0.015</td> <td>-6558.725</td> <td> -721.459</td>\n",
       "</tr>\n",
       "<tr>\n",
       "  <th>KitchenAbvGr</th>         <td>-1.046e+04</td> <td> 4828.783</td> <td>   -2.166</td> <td> 0.030</td> <td>-1.99e+04</td> <td> -987.180</td>\n",
       "</tr>\n",
       "<tr>\n",
       "  <th>KitchenQual</th>          <td> 8502.7213</td> <td> 1893.996</td> <td>    4.489</td> <td> 0.000</td> <td> 4787.307</td> <td> 1.22e+04</td>\n",
       "</tr>\n",
       "<tr>\n",
       "  <th>TotRmsAbvGrd</th>         <td> 3709.5395</td> <td> 1100.185</td> <td>    3.372</td> <td> 0.001</td> <td> 1551.327</td> <td> 5867.752</td>\n",
       "</tr>\n",
       "<tr>\n",
       "  <th>Fireplaces</th>           <td> 4057.9053</td> <td> 1539.403</td> <td>    2.636</td> <td> 0.008</td> <td> 1038.088</td> <td> 7077.723</td>\n",
       "</tr>\n",
       "<tr>\n",
       "  <th>GarageYrBlt</th>          <td>  -20.1630</td> <td>    5.610</td> <td>   -3.594</td> <td> 0.000</td> <td>  -31.167</td> <td>   -9.159</td>\n",
       "</tr>\n",
       "<tr>\n",
       "  <th>GarageFinish</th>         <td> 5774.2847</td> <td> 2134.983</td> <td>    2.705</td> <td> 0.007</td> <td> 1586.130</td> <td> 9962.440</td>\n",
       "</tr>\n",
       "<tr>\n",
       "  <th>GarageCars</th>           <td> 1.005e+04</td> <td> 1829.957</td> <td>    5.491</td> <td> 0.000</td> <td> 6459.355</td> <td> 1.36e+04</td>\n",
       "</tr>\n",
       "<tr>\n",
       "  <th>GarageQual</th>           <td> 9372.9027</td> <td> 3448.883</td> <td>    2.718</td> <td> 0.007</td> <td> 2607.296</td> <td> 1.61e+04</td>\n",
       "</tr>\n",
       "<tr>\n",
       "  <th>WoodDeckSF</th>           <td>   15.9959</td> <td>    6.925</td> <td>    2.310</td> <td> 0.021</td> <td>    2.412</td> <td>   29.580</td>\n",
       "</tr>\n",
       "<tr>\n",
       "  <th>ScreenPorch</th>          <td>   61.3099</td> <td>   14.726</td> <td>    4.164</td> <td> 0.000</td> <td>   32.423</td> <td>   90.197</td>\n",
       "</tr>\n",
       "<tr>\n",
       "  <th>PoolArea</th>             <td>-1.298e+05</td> <td> 3.85e+04</td> <td>   -3.367</td> <td> 0.001</td> <td>-2.05e+05</td> <td>-5.42e+04</td>\n",
       "</tr>\n",
       "<tr>\n",
       "  <th>PoolQC</th>               <td>  3.24e+04</td> <td>    1e+04</td> <td>    3.238</td> <td> 0.001</td> <td> 1.28e+04</td> <td>  5.2e+04</td>\n",
       "</tr>\n",
       "<tr>\n",
       "  <th>LotConfig_CulDSac</th>    <td> 9506.4578</td> <td> 3363.839</td> <td>    2.826</td> <td> 0.005</td> <td> 2907.679</td> <td> 1.61e+04</td>\n",
       "</tr>\n",
       "<tr>\n",
       "  <th>Neighborhood_BrDale</th>  <td> 1.677e+04</td> <td> 8282.265</td> <td>    2.025</td> <td> 0.043</td> <td>  524.512</td> <td>  3.3e+04</td>\n",
       "</tr>\n",
       "<tr>\n",
       "  <th>Neighborhood_Crawfor</th> <td>  2.79e+04</td> <td> 4554.963</td> <td>    6.125</td> <td> 0.000</td> <td>  1.9e+04</td> <td> 3.68e+04</td>\n",
       "</tr>\n",
       "<tr>\n",
       "  <th>Neighborhood_Edwards</th> <td>-9079.1810</td> <td> 3414.033</td> <td>   -2.659</td> <td> 0.008</td> <td>-1.58e+04</td> <td>-2381.938</td>\n",
       "</tr>\n",
       "<tr>\n",
       "  <th>Neighborhood_NPkVill</th> <td> 2.162e+04</td> <td> 1.04e+04</td> <td>    2.081</td> <td> 0.038</td> <td> 1238.922</td> <td>  4.2e+04</td>\n",
       "</tr>\n",
       "<tr>\n",
       "  <th>Neighborhood_NoRidge</th> <td> 5.168e+04</td> <td> 5445.428</td> <td>    9.490</td> <td> 0.000</td> <td>  4.1e+04</td> <td> 6.24e+04</td>\n",
       "</tr>\n",
       "<tr>\n",
       "  <th>Neighborhood_NridgHt</th> <td> 4.904e+04</td> <td> 4344.064</td> <td>   11.289</td> <td> 0.000</td> <td> 4.05e+04</td> <td> 5.76e+04</td>\n",
       "</tr>\n",
       "<tr>\n",
       "  <th>Neighborhood_Somerst</th> <td> 1.926e+04</td> <td> 3887.164</td> <td>    4.956</td> <td> 0.000</td> <td> 1.16e+04</td> <td> 2.69e+04</td>\n",
       "</tr>\n",
       "<tr>\n",
       "  <th>Neighborhood_StoneBr</th> <td> 5.722e+04</td> <td> 6489.284</td> <td>    8.818</td> <td> 0.000</td> <td> 4.45e+04</td> <td>    7e+04</td>\n",
       "</tr>\n",
       "<tr>\n",
       "  <th>Neighborhood_Veenker</th> <td> 1.894e+04</td> <td> 9235.639</td> <td>    2.051</td> <td> 0.040</td> <td>  823.112</td> <td> 3.71e+04</td>\n",
       "</tr>\n",
       "<tr>\n",
       "  <th>BldgType_2fmCon</th>      <td> 3.039e+04</td> <td> 6926.273</td> <td>    4.388</td> <td> 0.000</td> <td> 1.68e+04</td> <td>  4.4e+04</td>\n",
       "</tr>\n",
       "<tr>\n",
       "  <th>MasVnrType_None</th>      <td> 5723.1779</td> <td> 2424.729</td> <td>    2.360</td> <td> 0.018</td> <td>  966.634</td> <td> 1.05e+04</td>\n",
       "</tr>\n",
       "<tr>\n",
       "  <th>SaleCondition_Normal</th> <td> 6983.4526</td> <td> 2812.314</td> <td>    2.483</td> <td> 0.013</td> <td> 1466.590</td> <td> 1.25e+04</td>\n",
       "</tr>\n",
       "<tr>\n",
       "  <th>SaleType_New</th>         <td> 1.824e+04</td> <td> 4261.676</td> <td>    4.280</td> <td> 0.000</td> <td> 9881.627</td> <td> 2.66e+04</td>\n",
       "</tr>\n",
       "</table>\n",
       "<table class=\"simpletable\">\n",
       "<tr>\n",
       "  <th>Omnibus:</th>       <td>535.076</td> <th>  Durbin-Watson:     </th> <td>   1.893</td> \n",
       "</tr>\n",
       "<tr>\n",
       "  <th>Prob(Omnibus):</th> <td> 0.000</td>  <th>  Jarque-Bera (JB):  </th> <td>74986.135</td>\n",
       "</tr>\n",
       "<tr>\n",
       "  <th>Skew:</th>          <td>-0.660</td>  <th>  Prob(JB):          </th> <td>    0.00</td> \n",
       "</tr>\n",
       "<tr>\n",
       "  <th>Kurtosis:</th>      <td>38.551</td>  <th>  Cond. No.          </th> <td>7.41e+05</td> \n",
       "</tr>\n",
       "</table><br/><br/>Warnings:<br/>[1] Standard Errors assume that the covariance matrix of the errors is correctly specified.<br/>[2] The condition number is large, 7.41e+05. This might indicate that there are<br/>strong multicollinearity or other numerical problems."
      ],
      "text/plain": [
       "<class 'statsmodels.iolib.summary.Summary'>\n",
       "\"\"\"\n",
       "                            OLS Regression Results                            \n",
       "==============================================================================\n",
       "Dep. Variable:              SalePrice   R-squared:                       0.864\n",
       "Model:                            OLS   Adj. R-squared:                  0.860\n",
       "Method:                 Least Squares   F-statistic:                     230.3\n",
       "Date:                Wed, 20 Nov 2019   Prob (F-statistic):               0.00\n",
       "Time:                        15:48:28   Log-Likelihood:                -16645.\n",
       "No. Observations:                1422   AIC:                         3.337e+04\n",
       "Df Residuals:                    1383   BIC:                         3.357e+04\n",
       "Df Model:                          38                                         \n",
       "Covariance Type:            nonrobust                                         \n",
       "========================================================================================\n",
       "                           coef    std err          t      P>|t|      [0.025      0.975]\n",
       "----------------------------------------------------------------------------------------\n",
       "const                -7.317e+04   1.34e+04     -5.450      0.000   -9.95e+04   -4.68e+04\n",
       "MSSubClass            -295.8174     24.572    -12.039      0.000    -344.020    -247.615\n",
       "LotArea                  0.3063      0.089      3.439      0.001       0.132       0.481\n",
       "OverallQual           9657.2982   1129.856      8.547      0.000    7440.881    1.19e+04\n",
       "OverallCond           5050.6043    843.083      5.991      0.000    3396.745    6704.464\n",
       "YearBuilt             -220.1197     49.184     -4.475      0.000    -316.603    -123.636\n",
       "MasVnrArea              27.1878      6.743      4.032      0.000      13.960      40.416\n",
       "ExterQual             5440.0834   2403.566      2.263      0.024     725.055    1.02e+04\n",
       "BsmtQual              8018.7457   2065.431      3.882      0.000    3967.029    1.21e+04\n",
       "BsmtExposure          7362.4892    886.535      8.305      0.000    5623.391    9101.587\n",
       "GrLivArea               44.7281      3.612     12.384      0.000      37.643      51.813\n",
       "BsmtFullBath          1.045e+04   1687.398      6.194      0.000    7142.021    1.38e+04\n",
       "BedroomAbvGr         -3640.0920   1487.823     -2.447      0.015   -6558.725    -721.459\n",
       "KitchenAbvGr         -1.046e+04   4828.783     -2.166      0.030   -1.99e+04    -987.180\n",
       "KitchenQual           8502.7213   1893.996      4.489      0.000    4787.307    1.22e+04\n",
       "TotRmsAbvGrd          3709.5395   1100.185      3.372      0.001    1551.327    5867.752\n",
       "Fireplaces            4057.9053   1539.403      2.636      0.008    1038.088    7077.723\n",
       "GarageYrBlt            -20.1630      5.610     -3.594      0.000     -31.167      -9.159\n",
       "GarageFinish          5774.2847   2134.983      2.705      0.007    1586.130    9962.440\n",
       "GarageCars            1.005e+04   1829.957      5.491      0.000    6459.355    1.36e+04\n",
       "GarageQual            9372.9027   3448.883      2.718      0.007    2607.296    1.61e+04\n",
       "WoodDeckSF              15.9959      6.925      2.310      0.021       2.412      29.580\n",
       "ScreenPorch             61.3099     14.726      4.164      0.000      32.423      90.197\n",
       "PoolArea             -1.298e+05   3.85e+04     -3.367      0.001   -2.05e+05   -5.42e+04\n",
       "PoolQC                 3.24e+04      1e+04      3.238      0.001    1.28e+04     5.2e+04\n",
       "LotConfig_CulDSac     9506.4578   3363.839      2.826      0.005    2907.679    1.61e+04\n",
       "Neighborhood_BrDale   1.677e+04   8282.265      2.025      0.043     524.512     3.3e+04\n",
       "Neighborhood_Crawfor   2.79e+04   4554.963      6.125      0.000     1.9e+04    3.68e+04\n",
       "Neighborhood_Edwards -9079.1810   3414.033     -2.659      0.008   -1.58e+04   -2381.938\n",
       "Neighborhood_NPkVill  2.162e+04   1.04e+04      2.081      0.038    1238.922     4.2e+04\n",
       "Neighborhood_NoRidge  5.168e+04   5445.428      9.490      0.000     4.1e+04    6.24e+04\n",
       "Neighborhood_NridgHt  4.904e+04   4344.064     11.289      0.000    4.05e+04    5.76e+04\n",
       "Neighborhood_Somerst  1.926e+04   3887.164      4.956      0.000    1.16e+04    2.69e+04\n",
       "Neighborhood_StoneBr  5.722e+04   6489.284      8.818      0.000    4.45e+04       7e+04\n",
       "Neighborhood_Veenker  1.894e+04   9235.639      2.051      0.040     823.112    3.71e+04\n",
       "BldgType_2fmCon       3.039e+04   6926.273      4.388      0.000    1.68e+04     4.4e+04\n",
       "MasVnrType_None       5723.1779   2424.729      2.360      0.018     966.634    1.05e+04\n",
       "SaleCondition_Normal  6983.4526   2812.314      2.483      0.013    1466.590    1.25e+04\n",
       "SaleType_New          1.824e+04   4261.676      4.280      0.000    9881.627    2.66e+04\n",
       "==============================================================================\n",
       "Omnibus:                      535.076   Durbin-Watson:                   1.893\n",
       "Prob(Omnibus):                  0.000   Jarque-Bera (JB):            74986.135\n",
       "Skew:                          -0.660   Prob(JB):                         0.00\n",
       "Kurtosis:                      38.551   Cond. No.                     7.41e+05\n",
       "==============================================================================\n",
       "\n",
       "Warnings:\n",
       "[1] Standard Errors assume that the covariance matrix of the errors is correctly specified.\n",
       "[2] The condition number is large, 7.41e+05. This might indicate that there are\n",
       "strong multicollinearity or other numerical problems.\n",
       "\"\"\""
      ]
     },
     "execution_count": 379,
     "metadata": {},
     "output_type": "execute_result"
    }
   ],
   "source": [
    "model=sm.OLS(y,X)\n",
    "model_fit=model.fit()\n",
    "model_fit.summary()"
   ]
  },
  {
   "cell_type": "code",
   "execution_count": 380,
   "metadata": {},
   "outputs": [
    {
     "data": {
      "text/plain": [
       "(1422, 39)"
      ]
     },
     "execution_count": 380,
     "metadata": {},
     "output_type": "execute_result"
    }
   ],
   "source": [
    "X.shape"
   ]
  },
  {
   "cell_type": "markdown",
   "metadata": {},
   "source": [
    "# Multicollinearity"
   ]
  },
  {
   "cell_type": "code",
   "execution_count": 381,
   "metadata": {},
   "outputs": [],
   "source": [
    "from statsmodels.stats.outliers_influence import variance_inflation_factor as VIF"
   ]
  },
  {
   "cell_type": "code",
   "execution_count": 387,
   "metadata": {},
   "outputs": [
    {
     "data": {
      "text/plain": [
       "const                   289.876041\n",
       "MSSubClass                1.731763\n",
       "LotArea                   1.299051\n",
       "OverallQual               3.793282\n",
       "OverallCond               1.406799\n",
       "YearBuilt                 3.587023\n",
       "MasVnrArea                2.400870\n",
       "ExterQual                 3.072271\n",
       "BsmtQual                  3.175105\n",
       "BsmtExposure              1.383315\n",
       "GrLivArea                 5.508711\n",
       "BsmtFullBath              1.237548\n",
       "BedroomAbvGr              2.333189\n",
       "KitchenAbvGr              1.479411\n",
       "KitchenQual               2.530346\n",
       "TotRmsAbvGrd              4.983720\n",
       "Fireplaces                1.586811\n",
       "GarageYrBlt               9.802056\n",
       "GarageFinish              1.358522\n",
       "GarageCars                2.969578\n",
       "GarageQual                9.480710\n",
       "WoodDeckSF                1.224339\n",
       "ScreenPorch               1.079007\n",
       "LotConfig_CulDSac         1.090187\n",
       "Neighborhood_BrDale       1.227069\n",
       "Neighborhood_Crawfor      1.151470\n",
       "Neighborhood_Edwards      1.095138\n",
       "Neighborhood_NPkVill      1.091937\n",
       "Neighborhood_NoRidge      1.333890\n",
       "Neighborhood_NridgHt      1.553648\n",
       "Neighborhood_Somerst      1.380353\n",
       "Neighborhood_StoneBr      1.167735\n",
       "Neighborhood_Veenker      1.052679\n",
       "BldgType_2fmCon           1.541148\n",
       "MasVnrType_None           2.279357\n",
       "SaleCondition_Normal      1.850220\n",
       "SaleType_New              2.283056\n",
       "dtype: float64"
      ]
     },
     "execution_count": 387,
     "metadata": {},
     "output_type": "execute_result"
    }
   ],
   "source": [
    "#X.drop('PoolQC',axis=1,inplace=True)\n",
    "pd.Series([VIF(X.values,i) for i in range(X.shape[1])],index=X.columns)"
   ]
  },
  {
   "cell_type": "code",
   "execution_count": 386,
   "metadata": {},
   "outputs": [
    {
     "data": {
      "text/html": [
       "<table class=\"simpletable\">\n",
       "<caption>OLS Regression Results</caption>\n",
       "<tr>\n",
       "  <th>Dep. Variable:</th>        <td>SalePrice</td>    <th>  R-squared:         </th> <td>   0.862</td> \n",
       "</tr>\n",
       "<tr>\n",
       "  <th>Model:</th>                   <td>OLS</td>       <th>  Adj. R-squared:    </th> <td>   0.859</td> \n",
       "</tr>\n",
       "<tr>\n",
       "  <th>Method:</th>             <td>Least Squares</td>  <th>  F-statistic:       </th> <td>   241.2</td> \n",
       "</tr>\n",
       "<tr>\n",
       "  <th>Date:</th>             <td>Wed, 20 Nov 2019</td> <th>  Prob (F-statistic):</th>  <td>  0.00</td>  \n",
       "</tr>\n",
       "<tr>\n",
       "  <th>Time:</th>                 <td>16:09:45</td>     <th>  Log-Likelihood:    </th> <td> -16650.</td> \n",
       "</tr>\n",
       "<tr>\n",
       "  <th>No. Observations:</th>      <td>  1422</td>      <th>  AIC:               </th> <td>3.337e+04</td>\n",
       "</tr>\n",
       "<tr>\n",
       "  <th>Df Residuals:</th>          <td>  1385</td>      <th>  BIC:               </th> <td>3.357e+04</td>\n",
       "</tr>\n",
       "<tr>\n",
       "  <th>Df Model:</th>              <td>    36</td>      <th>                     </th>     <td> </td>    \n",
       "</tr>\n",
       "<tr>\n",
       "  <th>Covariance Type:</th>      <td>nonrobust</td>    <th>                     </th>     <td> </td>    \n",
       "</tr>\n",
       "</table>\n",
       "<table class=\"simpletable\">\n",
       "<tr>\n",
       "            <td></td>              <th>coef</th>     <th>std err</th>      <th>t</th>      <th>P>|t|</th>  <th>[0.025</th>    <th>0.975]</th>  \n",
       "</tr>\n",
       "<tr>\n",
       "  <th>const</th>                <td>-7.361e+04</td> <td> 1.35e+04</td> <td>   -5.464</td> <td> 0.000</td> <td>   -1e+05</td> <td>-4.72e+04</td>\n",
       "</tr>\n",
       "<tr>\n",
       "  <th>MSSubClass</th>           <td> -296.2466</td> <td>   24.654</td> <td>  -12.016</td> <td> 0.000</td> <td> -344.610</td> <td> -247.883</td>\n",
       "</tr>\n",
       "<tr>\n",
       "  <th>LotArea</th>              <td>    0.3058</td> <td>    0.089</td> <td>    3.423</td> <td> 0.001</td> <td>    0.131</td> <td>    0.481</td>\n",
       "</tr>\n",
       "<tr>\n",
       "  <th>OverallQual</th>          <td> 9706.7334</td> <td> 1133.531</td> <td>    8.563</td> <td> 0.000</td> <td> 7483.110</td> <td> 1.19e+04</td>\n",
       "</tr>\n",
       "<tr>\n",
       "  <th>OverallCond</th>          <td> 5028.9273</td> <td>  845.869</td> <td>    5.945</td> <td> 0.000</td> <td> 3369.605</td> <td> 6688.250</td>\n",
       "</tr>\n",
       "<tr>\n",
       "  <th>YearBuilt</th>            <td> -214.4627</td> <td>   49.321</td> <td>   -4.348</td> <td> 0.000</td> <td> -311.215</td> <td> -117.711</td>\n",
       "</tr>\n",
       "<tr>\n",
       "  <th>MasVnrArea</th>           <td>   27.0251</td> <td>    6.760</td> <td>    3.998</td> <td> 0.000</td> <td>   13.764</td> <td>   40.286</td>\n",
       "</tr>\n",
       "<tr>\n",
       "  <th>ExterQual</th>            <td> 5831.4809</td> <td> 2408.846</td> <td>    2.421</td> <td> 0.016</td> <td> 1106.101</td> <td> 1.06e+04</td>\n",
       "</tr>\n",
       "<tr>\n",
       "  <th>BsmtQual</th>             <td> 8033.8507</td> <td> 2071.813</td> <td>    3.878</td> <td> 0.000</td> <td> 3969.621</td> <td> 1.21e+04</td>\n",
       "</tr>\n",
       "<tr>\n",
       "  <th>BsmtExposure</th>         <td> 7478.0550</td> <td>  888.786</td> <td>    8.414</td> <td> 0.000</td> <td> 5734.543</td> <td> 9221.567</td>\n",
       "</tr>\n",
       "<tr>\n",
       "  <th>GrLivArea</th>            <td>   45.7184</td> <td>    3.529</td> <td>   12.955</td> <td> 0.000</td> <td>   38.795</td> <td>   52.641</td>\n",
       "</tr>\n",
       "<tr>\n",
       "  <th>BsmtFullBath</th>         <td> 1.031e+04</td> <td> 1689.667</td> <td>    6.100</td> <td> 0.000</td> <td> 6992.619</td> <td> 1.36e+04</td>\n",
       "</tr>\n",
       "<tr>\n",
       "  <th>BedroomAbvGr</th>         <td>-3669.1448</td> <td> 1492.789</td> <td>   -2.458</td> <td> 0.014</td> <td>-6597.517</td> <td> -740.773</td>\n",
       "</tr>\n",
       "<tr>\n",
       "  <th>KitchenAbvGr</th>         <td>-1.032e+04</td> <td> 4844.762</td> <td>   -2.131</td> <td> 0.033</td> <td>-1.98e+04</td> <td> -818.684</td>\n",
       "</tr>\n",
       "<tr>\n",
       "  <th>KitchenQual</th>          <td> 8254.3383</td> <td> 1898.799</td> <td>    4.347</td> <td> 0.000</td> <td> 4529.506</td> <td>  1.2e+04</td>\n",
       "</tr>\n",
       "<tr>\n",
       "  <th>TotRmsAbvGrd</th>         <td> 3435.5674</td> <td> 1093.308</td> <td>    3.142</td> <td> 0.002</td> <td> 1290.849</td> <td> 5580.286</td>\n",
       "</tr>\n",
       "<tr>\n",
       "  <th>Fireplaces</th>           <td> 3912.6440</td> <td> 1543.971</td> <td>    2.534</td> <td> 0.011</td> <td>  883.870</td> <td> 6941.418</td>\n",
       "</tr>\n",
       "<tr>\n",
       "  <th>GarageYrBlt</th>          <td>  -20.2969</td> <td>    5.627</td> <td>   -3.607</td> <td> 0.000</td> <td>  -31.336</td> <td>   -9.258</td>\n",
       "</tr>\n",
       "<tr>\n",
       "  <th>GarageFinish</th>         <td> 6041.6140</td> <td> 2140.696</td> <td>    2.822</td> <td> 0.005</td> <td> 1842.256</td> <td> 1.02e+04</td>\n",
       "</tr>\n",
       "<tr>\n",
       "  <th>GarageCars</th>           <td> 1.005e+04</td> <td> 1832.715</td> <td>    5.486</td> <td> 0.000</td> <td> 6459.104</td> <td> 1.36e+04</td>\n",
       "</tr>\n",
       "<tr>\n",
       "  <th>GarageQual</th>           <td> 9521.0156</td> <td> 3457.390</td> <td>    2.754</td> <td> 0.006</td> <td> 2738.730</td> <td> 1.63e+04</td>\n",
       "</tr>\n",
       "<tr>\n",
       "  <th>WoodDeckSF</th>           <td>   15.1898</td> <td>    6.943</td> <td>    2.188</td> <td> 0.029</td> <td>    1.569</td> <td>   28.811</td>\n",
       "</tr>\n",
       "<tr>\n",
       "  <th>ScreenPorch</th>          <td>   54.6517</td> <td>   14.641</td> <td>    3.733</td> <td> 0.000</td> <td>   25.930</td> <td>   83.373</td>\n",
       "</tr>\n",
       "<tr>\n",
       "  <th>LotConfig_CulDSac</th>    <td> 9506.2786</td> <td> 3375.157</td> <td>    2.817</td> <td> 0.005</td> <td> 2885.307</td> <td> 1.61e+04</td>\n",
       "</tr>\n",
       "<tr>\n",
       "  <th>Neighborhood_BrDale</th>  <td> 1.714e+04</td> <td> 8308.736</td> <td>    2.062</td> <td> 0.039</td> <td>  837.050</td> <td> 3.34e+04</td>\n",
       "</tr>\n",
       "<tr>\n",
       "  <th>Neighborhood_Crawfor</th> <td> 2.787e+04</td> <td> 4565.367</td> <td>    6.104</td> <td> 0.000</td> <td> 1.89e+04</td> <td> 3.68e+04</td>\n",
       "</tr>\n",
       "<tr>\n",
       "  <th>Neighborhood_Edwards</th> <td>-9025.1245</td> <td> 3418.043</td> <td>   -2.640</td> <td> 0.008</td> <td>-1.57e+04</td> <td>-2320.025</td>\n",
       "</tr>\n",
       "<tr>\n",
       "  <th>Neighborhood_NPkVill</th> <td> 2.194e+04</td> <td> 1.04e+04</td> <td>    2.104</td> <td> 0.036</td> <td> 1488.286</td> <td> 4.24e+04</td>\n",
       "</tr>\n",
       "<tr>\n",
       "  <th>Neighborhood_NoRidge</th> <td> 5.223e+04</td> <td> 5460.399</td> <td>    9.566</td> <td> 0.000</td> <td> 4.15e+04</td> <td> 6.29e+04</td>\n",
       "</tr>\n",
       "<tr>\n",
       "  <th>Neighborhood_NridgHt</th> <td> 4.926e+04</td> <td> 4357.356</td> <td>   11.306</td> <td> 0.000</td> <td> 4.07e+04</td> <td> 5.78e+04</td>\n",
       "</tr>\n",
       "<tr>\n",
       "  <th>Neighborhood_Somerst</th> <td> 1.919e+04</td> <td> 3899.383</td> <td>    4.921</td> <td> 0.000</td> <td> 1.15e+04</td> <td> 2.68e+04</td>\n",
       "</tr>\n",
       "<tr>\n",
       "  <th>Neighborhood_StoneBr</th> <td> 5.707e+04</td> <td> 6505.149</td> <td>    8.773</td> <td> 0.000</td> <td> 4.43e+04</td> <td> 6.98e+04</td>\n",
       "</tr>\n",
       "<tr>\n",
       "  <th>Neighborhood_Veenker</th> <td> 1.909e+04</td> <td> 9264.912</td> <td>    2.060</td> <td> 0.040</td> <td>  911.088</td> <td> 3.73e+04</td>\n",
       "</tr>\n",
       "<tr>\n",
       "  <th>BldgType_2fmCon</th>      <td> 3.041e+04</td> <td> 6948.655</td> <td>    4.377</td> <td> 0.000</td> <td> 1.68e+04</td> <td>  4.4e+04</td>\n",
       "</tr>\n",
       "<tr>\n",
       "  <th>MasVnrType_None</th>      <td> 6078.9069</td> <td> 2430.465</td> <td>    2.501</td> <td> 0.012</td> <td> 1311.117</td> <td> 1.08e+04</td>\n",
       "</tr>\n",
       "<tr>\n",
       "  <th>SaleCondition_Normal</th> <td> 6398.1507</td> <td> 2800.888</td> <td>    2.284</td> <td> 0.023</td> <td>  903.710</td> <td> 1.19e+04</td>\n",
       "</tr>\n",
       "<tr>\n",
       "  <th>SaleType_New</th>         <td> 1.762e+04</td> <td> 4268.349</td> <td>    4.129</td> <td> 0.000</td> <td> 9248.834</td> <td>  2.6e+04</td>\n",
       "</tr>\n",
       "</table>\n",
       "<table class=\"simpletable\">\n",
       "<tr>\n",
       "  <th>Omnibus:</th>       <td>520.442</td> <th>  Durbin-Watson:     </th> <td>   1.882</td> \n",
       "</tr>\n",
       "<tr>\n",
       "  <th>Prob(Omnibus):</th> <td> 0.000</td>  <th>  Jarque-Bera (JB):  </th> <td>83069.333</td>\n",
       "</tr>\n",
       "<tr>\n",
       "  <th>Skew:</th>          <td>-0.559</td>  <th>  Prob(JB):          </th> <td>    0.00</td> \n",
       "</tr>\n",
       "<tr>\n",
       "  <th>Kurtosis:</th>      <td>40.427</td>  <th>  Cond. No.          </th> <td>2.58e+05</td> \n",
       "</tr>\n",
       "</table><br/><br/>Warnings:<br/>[1] Standard Errors assume that the covariance matrix of the errors is correctly specified.<br/>[2] The condition number is large, 2.58e+05. This might indicate that there are<br/>strong multicollinearity or other numerical problems."
      ],
      "text/plain": [
       "<class 'statsmodels.iolib.summary.Summary'>\n",
       "\"\"\"\n",
       "                            OLS Regression Results                            \n",
       "==============================================================================\n",
       "Dep. Variable:              SalePrice   R-squared:                       0.862\n",
       "Model:                            OLS   Adj. R-squared:                  0.859\n",
       "Method:                 Least Squares   F-statistic:                     241.2\n",
       "Date:                Wed, 20 Nov 2019   Prob (F-statistic):               0.00\n",
       "Time:                        16:09:45   Log-Likelihood:                -16650.\n",
       "No. Observations:                1422   AIC:                         3.337e+04\n",
       "Df Residuals:                    1385   BIC:                         3.357e+04\n",
       "Df Model:                          36                                         \n",
       "Covariance Type:            nonrobust                                         \n",
       "========================================================================================\n",
       "                           coef    std err          t      P>|t|      [0.025      0.975]\n",
       "----------------------------------------------------------------------------------------\n",
       "const                -7.361e+04   1.35e+04     -5.464      0.000      -1e+05   -4.72e+04\n",
       "MSSubClass            -296.2466     24.654    -12.016      0.000    -344.610    -247.883\n",
       "LotArea                  0.3058      0.089      3.423      0.001       0.131       0.481\n",
       "OverallQual           9706.7334   1133.531      8.563      0.000    7483.110    1.19e+04\n",
       "OverallCond           5028.9273    845.869      5.945      0.000    3369.605    6688.250\n",
       "YearBuilt             -214.4627     49.321     -4.348      0.000    -311.215    -117.711\n",
       "MasVnrArea              27.0251      6.760      3.998      0.000      13.764      40.286\n",
       "ExterQual             5831.4809   2408.846      2.421      0.016    1106.101    1.06e+04\n",
       "BsmtQual              8033.8507   2071.813      3.878      0.000    3969.621    1.21e+04\n",
       "BsmtExposure          7478.0550    888.786      8.414      0.000    5734.543    9221.567\n",
       "GrLivArea               45.7184      3.529     12.955      0.000      38.795      52.641\n",
       "BsmtFullBath          1.031e+04   1689.667      6.100      0.000    6992.619    1.36e+04\n",
       "BedroomAbvGr         -3669.1448   1492.789     -2.458      0.014   -6597.517    -740.773\n",
       "KitchenAbvGr         -1.032e+04   4844.762     -2.131      0.033   -1.98e+04    -818.684\n",
       "KitchenQual           8254.3383   1898.799      4.347      0.000    4529.506     1.2e+04\n",
       "TotRmsAbvGrd          3435.5674   1093.308      3.142      0.002    1290.849    5580.286\n",
       "Fireplaces            3912.6440   1543.971      2.534      0.011     883.870    6941.418\n",
       "GarageYrBlt            -20.2969      5.627     -3.607      0.000     -31.336      -9.258\n",
       "GarageFinish          6041.6140   2140.696      2.822      0.005    1842.256    1.02e+04\n",
       "GarageCars            1.005e+04   1832.715      5.486      0.000    6459.104    1.36e+04\n",
       "GarageQual            9521.0156   3457.390      2.754      0.006    2738.730    1.63e+04\n",
       "WoodDeckSF              15.1898      6.943      2.188      0.029       1.569      28.811\n",
       "ScreenPorch             54.6517     14.641      3.733      0.000      25.930      83.373\n",
       "LotConfig_CulDSac     9506.2786   3375.157      2.817      0.005    2885.307    1.61e+04\n",
       "Neighborhood_BrDale   1.714e+04   8308.736      2.062      0.039     837.050    3.34e+04\n",
       "Neighborhood_Crawfor  2.787e+04   4565.367      6.104      0.000    1.89e+04    3.68e+04\n",
       "Neighborhood_Edwards -9025.1245   3418.043     -2.640      0.008   -1.57e+04   -2320.025\n",
       "Neighborhood_NPkVill  2.194e+04   1.04e+04      2.104      0.036    1488.286    4.24e+04\n",
       "Neighborhood_NoRidge  5.223e+04   5460.399      9.566      0.000    4.15e+04    6.29e+04\n",
       "Neighborhood_NridgHt  4.926e+04   4357.356     11.306      0.000    4.07e+04    5.78e+04\n",
       "Neighborhood_Somerst  1.919e+04   3899.383      4.921      0.000    1.15e+04    2.68e+04\n",
       "Neighborhood_StoneBr  5.707e+04   6505.149      8.773      0.000    4.43e+04    6.98e+04\n",
       "Neighborhood_Veenker  1.909e+04   9264.912      2.060      0.040     911.088    3.73e+04\n",
       "BldgType_2fmCon       3.041e+04   6948.655      4.377      0.000    1.68e+04     4.4e+04\n",
       "MasVnrType_None       6078.9069   2430.465      2.501      0.012    1311.117    1.08e+04\n",
       "SaleCondition_Normal  6398.1507   2800.888      2.284      0.023     903.710    1.19e+04\n",
       "SaleType_New          1.762e+04   4268.349      4.129      0.000    9248.834     2.6e+04\n",
       "==============================================================================\n",
       "Omnibus:                      520.442   Durbin-Watson:                   1.882\n",
       "Prob(Omnibus):                  0.000   Jarque-Bera (JB):            83069.333\n",
       "Skew:                          -0.559   Prob(JB):                         0.00\n",
       "Kurtosis:                      40.427   Cond. No.                     2.58e+05\n",
       "==============================================================================\n",
       "\n",
       "Warnings:\n",
       "[1] Standard Errors assume that the covariance matrix of the errors is correctly specified.\n",
       "[2] The condition number is large, 2.58e+05. This might indicate that there are\n",
       "strong multicollinearity or other numerical problems.\n",
       "\"\"\""
      ]
     },
     "execution_count": 386,
     "metadata": {},
     "output_type": "execute_result"
    }
   ],
   "source": [
    "X.drop('PoolArea',axis=1,inplace=True)\n",
    "model=sm.OLS(y,X)\n",
    "model_fit=model.fit()\n",
    "model_fit.summary()"
   ]
  },
  {
   "cell_type": "code",
   "execution_count": null,
   "metadata": {},
   "outputs": [],
   "source": []
  },
  {
   "cell_type": "markdown",
   "metadata": {},
   "source": [
    "# Normality of Residuals"
   ]
  },
  {
   "cell_type": "code",
   "execution_count": 404,
   "metadata": {},
   "outputs": [
    {
     "data": {
      "text/plain": [
       "[<matplotlib.lines.Line2D at 0x235c3251ba8>]"
      ]
     },
     "execution_count": 404,
     "metadata": {},
     "output_type": "execute_result"
    },
    {
     "data": {
      "image/png": "[encoded data removed]",
      "text/plain": [
       "<Figure size 432x288 with 1 Axes>"
      ]
     },
     "metadata": {
      "needs_background": "light"
     },
     "output_type": "display_data"
    }
   ],
   "source": [
    "plt.plot(model_fit.resid)"
   ]
  },
  {
   "cell_type": "code",
   "execution_count": 392,
   "metadata": {},
   "outputs": [
    {
     "data": {
      "text/plain": [
       "2.465403488799196e-09"
      ]
     },
     "execution_count": 392,
     "metadata": {},
     "output_type": "execute_result"
    }
   ],
   "source": [
    "model_fit.resid.mean()"
   ]
  },
  {
   "cell_type": "code",
   "execution_count": 406,
   "metadata": {},
   "outputs": [
    {
     "data": {
      "text/html": [
       "<div>\n",
       "<style scoped>\n",
       "    .dataframe tbody tr th:only-of-type {\n",
       "        vertical-align: middle;\n",
       "    }\n",
       "\n",
       "    .dataframe tbody tr th {\n",
       "        vertical-align: top;\n",
       "    }\n",
       "\n",
       "    .dataframe thead th {\n",
       "        text-align: right;\n",
       "    }\n",
       "</style>\n",
       "<table border=\"1\" class=\"dataframe\">\n",
       "  <thead>\n",
       "    <tr style=\"text-align: right;\">\n",
       "      <th></th>\n",
       "      <th>const</th>\n",
       "      <th>MSSubClass</th>\n",
       "      <th>LotArea</th>\n",
       "      <th>OverallQual</th>\n",
       "      <th>OverallCond</th>\n",
       "      <th>YearBuilt</th>\n",
       "      <th>MasVnrArea</th>\n",
       "      <th>ExterQual</th>\n",
       "      <th>BsmtQual</th>\n",
       "      <th>BsmtExposure</th>\n",
       "      <th>...</th>\n",
       "      <th>Neighborhood_NPkVill</th>\n",
       "      <th>Neighborhood_NoRidge</th>\n",
       "      <th>Neighborhood_NridgHt</th>\n",
       "      <th>Neighborhood_Somerst</th>\n",
       "      <th>Neighborhood_StoneBr</th>\n",
       "      <th>Neighborhood_Veenker</th>\n",
       "      <th>BldgType_2fmCon</th>\n",
       "      <th>MasVnrType_None</th>\n",
       "      <th>SaleCondition_Normal</th>\n",
       "      <th>SaleType_New</th>\n",
       "    </tr>\n",
       "    <tr>\n",
       "      <th>Id</th>\n",
       "      <th></th>\n",
       "      <th></th>\n",
       "      <th></th>\n",
       "      <th></th>\n",
       "      <th></th>\n",
       "      <th></th>\n",
       "      <th></th>\n",
       "      <th></th>\n",
       "      <th></th>\n",
       "      <th></th>\n",
       "      <th></th>\n",
       "      <th></th>\n",
       "      <th></th>\n",
       "      <th></th>\n",
       "      <th></th>\n",
       "      <th></th>\n",
       "      <th></th>\n",
       "      <th></th>\n",
       "      <th></th>\n",
       "      <th></th>\n",
       "      <th></th>\n",
       "    </tr>\n",
       "  </thead>\n",
       "  <tbody>\n",
       "    <tr>\n",
       "      <th>1299</th>\n",
       "      <td>1.0</td>\n",
       "      <td>60</td>\n",
       "      <td>63887</td>\n",
       "      <td>10</td>\n",
       "      <td>5</td>\n",
       "      <td>11</td>\n",
       "      <td>796.0</td>\n",
       "      <td>5</td>\n",
       "      <td>5</td>\n",
       "      <td>3</td>\n",
       "      <td>...</td>\n",
       "      <td>0</td>\n",
       "      <td>0</td>\n",
       "      <td>0</td>\n",
       "      <td>0</td>\n",
       "      <td>0</td>\n",
       "      <td>0</td>\n",
       "      <td>0</td>\n",
       "      <td>0</td>\n",
       "      <td>0</td>\n",
       "      <td>1</td>\n",
       "    </tr>\n",
       "  </tbody>\n",
       "</table>\n",
       "<p>1 rows × 37 columns</p>\n",
       "</div>"
      ],
      "text/plain": [
       "      const  MSSubClass  LotArea  OverallQual  OverallCond  YearBuilt  \\\n",
       "Id                                                                      \n",
       "1299    1.0          60    63887           10            5         11   \n",
       "\n",
       "      MasVnrArea  ExterQual  BsmtQual  BsmtExposure  ...  \\\n",
       "Id                                                   ...   \n",
       "1299       796.0          5         5             3  ...   \n",
       "\n",
       "      Neighborhood_NPkVill  Neighborhood_NoRidge  Neighborhood_NridgHt  \\\n",
       "Id                                                                       \n",
       "1299                     0                     0                     0   \n",
       "\n",
       "      Neighborhood_Somerst  Neighborhood_StoneBr  Neighborhood_Veenker  \\\n",
       "Id                                                                       \n",
       "1299                     0                     0                     0   \n",
       "\n",
       "      BldgType_2fmCon  MasVnrType_None  SaleCondition_Normal  SaleType_New  \n",
       "Id                                                                          \n",
       "1299                0                0                     0             1  \n",
       "\n",
       "[1 rows x 37 columns]"
      ]
     },
     "execution_count": 406,
     "metadata": {},
     "output_type": "execute_result"
    }
   ],
   "source": [
    "X[abs(model_fit.resid)>300000]"
   ]
  },
  {
   "cell_type": "code",
   "execution_count": 408,
   "metadata": {},
   "outputs": [
    {
     "data": {
      "text/plain": [
       "<matplotlib.axes._subplots.AxesSubplot at 0x235c32f54a8>"
      ]
     },
     "execution_count": 408,
     "metadata": {},
     "output_type": "execute_result"
    },
    {
     "data": {
      "image/png": "[encoded data removed]",
      "text/plain": [
       "<Figure size 432x288 with 1 Axes>"
      ]
     },
     "metadata": {
      "needs_background": "light"
     },
     "output_type": "display_data"
    }
   ],
   "source": [
    "sns.distplot(model_fit.resid)"
   ]
  },
  {
   "cell_type": "code",
   "execution_count": 409,
   "metadata": {},
   "outputs": [],
   "source": [
    "from scipy.stats import kstest"
   ]
  },
  {
   "cell_type": "code",
   "execution_count": 410,
   "metadata": {},
   "outputs": [
    {
     "data": {
      "text/plain": [
       "KstestResult(statistic=0.5007032348804501, pvalue=0.0)"
      ]
     },
     "execution_count": 410,
     "metadata": {},
     "output_type": "execute_result"
    }
   ],
   "source": [
    "kstest(model_fit.resid,'norm')"
   ]
  },
  {
   "cell_type": "code",
   "execution_count": 416,
   "metadata": {},
   "outputs": [
    {
     "data": {
      "text/plain": [
       "KstestResult(statistic=0.5081374321877152, pvalue=7.182869626283187e-133)"
      ]
     },
     "execution_count": 416,
     "metadata": {},
     "output_type": "execute_result"
    }
   ],
   "source": [
    "kstest(model_fit.resid[abs(model_fit.resid)<10000],'norm')"
   ]
  },
  {
   "cell_type": "code",
   "execution_count": 432,
   "metadata": {},
   "outputs": [
    {
     "data": {
      "text/plain": [
       "0.0"
      ]
     },
     "execution_count": 432,
     "metadata": {},
     "output_type": "execute_result"
    }
   ],
   "source": [
    "import statsmodels.stats.api as sms\n",
    "sms.jarque_bera(model_fit.resid)[1]"
   ]
  },
  {
   "cell_type": "markdown",
   "metadata": {},
   "source": [
    "## Residuals seem to be normal but since all the tests we checked failed, we cant call them normally distributed. That sucks :("
   ]
  },
  {
   "cell_type": "code",
   "execution_count": 430,
   "metadata": {},
   "outputs": [],
   "source": [
    "y_hat=model.predict(model_fit.params)\n",
    "y_np=y.values"
   ]
  },
  {
   "cell_type": "code",
   "execution_count": 434,
   "metadata": {},
   "outputs": [
    {
     "data": {
      "text/plain": [
       "array([  4804.9666766 , -33529.28978807,  12261.87681064, ...,\n",
       "        15029.33574046,  -3500.22847224,  -1745.07579523])"
      ]
     },
     "execution_count": 434,
     "metadata": {},
     "output_type": "execute_result"
    }
   ],
   "source": [
    "y_np-y_hat"
   ]
  },
  {
   "cell_type": "code",
   "execution_count": 435,
   "metadata": {},
   "outputs": [
    {
     "data": {
      "text/plain": [
       "array([  4804.9666766 , -33529.28978807,  12261.87681064, ...,\n",
       "        15029.33574046,  -3500.22847224,  -1745.07579523])"
      ]
     },
     "execution_count": 435,
     "metadata": {},
     "output_type": "execute_result"
    }
   ],
   "source": [
    "model_fit.resid.values"
   ]
  },
  {
   "cell_type": "code",
   "execution_count": 431,
   "metadata": {},
   "outputs": [
    {
     "data": {
      "image/png": "[encoded data removed]",
      "text/plain": [
       "<Figure size 432x288 with 1 Axes>"
      ]
     },
     "metadata": {
      "needs_background": "light"
     },
     "output_type": "display_data"
    }
   ],
   "source": [
    "import pylab \n",
    "import scipy.stats as stats \n",
    "stats.probplot(y_np-y_hat, dist=\"norm\", plot=pylab) \n",
    "pylab.title('QQ Plot: Test Gaussian Residuals') \n",
    "pylab.show()"
   ]
  },
  {
   "cell_type": "code",
   "execution_count": 440,
   "metadata": {},
   "outputs": [
    {
     "data": {
      "text/plain": [
       "<matplotlib.axes._subplots.AxesSubplot at 0x235c3c5b8d0>"
      ]
     },
     "execution_count": 440,
     "metadata": {},
     "output_type": "execute_result"
    },
    {
     "data": {
      "image/png": "[encoded data removed]",
      "text/plain": [
       "<Figure size 432x288 with 1 Axes>"
      ]
     },
     "metadata": {
      "needs_background": "light"
     },
     "output_type": "display_data"
    }
   ],
   "source": [
    "y.hist(bins=50)"
   ]
  },
  {
   "cell_type": "code",
   "execution_count": 441,
   "metadata": {},
   "outputs": [
    {
     "data": {
      "text/plain": [
       "<matplotlib.axes._subplots.AxesSubplot at 0x235c3c44ef0>"
      ]
     },
     "execution_count": 441,
     "metadata": {},
     "output_type": "execute_result"
    },
    {
     "data": {
      "image/png": "[encoded data removed]",
      "text/plain": [
       "<Figure size 432x288 with 1 Axes>"
      ]
     },
     "metadata": {
      "needs_background": "light"
     },
     "output_type": "display_data"
    }
   ],
   "source": [
    "np.log(y).hist(bins=50)"
   ]
  },
  {
   "cell_type": "code",
   "execution_count": 457,
   "metadata": {},
   "outputs": [],
   "source": [
    "#X.drop('MasVnrArea',axis=1,inplace=True)\n",
    "#X.drop('ExterQual',axis=1,inplace=True)\n",
    "#X.drop('GarageFinish',axis=1,inplace=True)\n",
    "#X.drop('KitchenAbvGr',axis=1,inplace=True)\n",
    "#X.drop('Neighborhood_NPkVill',axis=1,inplace=True)\n",
    "#X.drop('MasVnrType_None',axis=1,inplace=True)\n",
    "#X.drop('BedroomAbvGr',axis=1,inplace=True)\n",
    "X.drop('Neighborhood_BrDale',axis=1,inplace=True)\n",
    "\n"
   ]
  },
  {
   "cell_type": "code",
   "execution_count": 458,
   "metadata": {},
   "outputs": [
    {
     "data": {
      "text/html": [
       "<table class=\"simpletable\">\n",
       "<caption>OLS Regression Results</caption>\n",
       "<tr>\n",
       "  <th>Dep. Variable:</th>        <td>SalePrice</td>    <th>  R-squared:         </th> <td>   0.884</td>\n",
       "</tr>\n",
       "<tr>\n",
       "  <th>Model:</th>                   <td>OLS</td>       <th>  Adj. R-squared:    </th> <td>   0.881</td>\n",
       "</tr>\n",
       "<tr>\n",
       "  <th>Method:</th>             <td>Least Squares</td>  <th>  F-statistic:       </th> <td>   378.2</td>\n",
       "</tr>\n",
       "<tr>\n",
       "  <th>Date:</th>             <td>Wed, 20 Nov 2019</td> <th>  Prob (F-statistic):</th>  <td>  0.00</td> \n",
       "</tr>\n",
       "<tr>\n",
       "  <th>Time:</th>                 <td>16:54:58</td>     <th>  Log-Likelihood:    </th> <td>  837.64</td>\n",
       "</tr>\n",
       "<tr>\n",
       "  <th>No. Observations:</th>      <td>  1422</td>      <th>  AIC:               </th> <td>  -1617.</td>\n",
       "</tr>\n",
       "<tr>\n",
       "  <th>Df Residuals:</th>          <td>  1393</td>      <th>  BIC:               </th> <td>  -1465.</td>\n",
       "</tr>\n",
       "<tr>\n",
       "  <th>Df Model:</th>              <td>    28</td>      <th>                     </th>     <td> </td>   \n",
       "</tr>\n",
       "<tr>\n",
       "  <th>Covariance Type:</th>      <td>nonrobust</td>    <th>                     </th>     <td> </td>   \n",
       "</tr>\n",
       "</table>\n",
       "<table class=\"simpletable\">\n",
       "<tr>\n",
       "            <td></td>              <th>coef</th>     <th>std err</th>      <th>t</th>      <th>P>|t|</th>  <th>[0.025</th>    <th>0.975]</th>  \n",
       "</tr>\n",
       "<tr>\n",
       "  <th>const</th>                <td>   10.6499</td> <td>    0.050</td> <td>  210.958</td> <td> 0.000</td> <td>   10.551</td> <td>   10.749</td>\n",
       "</tr>\n",
       "<tr>\n",
       "  <th>MSSubClass</th>           <td>   -0.0012</td> <td>    0.000</td> <td>  -11.626</td> <td> 0.000</td> <td>   -0.001</td> <td>   -0.001</td>\n",
       "</tr>\n",
       "<tr>\n",
       "  <th>LotArea</th>              <td> 1.597e-06</td> <td> 4.05e-07</td> <td>    3.942</td> <td> 0.000</td> <td> 8.03e-07</td> <td> 2.39e-06</td>\n",
       "</tr>\n",
       "<tr>\n",
       "  <th>OverallQual</th>          <td>    0.0635</td> <td>    0.005</td> <td>   12.907</td> <td> 0.000</td> <td>    0.054</td> <td>    0.073</td>\n",
       "</tr>\n",
       "<tr>\n",
       "  <th>OverallCond</th>          <td>    0.0460</td> <td>    0.004</td> <td>   12.030</td> <td> 0.000</td> <td>    0.039</td> <td>    0.054</td>\n",
       "</tr>\n",
       "<tr>\n",
       "  <th>YearBuilt</th>            <td>   -0.0031</td> <td>    0.000</td> <td>  -14.660</td> <td> 0.000</td> <td>   -0.004</td> <td>   -0.003</td>\n",
       "</tr>\n",
       "<tr>\n",
       "  <th>BsmtQual</th>             <td>    0.0237</td> <td>    0.009</td> <td>    2.588</td> <td> 0.010</td> <td>    0.006</td> <td>    0.042</td>\n",
       "</tr>\n",
       "<tr>\n",
       "  <th>BsmtExposure</th>         <td>    0.0211</td> <td>    0.004</td> <td>    5.259</td> <td> 0.000</td> <td>    0.013</td> <td>    0.029</td>\n",
       "</tr>\n",
       "<tr>\n",
       "  <th>GrLivArea</th>            <td>    0.0002</td> <td> 1.56e-05</td> <td>   13.698</td> <td> 0.000</td> <td>    0.000</td> <td>    0.000</td>\n",
       "</tr>\n",
       "<tr>\n",
       "  <th>BsmtFullBath</th>         <td>    0.0611</td> <td>    0.008</td> <td>    8.017</td> <td> 0.000</td> <td>    0.046</td> <td>    0.076</td>\n",
       "</tr>\n",
       "<tr>\n",
       "  <th>KitchenQual</th>          <td>    0.0343</td> <td>    0.008</td> <td>    4.276</td> <td> 0.000</td> <td>    0.019</td> <td>    0.050</td>\n",
       "</tr>\n",
       "<tr>\n",
       "  <th>TotRmsAbvGrd</th>         <td>    0.0155</td> <td>    0.004</td> <td>    3.692</td> <td> 0.000</td> <td>    0.007</td> <td>    0.024</td>\n",
       "</tr>\n",
       "<tr>\n",
       "  <th>Fireplaces</th>           <td>    0.0364</td> <td>    0.007</td> <td>    5.291</td> <td> 0.000</td> <td>    0.023</td> <td>    0.050</td>\n",
       "</tr>\n",
       "<tr>\n",
       "  <th>GarageYrBlt</th>          <td>-5.592e-05</td> <td> 2.55e-05</td> <td>   -2.190</td> <td> 0.029</td> <td>   -0.000</td> <td>-5.82e-06</td>\n",
       "</tr>\n",
       "<tr>\n",
       "  <th>GarageCars</th>           <td>    0.0536</td> <td>    0.008</td> <td>    6.552</td> <td> 0.000</td> <td>    0.038</td> <td>    0.070</td>\n",
       "</tr>\n",
       "<tr>\n",
       "  <th>GarageQual</th>           <td>    0.0497</td> <td>    0.016</td> <td>    3.172</td> <td> 0.002</td> <td>    0.019</td> <td>    0.081</td>\n",
       "</tr>\n",
       "<tr>\n",
       "  <th>WoodDeckSF</th>           <td>    0.0001</td> <td> 3.15e-05</td> <td>    3.184</td> <td> 0.001</td> <td> 3.85e-05</td> <td>    0.000</td>\n",
       "</tr>\n",
       "<tr>\n",
       "  <th>ScreenPorch</th>          <td>    0.0003</td> <td> 6.64e-05</td> <td>    5.181</td> <td> 0.000</td> <td>    0.000</td> <td>    0.000</td>\n",
       "</tr>\n",
       "<tr>\n",
       "  <th>LotConfig_CulDSac</th>    <td>    0.0436</td> <td>    0.015</td> <td>    2.846</td> <td> 0.004</td> <td>    0.014</td> <td>    0.074</td>\n",
       "</tr>\n",
       "<tr>\n",
       "  <th>Neighborhood_Crawfor</th> <td>    0.1743</td> <td>    0.021</td> <td>    8.411</td> <td> 0.000</td> <td>    0.134</td> <td>    0.215</td>\n",
       "</tr>\n",
       "<tr>\n",
       "  <th>Neighborhood_Edwards</th> <td>   -0.0549</td> <td>    0.015</td> <td>   -3.546</td> <td> 0.000</td> <td>   -0.085</td> <td>   -0.025</td>\n",
       "</tr>\n",
       "<tr>\n",
       "  <th>Neighborhood_NoRidge</th> <td>    0.1147</td> <td>    0.024</td> <td>    4.786</td> <td> 0.000</td> <td>    0.068</td> <td>    0.162</td>\n",
       "</tr>\n",
       "<tr>\n",
       "  <th>Neighborhood_NridgHt</th> <td>    0.1418</td> <td>    0.019</td> <td>    7.459</td> <td> 0.000</td> <td>    0.105</td> <td>    0.179</td>\n",
       "</tr>\n",
       "<tr>\n",
       "  <th>Neighborhood_Somerst</th> <td>    0.0970</td> <td>    0.017</td> <td>    5.587</td> <td> 0.000</td> <td>    0.063</td> <td>    0.131</td>\n",
       "</tr>\n",
       "<tr>\n",
       "  <th>Neighborhood_StoneBr</th> <td>    0.1840</td> <td>    0.029</td> <td>    6.291</td> <td> 0.000</td> <td>    0.127</td> <td>    0.241</td>\n",
       "</tr>\n",
       "<tr>\n",
       "  <th>Neighborhood_Veenker</th> <td>    0.0845</td> <td>    0.042</td> <td>    2.020</td> <td> 0.044</td> <td>    0.002</td> <td>    0.167</td>\n",
       "</tr>\n",
       "<tr>\n",
       "  <th>BldgType_2fmCon</th>      <td>    0.1288</td> <td>    0.030</td> <td>    4.263</td> <td> 0.000</td> <td>    0.070</td> <td>    0.188</td>\n",
       "</tr>\n",
       "<tr>\n",
       "  <th>SaleCondition_Normal</th> <td>    0.0725</td> <td>    0.013</td> <td>    5.720</td> <td> 0.000</td> <td>    0.048</td> <td>    0.097</td>\n",
       "</tr>\n",
       "<tr>\n",
       "  <th>SaleType_New</th>         <td>    0.0901</td> <td>    0.019</td> <td>    4.684</td> <td> 0.000</td> <td>    0.052</td> <td>    0.128</td>\n",
       "</tr>\n",
       "</table>\n",
       "<table class=\"simpletable\">\n",
       "<tr>\n",
       "  <th>Omnibus:</th>       <td>1001.525</td> <th>  Durbin-Watson:     </th> <td>   1.940</td> \n",
       "</tr>\n",
       "<tr>\n",
       "  <th>Prob(Omnibus):</th>  <td> 0.000</td>  <th>  Jarque-Bera (JB):  </th> <td>42954.245</td>\n",
       "</tr>\n",
       "<tr>\n",
       "  <th>Skew:</th>           <td>-2.744</td>  <th>  Prob(JB):          </th> <td>    0.00</td> \n",
       "</tr>\n",
       "<tr>\n",
       "  <th>Kurtosis:</th>       <td>29.360</td>  <th>  Cond. No.          </th> <td>2.11e+05</td> \n",
       "</tr>\n",
       "</table><br/><br/>Warnings:<br/>[1] Standard Errors assume that the covariance matrix of the errors is correctly specified.<br/>[2] The condition number is large, 2.11e+05. This might indicate that there are<br/>strong multicollinearity or other numerical problems."
      ],
      "text/plain": [
       "<class 'statsmodels.iolib.summary.Summary'>\n",
       "\"\"\"\n",
       "                            OLS Regression Results                            \n",
       "==============================================================================\n",
       "Dep. Variable:              SalePrice   R-squared:                       0.884\n",
       "Model:                            OLS   Adj. R-squared:                  0.881\n",
       "Method:                 Least Squares   F-statistic:                     378.2\n",
       "Date:                Wed, 20 Nov 2019   Prob (F-statistic):               0.00\n",
       "Time:                        16:54:58   Log-Likelihood:                 837.64\n",
       "No. Observations:                1422   AIC:                            -1617.\n",
       "Df Residuals:                    1393   BIC:                            -1465.\n",
       "Df Model:                          28                                         \n",
       "Covariance Type:            nonrobust                                         \n",
       "========================================================================================\n",
       "                           coef    std err          t      P>|t|      [0.025      0.975]\n",
       "----------------------------------------------------------------------------------------\n",
       "const                   10.6499      0.050    210.958      0.000      10.551      10.749\n",
       "MSSubClass              -0.0012      0.000    -11.626      0.000      -0.001      -0.001\n",
       "LotArea               1.597e-06   4.05e-07      3.942      0.000    8.03e-07    2.39e-06\n",
       "OverallQual              0.0635      0.005     12.907      0.000       0.054       0.073\n",
       "OverallCond              0.0460      0.004     12.030      0.000       0.039       0.054\n",
       "YearBuilt               -0.0031      0.000    -14.660      0.000      -0.004      -0.003\n",
       "BsmtQual                 0.0237      0.009      2.588      0.010       0.006       0.042\n",
       "BsmtExposure             0.0211      0.004      5.259      0.000       0.013       0.029\n",
       "GrLivArea                0.0002   1.56e-05     13.698      0.000       0.000       0.000\n",
       "BsmtFullBath             0.0611      0.008      8.017      0.000       0.046       0.076\n",
       "KitchenQual              0.0343      0.008      4.276      0.000       0.019       0.050\n",
       "TotRmsAbvGrd             0.0155      0.004      3.692      0.000       0.007       0.024\n",
       "Fireplaces               0.0364      0.007      5.291      0.000       0.023       0.050\n",
       "GarageYrBlt          -5.592e-05   2.55e-05     -2.190      0.029      -0.000   -5.82e-06\n",
       "GarageCars               0.0536      0.008      6.552      0.000       0.038       0.070\n",
       "GarageQual               0.0497      0.016      3.172      0.002       0.019       0.081\n",
       "WoodDeckSF               0.0001   3.15e-05      3.184      0.001    3.85e-05       0.000\n",
       "ScreenPorch              0.0003   6.64e-05      5.181      0.000       0.000       0.000\n",
       "LotConfig_CulDSac        0.0436      0.015      2.846      0.004       0.014       0.074\n",
       "Neighborhood_Crawfor     0.1743      0.021      8.411      0.000       0.134       0.215\n",
       "Neighborhood_Edwards    -0.0549      0.015     -3.546      0.000      -0.085      -0.025\n",
       "Neighborhood_NoRidge     0.1147      0.024      4.786      0.000       0.068       0.162\n",
       "Neighborhood_NridgHt     0.1418      0.019      7.459      0.000       0.105       0.179\n",
       "Neighborhood_Somerst     0.0970      0.017      5.587      0.000       0.063       0.131\n",
       "Neighborhood_StoneBr     0.1840      0.029      6.291      0.000       0.127       0.241\n",
       "Neighborhood_Veenker     0.0845      0.042      2.020      0.044       0.002       0.167\n",
       "BldgType_2fmCon          0.1288      0.030      4.263      0.000       0.070       0.188\n",
       "SaleCondition_Normal     0.0725      0.013      5.720      0.000       0.048       0.097\n",
       "SaleType_New             0.0901      0.019      4.684      0.000       0.052       0.128\n",
       "==============================================================================\n",
       "Omnibus:                     1001.525   Durbin-Watson:                   1.940\n",
       "Prob(Omnibus):                  0.000   Jarque-Bera (JB):            42954.245\n",
       "Skew:                          -2.744   Prob(JB):                         0.00\n",
       "Kurtosis:                      29.360   Cond. No.                     2.11e+05\n",
       "==============================================================================\n",
       "\n",
       "Warnings:\n",
       "[1] Standard Errors assume that the covariance matrix of the errors is correctly specified.\n",
       "[2] The condition number is large, 2.11e+05. This might indicate that there are\n",
       "strong multicollinearity or other numerical problems.\n",
       "\"\"\""
      ]
     },
     "execution_count": 458,
     "metadata": {},
     "output_type": "execute_result"
    }
   ],
   "source": [
    "y_new=np.log(y)\n",
    "model=sm.OLS(y_new,X)\n",
    "model_fit=model.fit()\n",
    "model_fit.summary()"
   ]
  },
  {
   "cell_type": "code",
   "execution_count": 459,
   "metadata": {},
   "outputs": [
    {
     "data": {
      "image/png": "[encoded data removed]",
      "text/plain": [
       "<Figure size 432x288 with 1 Axes>"
      ]
     },
     "metadata": {
      "needs_background": "light"
     },
     "output_type": "display_data"
    }
   ],
   "source": [
    "y_hat=model.predict(model_fit.params)\n",
    "y_np=y_new.values\n",
    "\n",
    "import pylab \n",
    "import scipy.stats as stats \n",
    "stats.probplot(y_np-y_hat, dist=\"norm\", plot=pylab) \n",
    "pylab.title('QQ Plot: Test Gaussian Residuals') \n",
    "pylab.show()"
   ]
  },
  {
   "cell_type": "code",
   "execution_count": 465,
   "metadata": {},
   "outputs": [
    {
     "data": {
      "text/plain": [
       "KstestResult(statistic=0.3888756211324579, pvalue=8.916923856637633e-193)"
      ]
     },
     "execution_count": 465,
     "metadata": {},
     "output_type": "execute_result"
    }
   ],
   "source": [
    "kstest(model_fit.resid[model_fit.resid>-0.5],'norm')"
   ]
  },
  {
   "cell_type": "markdown",
   "metadata": {},
   "source": [
    "# Linearity"
   ]
  },
  {
   "cell_type": "code",
   "execution_count": 470,
   "metadata": {},
   "outputs": [],
   "source": [
    "from statsmodels.stats.diagnostic import linear_harvey_collier"
   ]
  },
  {
   "cell_type": "code",
   "execution_count": 471,
   "metadata": {},
   "outputs": [
    {
     "ename": "LinAlgError",
     "evalue": "Singular matrix",
     "output_type": "error",
     "traceback": [
      "\u001b[1;31m---------------------------------------------------------------------------\u001b[0m",
      "\u001b[1;31mLinAlgError\u001b[0m                               Traceback (most recent call last)",
      "\u001b[1;32m<ipython-input-471-57e474ccb428>\u001b[0m in \u001b[0;36m<module>\u001b[1;34m\u001b[0m\n\u001b[1;32m----> 1\u001b[1;33m \u001b[0mlinear_harvey_collier\u001b[0m\u001b[1;33m(\u001b[0m\u001b[0mmodel_fit\u001b[0m\u001b[1;33m)\u001b[0m\u001b[1;33m\u001b[0m\u001b[1;33m\u001b[0m\u001b[0m\n\u001b[0m",
      "\u001b[1;32m~\\Anaconda3\\lib\\site-packages\\statsmodels\\sandbox\\stats\\diagnostic.py\u001b[0m in \u001b[0;36mlinear_harvey_collier\u001b[1;34m(res)\u001b[0m\n\u001b[0;32m    903\u001b[0m     \u001b[1;31m#B.H. Baltagi, Econometrics, 2011, chapter 8\u001b[0m\u001b[1;33m\u001b[0m\u001b[1;33m\u001b[0m\u001b[1;33m\u001b[0m\u001b[0m\n\u001b[0;32m    904\u001b[0m     \u001b[1;31m#but it matches Gretl and R:lmtest, pvalue at decimal=13\u001b[0m\u001b[1;33m\u001b[0m\u001b[1;33m\u001b[0m\u001b[1;33m\u001b[0m\u001b[0m\n\u001b[1;32m--> 905\u001b[1;33m     \u001b[0mrr\u001b[0m \u001b[1;33m=\u001b[0m \u001b[0mrecursive_olsresiduals\u001b[0m\u001b[1;33m(\u001b[0m\u001b[0mres\u001b[0m\u001b[1;33m,\u001b[0m \u001b[0mskip\u001b[0m\u001b[1;33m=\u001b[0m\u001b[1;36m3\u001b[0m\u001b[1;33m,\u001b[0m \u001b[0malpha\u001b[0m\u001b[1;33m=\u001b[0m\u001b[1;36m0.95\u001b[0m\u001b[1;33m)\u001b[0m\u001b[1;33m\u001b[0m\u001b[1;33m\u001b[0m\u001b[0m\n\u001b[0m\u001b[0;32m    906\u001b[0m     \u001b[1;32mfrom\u001b[0m \u001b[0mscipy\u001b[0m \u001b[1;32mimport\u001b[0m \u001b[0mstats\u001b[0m\u001b[1;33m\u001b[0m\u001b[1;33m\u001b[0m\u001b[0m\n\u001b[0;32m    907\u001b[0m \u001b[1;33m\u001b[0m\u001b[0m\n",
      "\u001b[1;32m~\\Anaconda3\\lib\\site-packages\\statsmodels\\sandbox\\stats\\diagnostic.py\u001b[0m in \u001b[0;36mrecursive_olsresiduals\u001b[1;34m(olsresults, skip, lamda, alpha)\u001b[0m\n\u001b[0;32m   1240\u001b[0m     \u001b[0my0\u001b[0m \u001b[1;33m=\u001b[0m \u001b[0my\u001b[0m\u001b[1;33m[\u001b[0m\u001b[1;33m:\u001b[0m\u001b[0mskip\u001b[0m\u001b[1;33m]\u001b[0m\u001b[1;33m\u001b[0m\u001b[1;33m\u001b[0m\u001b[0m\n\u001b[0;32m   1241\u001b[0m     \u001b[1;31m#add Ridge to start (not in jplv\u001b[0m\u001b[1;33m\u001b[0m\u001b[1;33m\u001b[0m\u001b[1;33m\u001b[0m\u001b[0m\n\u001b[1;32m-> 1242\u001b[1;33m     \u001b[0mXTXi\u001b[0m \u001b[1;33m=\u001b[0m \u001b[0mnp\u001b[0m\u001b[1;33m.\u001b[0m\u001b[0mlinalg\u001b[0m\u001b[1;33m.\u001b[0m\u001b[0minv\u001b[0m\u001b[1;33m(\u001b[0m\u001b[0mnp\u001b[0m\u001b[1;33m.\u001b[0m\u001b[0mdot\u001b[0m\u001b[1;33m(\u001b[0m\u001b[0mx0\u001b[0m\u001b[1;33m.\u001b[0m\u001b[0mT\u001b[0m\u001b[1;33m,\u001b[0m \u001b[0mx0\u001b[0m\u001b[1;33m)\u001b[0m\u001b[1;33m+\u001b[0m\u001b[0mlamda\u001b[0m\u001b[1;33m*\u001b[0m\u001b[0mnp\u001b[0m\u001b[1;33m.\u001b[0m\u001b[0meye\u001b[0m\u001b[1;33m(\u001b[0m\u001b[0mnvars\u001b[0m\u001b[1;33m)\u001b[0m\u001b[1;33m)\u001b[0m\u001b[1;33m\u001b[0m\u001b[1;33m\u001b[0m\u001b[0m\n\u001b[0m\u001b[0;32m   1243\u001b[0m     \u001b[0mXTY\u001b[0m \u001b[1;33m=\u001b[0m \u001b[0mnp\u001b[0m\u001b[1;33m.\u001b[0m\u001b[0mdot\u001b[0m\u001b[1;33m(\u001b[0m\u001b[0mx0\u001b[0m\u001b[1;33m.\u001b[0m\u001b[0mT\u001b[0m\u001b[1;33m,\u001b[0m \u001b[0my0\u001b[0m\u001b[1;33m)\u001b[0m \u001b[1;31m#xi * y   #np.dot(xi, y)\u001b[0m\u001b[1;33m\u001b[0m\u001b[1;33m\u001b[0m\u001b[0m\n\u001b[0;32m   1244\u001b[0m     \u001b[1;31m#beta = np.linalg.solve(XTX, XTY)\u001b[0m\u001b[1;33m\u001b[0m\u001b[1;33m\u001b[0m\u001b[1;33m\u001b[0m\u001b[0m\n",
      "\u001b[1;32m~\\Anaconda3\\lib\\site-packages\\numpy\\linalg\\linalg.py\u001b[0m in \u001b[0;36minv\u001b[1;34m(a)\u001b[0m\n\u001b[0;32m    549\u001b[0m     \u001b[0msignature\u001b[0m \u001b[1;33m=\u001b[0m \u001b[1;34m'D->D'\u001b[0m \u001b[1;32mif\u001b[0m \u001b[0misComplexType\u001b[0m\u001b[1;33m(\u001b[0m\u001b[0mt\u001b[0m\u001b[1;33m)\u001b[0m \u001b[1;32melse\u001b[0m \u001b[1;34m'd->d'\u001b[0m\u001b[1;33m\u001b[0m\u001b[1;33m\u001b[0m\u001b[0m\n\u001b[0;32m    550\u001b[0m     \u001b[0mextobj\u001b[0m \u001b[1;33m=\u001b[0m \u001b[0mget_linalg_error_extobj\u001b[0m\u001b[1;33m(\u001b[0m\u001b[0m_raise_linalgerror_singular\u001b[0m\u001b[1;33m)\u001b[0m\u001b[1;33m\u001b[0m\u001b[1;33m\u001b[0m\u001b[0m\n\u001b[1;32m--> 551\u001b[1;33m     \u001b[0mainv\u001b[0m \u001b[1;33m=\u001b[0m \u001b[0m_umath_linalg\u001b[0m\u001b[1;33m.\u001b[0m\u001b[0minv\u001b[0m\u001b[1;33m(\u001b[0m\u001b[0ma\u001b[0m\u001b[1;33m,\u001b[0m \u001b[0msignature\u001b[0m\u001b[1;33m=\u001b[0m\u001b[0msignature\u001b[0m\u001b[1;33m,\u001b[0m \u001b[0mextobj\u001b[0m\u001b[1;33m=\u001b[0m\u001b[0mextobj\u001b[0m\u001b[1;33m)\u001b[0m\u001b[1;33m\u001b[0m\u001b[1;33m\u001b[0m\u001b[0m\n\u001b[0m\u001b[0;32m    552\u001b[0m     \u001b[1;32mreturn\u001b[0m \u001b[0mwrap\u001b[0m\u001b[1;33m(\u001b[0m\u001b[0mainv\u001b[0m\u001b[1;33m.\u001b[0m\u001b[0mastype\u001b[0m\u001b[1;33m(\u001b[0m\u001b[0mresult_t\u001b[0m\u001b[1;33m,\u001b[0m \u001b[0mcopy\u001b[0m\u001b[1;33m=\u001b[0m\u001b[1;32mFalse\u001b[0m\u001b[1;33m)\u001b[0m\u001b[1;33m)\u001b[0m\u001b[1;33m\u001b[0m\u001b[1;33m\u001b[0m\u001b[0m\n\u001b[0;32m    553\u001b[0m \u001b[1;33m\u001b[0m\u001b[0m\n",
      "\u001b[1;32m~\\Anaconda3\\lib\\site-packages\\numpy\\linalg\\linalg.py\u001b[0m in \u001b[0;36m_raise_linalgerror_singular\u001b[1;34m(err, flag)\u001b[0m\n\u001b[0;32m     95\u001b[0m \u001b[1;33m\u001b[0m\u001b[0m\n\u001b[0;32m     96\u001b[0m \u001b[1;32mdef\u001b[0m \u001b[0m_raise_linalgerror_singular\u001b[0m\u001b[1;33m(\u001b[0m\u001b[0merr\u001b[0m\u001b[1;33m,\u001b[0m \u001b[0mflag\u001b[0m\u001b[1;33m)\u001b[0m\u001b[1;33m:\u001b[0m\u001b[1;33m\u001b[0m\u001b[1;33m\u001b[0m\u001b[0m\n\u001b[1;32m---> 97\u001b[1;33m     \u001b[1;32mraise\u001b[0m \u001b[0mLinAlgError\u001b[0m\u001b[1;33m(\u001b[0m\u001b[1;34m\"Singular matrix\"\u001b[0m\u001b[1;33m)\u001b[0m\u001b[1;33m\u001b[0m\u001b[1;33m\u001b[0m\u001b[0m\n\u001b[0m\u001b[0;32m     98\u001b[0m \u001b[1;33m\u001b[0m\u001b[0m\n\u001b[0;32m     99\u001b[0m \u001b[1;32mdef\u001b[0m \u001b[0m_raise_linalgerror_nonposdef\u001b[0m\u001b[1;33m(\u001b[0m\u001b[0merr\u001b[0m\u001b[1;33m,\u001b[0m \u001b[0mflag\u001b[0m\u001b[1;33m)\u001b[0m\u001b[1;33m:\u001b[0m\u001b[1;33m\u001b[0m\u001b[1;33m\u001b[0m\u001b[0m\n",
      "\u001b[1;31mLinAlgError\u001b[0m: Singular matrix"
     ]
    }
   ],
   "source": [
    "linear_harvey_collier(model_fit)"
   ]
  },
  {
   "cell_type": "code",
   "execution_count": 473,
   "metadata": {},
   "outputs": [
    {
     "data": {
      "text/plain": [
       "[<matplotlib.lines.Line2D at 0x235c5263080>]"
      ]
     },
     "execution_count": 473,
     "metadata": {},
     "output_type": "execute_result"
    },
    {
     "data": {
      "image/png": "[encoded data removed]",
      "text/plain": [
       "<Figure size 432x288 with 1 Axes>"
      ]
     },
     "metadata": {
      "needs_background": "light"
     },
     "output_type": "display_data"
    }
   ],
   "source": [
    "plt.plot(y_hat,y_np-y_hat,'*')"
   ]
  },
  {
   "cell_type": "markdown",
   "metadata": {},
   "source": [
    "We plot this plot to see whether we can predict our y with residuals. If it is the case, we need to add variables. Here it is not the case"
   ]
  },
  {
   "cell_type": "markdown",
   "metadata": {},
   "source": [
    "# Exogeneity step"
   ]
  },
  {
   "cell_type": "code",
   "execution_count": 474,
   "metadata": {},
   "outputs": [
    {
     "data": {
      "text/plain": [
       "[<matplotlib.lines.Line2D at 0x235c53df4e0>]"
      ]
     },
     "execution_count": 474,
     "metadata": {},
     "output_type": "execute_result"
    },
    {
     "data": {
      "image/png": "[encoded data removed]",
      "text/plain": [
       "<Figure size 432x288 with 1 Axes>"
      ]
     },
     "metadata": {
      "needs_background": "light"
     },
     "output_type": "display_data"
    }
   ],
   "source": [
    "resid_model=sm.OLS((y_np-y_hat)**2,X)\n",
    "results_resid=resid_model.fit()\n",
    "resid_predict=resid_model.predict(results_resid.params)\n",
    "plt.plot(resid_predict,(y_np-y_hat)**2,'*')"
   ]
  },
  {
   "cell_type": "markdown",
   "metadata": {},
   "source": [
    "Here we try to predict residuals using X. If we see the trend, it sucks. "
   ]
  },
  {
   "cell_type": "code",
   "execution_count": 484,
   "metadata": {},
   "outputs": [
    {
     "data": {
      "text/plain": [
       "(11.002619044313766, 13.063485161138129)"
      ]
     },
     "execution_count": 484,
     "metadata": {},
     "output_type": "execute_result"
    }
   ],
   "source": [
    "iqr=pd.Series(y_new).describe()\n",
    "cutoff=(iqr['75%']-iqr['25%'])*1.6\n",
    "lbound=iqr['25%']-cutoff\n",
    "ubound=iqr['75%']+cutoff\n",
    "(lbound,ubound)\n"
   ]
  },
  {
   "cell_type": "code",
   "execution_count": 496,
   "metadata": {},
   "outputs": [
    {
     "name": "stdout",
     "output_type": "stream",
     "text": [
      "(23,)\n"
     ]
    }
   ],
   "source": [
    "y_new=np.log(y)\n",
    "\n",
    "y_new=pd.Series(y_new)\n",
    "print(y_new[(y_new<lbound)|(y_new>ubound)].shape)\n",
    "#X=X.drop(y_new[(y_new<lbound)|(y_new>ubound)].index)\n",
    "y_new=y_new.drop(y_new[(y_new<lbound)|(y_new>ubound)].index)\n"
   ]
  },
  {
   "cell_type": "code",
   "execution_count": 494,
   "metadata": {},
   "outputs": [
    {
     "data": {
      "text/plain": [
       "((1399, 29), (1399,))"
      ]
     },
     "execution_count": 494,
     "metadata": {},
     "output_type": "execute_result"
    }
   ],
   "source": [
    "(X.shape,y_new.shape)"
   ]
  },
  {
   "cell_type": "markdown",
   "metadata": {},
   "source": [
    "Here we dropped 23 outliers. But occasionaly they are not the only ones. We will see it later on."
   ]
  },
  {
   "cell_type": "code",
   "execution_count": 497,
   "metadata": {},
   "outputs": [
    {
     "data": {
      "text/html": [
       "<table class=\"simpletable\">\n",
       "<caption>OLS Regression Results</caption>\n",
       "<tr>\n",
       "  <th>Dep. Variable:</th>        <td>SalePrice</td>    <th>  R-squared:         </th> <td>   0.884</td>\n",
       "</tr>\n",
       "<tr>\n",
       "  <th>Model:</th>                   <td>OLS</td>       <th>  Adj. R-squared:    </th> <td>   0.881</td>\n",
       "</tr>\n",
       "<tr>\n",
       "  <th>Method:</th>             <td>Least Squares</td>  <th>  F-statistic:       </th> <td>   371.7</td>\n",
       "</tr>\n",
       "<tr>\n",
       "  <th>Date:</th>             <td>Wed, 20 Nov 2019</td> <th>  Prob (F-statistic):</th>  <td>  0.00</td> \n",
       "</tr>\n",
       "<tr>\n",
       "  <th>Time:</th>                 <td>17:19:21</td>     <th>  Log-Likelihood:    </th> <td>  935.76</td>\n",
       "</tr>\n",
       "<tr>\n",
       "  <th>No. Observations:</th>      <td>  1399</td>      <th>  AIC:               </th> <td>  -1814.</td>\n",
       "</tr>\n",
       "<tr>\n",
       "  <th>Df Residuals:</th>          <td>  1370</td>      <th>  BIC:               </th> <td>  -1661.</td>\n",
       "</tr>\n",
       "<tr>\n",
       "  <th>Df Model:</th>              <td>    28</td>      <th>                     </th>     <td> </td>   \n",
       "</tr>\n",
       "<tr>\n",
       "  <th>Covariance Type:</th>      <td>nonrobust</td>    <th>                     </th>     <td> </td>   \n",
       "</tr>\n",
       "</table>\n",
       "<table class=\"simpletable\">\n",
       "<tr>\n",
       "            <td></td>              <th>coef</th>     <th>std err</th>      <th>t</th>      <th>P>|t|</th>  <th>[0.025</th>    <th>0.975]</th>  \n",
       "</tr>\n",
       "<tr>\n",
       "  <th>const</th>                <td>   10.7548</td> <td>    0.048</td> <td>  225.490</td> <td> 0.000</td> <td>   10.661</td> <td>   10.848</td>\n",
       "</tr>\n",
       "<tr>\n",
       "  <th>MSSubClass</th>           <td>   -0.0012</td> <td> 9.47e-05</td> <td>  -13.030</td> <td> 0.000</td> <td>   -0.001</td> <td>   -0.001</td>\n",
       "</tr>\n",
       "<tr>\n",
       "  <th>LotArea</th>              <td> 1.605e-06</td> <td> 3.76e-07</td> <td>    4.268</td> <td> 0.000</td> <td> 8.67e-07</td> <td> 2.34e-06</td>\n",
       "</tr>\n",
       "<tr>\n",
       "  <th>OverallQual</th>          <td>    0.0575</td> <td>    0.005</td> <td>   12.452</td> <td> 0.000</td> <td>    0.048</td> <td>    0.067</td>\n",
       "</tr>\n",
       "<tr>\n",
       "  <th>OverallCond</th>          <td>    0.0390</td> <td>    0.004</td> <td>   10.853</td> <td> 0.000</td> <td>    0.032</td> <td>    0.046</td>\n",
       "</tr>\n",
       "<tr>\n",
       "  <th>YearBuilt</th>            <td>   -0.0029</td> <td>    0.000</td> <td>  -14.397</td> <td> 0.000</td> <td>   -0.003</td> <td>   -0.002</td>\n",
       "</tr>\n",
       "<tr>\n",
       "  <th>BsmtQual</th>             <td>    0.0284</td> <td>    0.009</td> <td>    3.333</td> <td> 0.001</td> <td>    0.012</td> <td>    0.045</td>\n",
       "</tr>\n",
       "<tr>\n",
       "  <th>BsmtExposure</th>         <td>    0.0216</td> <td>    0.004</td> <td>    5.770</td> <td> 0.000</td> <td>    0.014</td> <td>    0.029</td>\n",
       "</tr>\n",
       "<tr>\n",
       "  <th>GrLivArea</th>            <td>    0.0002</td> <td> 1.48e-05</td> <td>   14.160</td> <td> 0.000</td> <td>    0.000</td> <td>    0.000</td>\n",
       "</tr>\n",
       "<tr>\n",
       "  <th>BsmtFullBath</th>         <td>    0.0571</td> <td>    0.007</td> <td>    8.060</td> <td> 0.000</td> <td>    0.043</td> <td>    0.071</td>\n",
       "</tr>\n",
       "<tr>\n",
       "  <th>KitchenQual</th>          <td>    0.0371</td> <td>    0.007</td> <td>    4.958</td> <td> 0.000</td> <td>    0.022</td> <td>    0.052</td>\n",
       "</tr>\n",
       "<tr>\n",
       "  <th>TotRmsAbvGrd</th>         <td>    0.0132</td> <td>    0.004</td> <td>    3.315</td> <td> 0.001</td> <td>    0.005</td> <td>    0.021</td>\n",
       "</tr>\n",
       "<tr>\n",
       "  <th>Fireplaces</th>           <td>    0.0355</td> <td>    0.006</td> <td>    5.553</td> <td> 0.000</td> <td>    0.023</td> <td>    0.048</td>\n",
       "</tr>\n",
       "<tr>\n",
       "  <th>GarageYrBlt</th>          <td>-8.908e-05</td> <td> 2.44e-05</td> <td>   -3.656</td> <td> 0.000</td> <td>   -0.000</td> <td>-4.13e-05</td>\n",
       "</tr>\n",
       "<tr>\n",
       "  <th>GarageCars</th>           <td>    0.0564</td> <td>    0.008</td> <td>    7.431</td> <td> 0.000</td> <td>    0.042</td> <td>    0.071</td>\n",
       "</tr>\n",
       "<tr>\n",
       "  <th>GarageQual</th>           <td>    0.0617</td> <td>    0.015</td> <td>    4.142</td> <td> 0.000</td> <td>    0.032</td> <td>    0.091</td>\n",
       "</tr>\n",
       "<tr>\n",
       "  <th>WoodDeckSF</th>           <td>    0.0001</td> <td> 2.93e-05</td> <td>    3.536</td> <td> 0.000</td> <td> 4.61e-05</td> <td>    0.000</td>\n",
       "</tr>\n",
       "<tr>\n",
       "  <th>ScreenPorch</th>          <td>    0.0003</td> <td>  6.3e-05</td> <td>    5.266</td> <td> 0.000</td> <td>    0.000</td> <td>    0.000</td>\n",
       "</tr>\n",
       "<tr>\n",
       "  <th>LotConfig_CulDSac</th>    <td>    0.0429</td> <td>    0.014</td> <td>    2.997</td> <td> 0.003</td> <td>    0.015</td> <td>    0.071</td>\n",
       "</tr>\n",
       "<tr>\n",
       "  <th>Neighborhood_Crawfor</th> <td>    0.1776</td> <td>    0.019</td> <td>    9.267</td> <td> 0.000</td> <td>    0.140</td> <td>    0.215</td>\n",
       "</tr>\n",
       "<tr>\n",
       "  <th>Neighborhood_Edwards</th> <td>   -0.0617</td> <td>    0.014</td> <td>   -4.261</td> <td> 0.000</td> <td>   -0.090</td> <td>   -0.033</td>\n",
       "</tr>\n",
       "<tr>\n",
       "  <th>Neighborhood_NoRidge</th> <td>    0.1156</td> <td>    0.023</td> <td>    5.130</td> <td> 0.000</td> <td>    0.071</td> <td>    0.160</td>\n",
       "</tr>\n",
       "<tr>\n",
       "  <th>Neighborhood_NridgHt</th> <td>    0.1446</td> <td>    0.018</td> <td>    8.110</td> <td> 0.000</td> <td>    0.110</td> <td>    0.180</td>\n",
       "</tr>\n",
       "<tr>\n",
       "  <th>Neighborhood_Somerst</th> <td>    0.1040</td> <td>    0.016</td> <td>    6.473</td> <td> 0.000</td> <td>    0.072</td> <td>    0.135</td>\n",
       "</tr>\n",
       "<tr>\n",
       "  <th>Neighborhood_StoneBr</th> <td>    0.1797</td> <td>    0.029</td> <td>    6.296</td> <td> 0.000</td> <td>    0.124</td> <td>    0.236</td>\n",
       "</tr>\n",
       "<tr>\n",
       "  <th>Neighborhood_Veenker</th> <td>    0.0926</td> <td>    0.039</td> <td>    2.394</td> <td> 0.017</td> <td>    0.017</td> <td>    0.168</td>\n",
       "</tr>\n",
       "<tr>\n",
       "  <th>BldgType_2fmCon</th>      <td>    0.1184</td> <td>    0.028</td> <td>    4.236</td> <td> 0.000</td> <td>    0.064</td> <td>    0.173</td>\n",
       "</tr>\n",
       "<tr>\n",
       "  <th>SaleCondition_Normal</th> <td>    0.0573</td> <td>    0.012</td> <td>    4.804</td> <td> 0.000</td> <td>    0.034</td> <td>    0.081</td>\n",
       "</tr>\n",
       "<tr>\n",
       "  <th>SaleType_New</th>         <td>    0.0703</td> <td>    0.018</td> <td>    3.904</td> <td> 0.000</td> <td>    0.035</td> <td>    0.106</td>\n",
       "</tr>\n",
       "</table>\n",
       "<table class=\"simpletable\">\n",
       "<tr>\n",
       "  <th>Omnibus:</th>       <td>965.820</td> <th>  Durbin-Watson:     </th> <td>   1.984</td> \n",
       "</tr>\n",
       "<tr>\n",
       "  <th>Prob(Omnibus):</th> <td> 0.000</td>  <th>  Jarque-Bera (JB):  </th> <td>49276.502</td>\n",
       "</tr>\n",
       "<tr>\n",
       "  <th>Skew:</th>          <td>-2.597</td>  <th>  Prob(JB):          </th> <td>    0.00</td> \n",
       "</tr>\n",
       "<tr>\n",
       "  <th>Kurtosis:</th>      <td>31.607</td>  <th>  Cond. No.          </th> <td>2.13e+05</td> \n",
       "</tr>\n",
       "</table><br/><br/>Warnings:<br/>[1] Standard Errors assume that the covariance matrix of the errors is correctly specified.<br/>[2] The condition number is large, 2.13e+05. This might indicate that there are<br/>strong multicollinearity or other numerical problems."
      ],
      "text/plain": [
       "<class 'statsmodels.iolib.summary.Summary'>\n",
       "\"\"\"\n",
       "                            OLS Regression Results                            \n",
       "==============================================================================\n",
       "Dep. Variable:              SalePrice   R-squared:                       0.884\n",
       "Model:                            OLS   Adj. R-squared:                  0.881\n",
       "Method:                 Least Squares   F-statistic:                     371.7\n",
       "Date:                Wed, 20 Nov 2019   Prob (F-statistic):               0.00\n",
       "Time:                        17:19:21   Log-Likelihood:                 935.76\n",
       "No. Observations:                1399   AIC:                            -1814.\n",
       "Df Residuals:                    1370   BIC:                            -1661.\n",
       "Df Model:                          28                                         \n",
       "Covariance Type:            nonrobust                                         \n",
       "========================================================================================\n",
       "                           coef    std err          t      P>|t|      [0.025      0.975]\n",
       "----------------------------------------------------------------------------------------\n",
       "const                   10.7548      0.048    225.490      0.000      10.661      10.848\n",
       "MSSubClass              -0.0012   9.47e-05    -13.030      0.000      -0.001      -0.001\n",
       "LotArea               1.605e-06   3.76e-07      4.268      0.000    8.67e-07    2.34e-06\n",
       "OverallQual              0.0575      0.005     12.452      0.000       0.048       0.067\n",
       "OverallCond              0.0390      0.004     10.853      0.000       0.032       0.046\n",
       "YearBuilt               -0.0029      0.000    -14.397      0.000      -0.003      -0.002\n",
       "BsmtQual                 0.0284      0.009      3.333      0.001       0.012       0.045\n",
       "BsmtExposure             0.0216      0.004      5.770      0.000       0.014       0.029\n",
       "GrLivArea                0.0002   1.48e-05     14.160      0.000       0.000       0.000\n",
       "BsmtFullBath             0.0571      0.007      8.060      0.000       0.043       0.071\n",
       "KitchenQual              0.0371      0.007      4.958      0.000       0.022       0.052\n",
       "TotRmsAbvGrd             0.0132      0.004      3.315      0.001       0.005       0.021\n",
       "Fireplaces               0.0355      0.006      5.553      0.000       0.023       0.048\n",
       "GarageYrBlt          -8.908e-05   2.44e-05     -3.656      0.000      -0.000   -4.13e-05\n",
       "GarageCars               0.0564      0.008      7.431      0.000       0.042       0.071\n",
       "GarageQual               0.0617      0.015      4.142      0.000       0.032       0.091\n",
       "WoodDeckSF               0.0001   2.93e-05      3.536      0.000    4.61e-05       0.000\n",
       "ScreenPorch              0.0003    6.3e-05      5.266      0.000       0.000       0.000\n",
       "LotConfig_CulDSac        0.0429      0.014      2.997      0.003       0.015       0.071\n",
       "Neighborhood_Crawfor     0.1776      0.019      9.267      0.000       0.140       0.215\n",
       "Neighborhood_Edwards    -0.0617      0.014     -4.261      0.000      -0.090      -0.033\n",
       "Neighborhood_NoRidge     0.1156      0.023      5.130      0.000       0.071       0.160\n",
       "Neighborhood_NridgHt     0.1446      0.018      8.110      0.000       0.110       0.180\n",
       "Neighborhood_Somerst     0.1040      0.016      6.473      0.000       0.072       0.135\n",
       "Neighborhood_StoneBr     0.1797      0.029      6.296      0.000       0.124       0.236\n",
       "Neighborhood_Veenker     0.0926      0.039      2.394      0.017       0.017       0.168\n",
       "BldgType_2fmCon          0.1184      0.028      4.236      0.000       0.064       0.173\n",
       "SaleCondition_Normal     0.0573      0.012      4.804      0.000       0.034       0.081\n",
       "SaleType_New             0.0703      0.018      3.904      0.000       0.035       0.106\n",
       "==============================================================================\n",
       "Omnibus:                      965.820   Durbin-Watson:                   1.984\n",
       "Prob(Omnibus):                  0.000   Jarque-Bera (JB):            49276.502\n",
       "Skew:                          -2.597   Prob(JB):                         0.00\n",
       "Kurtosis:                      31.607   Cond. No.                     2.13e+05\n",
       "==============================================================================\n",
       "\n",
       "Warnings:\n",
       "[1] Standard Errors assume that the covariance matrix of the errors is correctly specified.\n",
       "[2] The condition number is large, 2.13e+05. This might indicate that there are\n",
       "strong multicollinearity or other numerical problems.\n",
       "\"\"\""
      ]
     },
     "execution_count": 497,
     "metadata": {},
     "output_type": "execute_result"
    }
   ],
   "source": [
    "model=sm.OLS(y_new,X)\n",
    "model_fit=model.fit()\n",
    "model_fit.summary()"
   ]
  },
  {
   "cell_type": "code",
   "execution_count": 498,
   "metadata": {},
   "outputs": [
    {
     "data": {
      "image/png": "[encoded data removed]",
      "text/plain": [
       "<Figure size 432x288 with 1 Axes>"
      ]
     },
     "metadata": {
      "needs_background": "light"
     },
     "output_type": "display_data"
    }
   ],
   "source": [
    "y_hat=model.predict(model_fit.params)\n",
    "y_np=y_new.values\n",
    "\n",
    "import pylab \n",
    "import scipy.stats as stats \n",
    "stats.probplot(y_np-y_hat, dist=\"norm\", plot=pylab) \n",
    "pylab.title('QQ Plot: Test Gaussian Residuals') \n",
    "pylab.show()"
   ]
  },
  {
   "cell_type": "markdown",
   "metadata": {},
   "source": [
    "Still some outiers on the left side"
   ]
  },
  {
   "cell_type": "markdown",
   "metadata": {},
   "source": [
    "# Homoskedasticity"
   ]
  },
  {
   "cell_type": "code",
   "execution_count": 503,
   "metadata": {},
   "outputs": [
    {
     "name": "stdout",
     "output_type": "stream",
     "text": [
      "the p-value for the lagrange multiplier test statistic is 3.5524449289670915e-42\n"
     ]
    }
   ],
   "source": [
    "from statsmodels.stats.diagnostic import het_breuschpagan\n",
    "lm, lm_pvalue, fvalue, f_pvalue = het_breuschpagan(y_np-y_hat,X)\n",
    "print (f'the p-value for the lagrange multiplier test statistic is {lm_pvalue}')\n"
   ]
  },
  {
   "cell_type": "code",
   "execution_count": 525,
   "metadata": {},
   "outputs": [],
   "source": [
    "?het_breuschpagan"
   ]
  },
  {
   "cell_type": "markdown",
   "metadata": {},
   "source": []
  },
  {
   "cell_type": "code",
   "execution_count": 504,
   "metadata": {},
   "outputs": [
    {
     "data": {
      "text/plain": [
       "<matplotlib.axes._subplots.AxesSubplot at 0x235c55c8fd0>"
      ]
     },
     "execution_count": 504,
     "metadata": {},
     "output_type": "execute_result"
    },
    {
     "data": {
      "image/png": "[encoded data removed]",
      "text/plain": [
       "<Figure size 432x288 with 1 Axes>"
      ]
     },
     "metadata": {
      "needs_background": "light"
     },
     "output_type": "display_data"
    }
   ],
   "source": [
    "y_new.hist()"
   ]
  },
  {
   "cell_type": "code",
   "execution_count": 505,
   "metadata": {},
   "outputs": [
    {
     "data": {
      "text/plain": [
       "<matplotlib.axes._subplots.AxesSubplot at 0x235c5a61748>"
      ]
     },
     "execution_count": 505,
     "metadata": {},
     "output_type": "execute_result"
    },
    {
     "data": {
      "image/png": "[encoded data removed]",
      "text/plain": [
       "<Figure size 432x288 with 1 Axes>"
      ]
     },
     "metadata": {
      "needs_background": "light"
     },
     "output_type": "display_data"
    }
   ],
   "source": [
    "model_fit.resid.hist()"
   ]
  },
  {
   "cell_type": "code",
   "execution_count": 521,
   "metadata": {},
   "outputs": [
    {
     "data": {
      "text/html": [
       "<div>\n",
       "<style scoped>\n",
       "    .dataframe tbody tr th:only-of-type {\n",
       "        vertical-align: middle;\n",
       "    }\n",
       "\n",
       "    .dataframe tbody tr th {\n",
       "        vertical-align: top;\n",
       "    }\n",
       "\n",
       "    .dataframe thead th {\n",
       "        text-align: right;\n",
       "    }\n",
       "</style>\n",
       "<table border=\"1\" class=\"dataframe\">\n",
       "  <thead>\n",
       "    <tr style=\"text-align: right;\">\n",
       "      <th></th>\n",
       "      <th>index</th>\n",
       "      <th>const</th>\n",
       "      <th>MSSubClass</th>\n",
       "      <th>LotArea</th>\n",
       "      <th>OverallQual</th>\n",
       "      <th>OverallCond</th>\n",
       "      <th>YearBuilt</th>\n",
       "      <th>BsmtQual</th>\n",
       "      <th>BsmtExposure</th>\n",
       "      <th>GrLivArea</th>\n",
       "      <th>...</th>\n",
       "      <th>Neighborhood_Crawfor</th>\n",
       "      <th>Neighborhood_Edwards</th>\n",
       "      <th>Neighborhood_NoRidge</th>\n",
       "      <th>Neighborhood_NridgHt</th>\n",
       "      <th>Neighborhood_Somerst</th>\n",
       "      <th>Neighborhood_StoneBr</th>\n",
       "      <th>Neighborhood_Veenker</th>\n",
       "      <th>BldgType_2fmCon</th>\n",
       "      <th>SaleCondition_Normal</th>\n",
       "      <th>SaleType_New</th>\n",
       "    </tr>\n",
       "    <tr>\n",
       "      <th>Id</th>\n",
       "      <th></th>\n",
       "      <th></th>\n",
       "      <th></th>\n",
       "      <th></th>\n",
       "      <th></th>\n",
       "      <th></th>\n",
       "      <th></th>\n",
       "      <th></th>\n",
       "      <th></th>\n",
       "      <th></th>\n",
       "      <th></th>\n",
       "      <th></th>\n",
       "      <th></th>\n",
       "      <th></th>\n",
       "      <th></th>\n",
       "      <th></th>\n",
       "      <th></th>\n",
       "      <th></th>\n",
       "      <th></th>\n",
       "      <th></th>\n",
       "      <th></th>\n",
       "    </tr>\n",
       "  </thead>\n",
       "  <tbody>\n",
       "    <tr>\n",
       "      <th>463</th>\n",
       "      <td>446</td>\n",
       "      <td>1.0</td>\n",
       "      <td>20</td>\n",
       "      <td>8281</td>\n",
       "      <td>5</td>\n",
       "      <td>5</td>\n",
       "      <td>54</td>\n",
       "      <td>3</td>\n",
       "      <td>0</td>\n",
       "      <td>864</td>\n",
       "      <td>...</td>\n",
       "      <td>0</td>\n",
       "      <td>0</td>\n",
       "      <td>0</td>\n",
       "      <td>0</td>\n",
       "      <td>0</td>\n",
       "      <td>0</td>\n",
       "      <td>0</td>\n",
       "      <td>0</td>\n",
       "      <td>1</td>\n",
       "      <td>0</td>\n",
       "    </tr>\n",
       "    <tr>\n",
       "      <th>524</th>\n",
       "      <td>505</td>\n",
       "      <td>1.0</td>\n",
       "      <td>60</td>\n",
       "      <td>40094</td>\n",
       "      <td>10</td>\n",
       "      <td>5</td>\n",
       "      <td>12</td>\n",
       "      <td>5</td>\n",
       "      <td>3</td>\n",
       "      <td>4676</td>\n",
       "      <td>...</td>\n",
       "      <td>0</td>\n",
       "      <td>1</td>\n",
       "      <td>0</td>\n",
       "      <td>0</td>\n",
       "      <td>0</td>\n",
       "      <td>0</td>\n",
       "      <td>0</td>\n",
       "      <td>0</td>\n",
       "      <td>0</td>\n",
       "      <td>1</td>\n",
       "    </tr>\n",
       "    <tr>\n",
       "      <th>633</th>\n",
       "      <td>611</td>\n",
       "      <td>1.0</td>\n",
       "      <td>20</td>\n",
       "      <td>11900</td>\n",
       "      <td>7</td>\n",
       "      <td>5</td>\n",
       "      <td>42</td>\n",
       "      <td>3</td>\n",
       "      <td>0</td>\n",
       "      <td>1411</td>\n",
       "      <td>...</td>\n",
       "      <td>0</td>\n",
       "      <td>0</td>\n",
       "      <td>0</td>\n",
       "      <td>0</td>\n",
       "      <td>0</td>\n",
       "      <td>0</td>\n",
       "      <td>0</td>\n",
       "      <td>0</td>\n",
       "      <td>0</td>\n",
       "      <td>0</td>\n",
       "    </tr>\n",
       "    <tr>\n",
       "      <th>1299</th>\n",
       "      <td>1242</td>\n",
       "      <td>1.0</td>\n",
       "      <td>60</td>\n",
       "      <td>63887</td>\n",
       "      <td>10</td>\n",
       "      <td>5</td>\n",
       "      <td>11</td>\n",
       "      <td>5</td>\n",
       "      <td>3</td>\n",
       "      <td>5642</td>\n",
       "      <td>...</td>\n",
       "      <td>0</td>\n",
       "      <td>1</td>\n",
       "      <td>0</td>\n",
       "      <td>0</td>\n",
       "      <td>0</td>\n",
       "      <td>0</td>\n",
       "      <td>0</td>\n",
       "      <td>0</td>\n",
       "      <td>0</td>\n",
       "      <td>1</td>\n",
       "    </tr>\n",
       "    <tr>\n",
       "      <th>1325</th>\n",
       "      <td>1267</td>\n",
       "      <td>1.0</td>\n",
       "      <td>20</td>\n",
       "      <td>9986</td>\n",
       "      <td>8</td>\n",
       "      <td>5</td>\n",
       "      <td>13</td>\n",
       "      <td>5</td>\n",
       "      <td>2</td>\n",
       "      <td>1795</td>\n",
       "      <td>...</td>\n",
       "      <td>0</td>\n",
       "      <td>0</td>\n",
       "      <td>0</td>\n",
       "      <td>0</td>\n",
       "      <td>1</td>\n",
       "      <td>0</td>\n",
       "      <td>0</td>\n",
       "      <td>0</td>\n",
       "      <td>0</td>\n",
       "      <td>1</td>\n",
       "    </tr>\n",
       "  </tbody>\n",
       "</table>\n",
       "<p>5 rows × 30 columns</p>\n",
       "</div>"
      ],
      "text/plain": [
       "      index  const  MSSubClass  LotArea  OverallQual  OverallCond  YearBuilt  \\\n",
       "Id                                                                             \n",
       "463     446    1.0          20     8281            5            5         54   \n",
       "524     505    1.0          60    40094           10            5         12   \n",
       "633     611    1.0          20    11900            7            5         42   \n",
       "1299   1242    1.0          60    63887           10            5         11   \n",
       "1325   1267    1.0          20     9986            8            5         13   \n",
       "\n",
       "      BsmtQual  BsmtExposure  GrLivArea  ...  Neighborhood_Crawfor  \\\n",
       "Id                                       ...                         \n",
       "463          3             0        864  ...                     0   \n",
       "524          5             3       4676  ...                     0   \n",
       "633          3             0       1411  ...                     0   \n",
       "1299         5             3       5642  ...                     0   \n",
       "1325         5             2       1795  ...                     0   \n",
       "\n",
       "      Neighborhood_Edwards  Neighborhood_NoRidge  Neighborhood_NridgHt  \\\n",
       "Id                                                                       \n",
       "463                      0                     0                     0   \n",
       "524                      1                     0                     0   \n",
       "633                      0                     0                     0   \n",
       "1299                     1                     0                     0   \n",
       "1325                     0                     0                     0   \n",
       "\n",
       "      Neighborhood_Somerst  Neighborhood_StoneBr  Neighborhood_Veenker  \\\n",
       "Id                                                                       \n",
       "463                      0                     0                     0   \n",
       "524                      0                     0                     0   \n",
       "633                      0                     0                     0   \n",
       "1299                     0                     0                     0   \n",
       "1325                     1                     0                     0   \n",
       "\n",
       "      BldgType_2fmCon  SaleCondition_Normal  SaleType_New  \n",
       "Id                                                         \n",
       "463                 0                     1             0  \n",
       "524                 0                     0             1  \n",
       "633                 0                     0             0  \n",
       "1299                0                     0             1  \n",
       "1325                0                     0             1  \n",
       "\n",
       "[5 rows x 30 columns]"
      ]
     },
     "execution_count": 521,
     "metadata": {},
     "output_type": "execute_result"
    }
   ],
   "source": [
    "X.set_index('Id',inplace=True)\n",
    "X.loc[model_fit.resid[model_fit.resid<-0.5].index]"
   ]
  },
  {
   "cell_type": "code",
   "execution_count": 523,
   "metadata": {},
   "outputs": [
    {
     "data": {
      "text/plain": [
       "Id\n",
       "463      62383\n",
       "524     184750\n",
       "633      82500\n",
       "1299    160000\n",
       "1325    147000\n",
       "Name: SalePrice, dtype: int64"
      ]
     },
     "execution_count": 523,
     "metadata": {},
     "output_type": "execute_result"
    }
   ],
   "source": [
    "y.loc[model_fit.resid[model_fit.resid<-0.5].index]"
   ]
  },
  {
   "cell_type": "code",
   "execution_count": 524,
   "metadata": {},
   "outputs": [
    {
     "data": {
      "text/plain": [
       "<matplotlib.axes._subplots.AxesSubplot at 0x235c5315cc0>"
      ]
     },
     "execution_count": 524,
     "metadata": {},
     "output_type": "execute_result"
    },
    {
     "data": {
      "image/png": "[encoded data removed]",
      "text/plain": [
       "<Figure size 432x288 with 1 Axes>"
      ]
     },
     "metadata": {
      "needs_background": "light"
     },
     "output_type": "display_data"
    }
   ],
   "source": [
    "model_fit.resid.hist()"
   ]
  },
  {
   "cell_type": "code",
   "execution_count": 527,
   "metadata": {},
   "outputs": [
    {
     "data": {
      "text/html": [
       "<table class=\"simpletable\">\n",
       "<caption>OLS Regression Results</caption>\n",
       "<tr>\n",
       "  <th>Dep. Variable:</th>        <td>SalePrice</td>    <th>  R-squared:         </th> <td>   0.884</td>\n",
       "</tr>\n",
       "<tr>\n",
       "  <th>Model:</th>                   <td>OLS</td>       <th>  Adj. R-squared:    </th> <td>   0.881</td>\n",
       "</tr>\n",
       "<tr>\n",
       "  <th>Method:</th>             <td>Least Squares</td>  <th>  F-statistic:       </th> <td>   371.7</td>\n",
       "</tr>\n",
       "<tr>\n",
       "  <th>Date:</th>             <td>Wed, 20 Nov 2019</td> <th>  Prob (F-statistic):</th>  <td>  0.00</td> \n",
       "</tr>\n",
       "<tr>\n",
       "  <th>Time:</th>                 <td>17:50:47</td>     <th>  Log-Likelihood:    </th> <td>  935.76</td>\n",
       "</tr>\n",
       "<tr>\n",
       "  <th>No. Observations:</th>      <td>  1399</td>      <th>  AIC:               </th> <td>  -1814.</td>\n",
       "</tr>\n",
       "<tr>\n",
       "  <th>Df Residuals:</th>          <td>  1370</td>      <th>  BIC:               </th> <td>  -1661.</td>\n",
       "</tr>\n",
       "<tr>\n",
       "  <th>Df Model:</th>              <td>    28</td>      <th>                     </th>     <td> </td>   \n",
       "</tr>\n",
       "<tr>\n",
       "  <th>Covariance Type:</th>      <td>nonrobust</td>    <th>                     </th>     <td> </td>   \n",
       "</tr>\n",
       "</table>\n",
       "<table class=\"simpletable\">\n",
       "<tr>\n",
       "            <td></td>              <th>coef</th>     <th>std err</th>      <th>t</th>      <th>P>|t|</th>  <th>[0.025</th>    <th>0.975]</th>  \n",
       "</tr>\n",
       "<tr>\n",
       "  <th>const</th>                <td>   10.7548</td> <td>    0.048</td> <td>  225.490</td> <td> 0.000</td> <td>   10.661</td> <td>   10.848</td>\n",
       "</tr>\n",
       "<tr>\n",
       "  <th>MSSubClass</th>           <td>   -0.0012</td> <td> 9.47e-05</td> <td>  -13.030</td> <td> 0.000</td> <td>   -0.001</td> <td>   -0.001</td>\n",
       "</tr>\n",
       "<tr>\n",
       "  <th>LotArea</th>              <td> 1.605e-06</td> <td> 3.76e-07</td> <td>    4.268</td> <td> 0.000</td> <td> 8.67e-07</td> <td> 2.34e-06</td>\n",
       "</tr>\n",
       "<tr>\n",
       "  <th>OverallQual</th>          <td>    0.0575</td> <td>    0.005</td> <td>   12.452</td> <td> 0.000</td> <td>    0.048</td> <td>    0.067</td>\n",
       "</tr>\n",
       "<tr>\n",
       "  <th>OverallCond</th>          <td>    0.0390</td> <td>    0.004</td> <td>   10.853</td> <td> 0.000</td> <td>    0.032</td> <td>    0.046</td>\n",
       "</tr>\n",
       "<tr>\n",
       "  <th>YearBuilt</th>            <td>   -0.0029</td> <td>    0.000</td> <td>  -14.397</td> <td> 0.000</td> <td>   -0.003</td> <td>   -0.002</td>\n",
       "</tr>\n",
       "<tr>\n",
       "  <th>BsmtQual</th>             <td>    0.0284</td> <td>    0.009</td> <td>    3.333</td> <td> 0.001</td> <td>    0.012</td> <td>    0.045</td>\n",
       "</tr>\n",
       "<tr>\n",
       "  <th>BsmtExposure</th>         <td>    0.0216</td> <td>    0.004</td> <td>    5.770</td> <td> 0.000</td> <td>    0.014</td> <td>    0.029</td>\n",
       "</tr>\n",
       "<tr>\n",
       "  <th>GrLivArea</th>            <td>    0.0002</td> <td> 1.48e-05</td> <td>   14.160</td> <td> 0.000</td> <td>    0.000</td> <td>    0.000</td>\n",
       "</tr>\n",
       "<tr>\n",
       "  <th>BsmtFullBath</th>         <td>    0.0571</td> <td>    0.007</td> <td>    8.060</td> <td> 0.000</td> <td>    0.043</td> <td>    0.071</td>\n",
       "</tr>\n",
       "<tr>\n",
       "  <th>KitchenQual</th>          <td>    0.0371</td> <td>    0.007</td> <td>    4.958</td> <td> 0.000</td> <td>    0.022</td> <td>    0.052</td>\n",
       "</tr>\n",
       "<tr>\n",
       "  <th>TotRmsAbvGrd</th>         <td>    0.0132</td> <td>    0.004</td> <td>    3.315</td> <td> 0.001</td> <td>    0.005</td> <td>    0.021</td>\n",
       "</tr>\n",
       "<tr>\n",
       "  <th>Fireplaces</th>           <td>    0.0355</td> <td>    0.006</td> <td>    5.553</td> <td> 0.000</td> <td>    0.023</td> <td>    0.048</td>\n",
       "</tr>\n",
       "<tr>\n",
       "  <th>GarageYrBlt</th>          <td>-8.908e-05</td> <td> 2.44e-05</td> <td>   -3.656</td> <td> 0.000</td> <td>   -0.000</td> <td>-4.13e-05</td>\n",
       "</tr>\n",
       "<tr>\n",
       "  <th>GarageCars</th>           <td>    0.0564</td> <td>    0.008</td> <td>    7.431</td> <td> 0.000</td> <td>    0.042</td> <td>    0.071</td>\n",
       "</tr>\n",
       "<tr>\n",
       "  <th>GarageQual</th>           <td>    0.0617</td> <td>    0.015</td> <td>    4.142</td> <td> 0.000</td> <td>    0.032</td> <td>    0.091</td>\n",
       "</tr>\n",
       "<tr>\n",
       "  <th>WoodDeckSF</th>           <td>    0.0001</td> <td> 2.93e-05</td> <td>    3.536</td> <td> 0.000</td> <td> 4.61e-05</td> <td>    0.000</td>\n",
       "</tr>\n",
       "<tr>\n",
       "  <th>ScreenPorch</th>          <td>    0.0003</td> <td>  6.3e-05</td> <td>    5.266</td> <td> 0.000</td> <td>    0.000</td> <td>    0.000</td>\n",
       "</tr>\n",
       "<tr>\n",
       "  <th>LotConfig_CulDSac</th>    <td>    0.0429</td> <td>    0.014</td> <td>    2.997</td> <td> 0.003</td> <td>    0.015</td> <td>    0.071</td>\n",
       "</tr>\n",
       "<tr>\n",
       "  <th>Neighborhood_Crawfor</th> <td>    0.1776</td> <td>    0.019</td> <td>    9.267</td> <td> 0.000</td> <td>    0.140</td> <td>    0.215</td>\n",
       "</tr>\n",
       "<tr>\n",
       "  <th>Neighborhood_Edwards</th> <td>   -0.0617</td> <td>    0.014</td> <td>   -4.261</td> <td> 0.000</td> <td>   -0.090</td> <td>   -0.033</td>\n",
       "</tr>\n",
       "<tr>\n",
       "  <th>Neighborhood_NoRidge</th> <td>    0.1156</td> <td>    0.023</td> <td>    5.130</td> <td> 0.000</td> <td>    0.071</td> <td>    0.160</td>\n",
       "</tr>\n",
       "<tr>\n",
       "  <th>Neighborhood_NridgHt</th> <td>    0.1446</td> <td>    0.018</td> <td>    8.110</td> <td> 0.000</td> <td>    0.110</td> <td>    0.180</td>\n",
       "</tr>\n",
       "<tr>\n",
       "  <th>Neighborhood_Somerst</th> <td>    0.1040</td> <td>    0.016</td> <td>    6.473</td> <td> 0.000</td> <td>    0.072</td> <td>    0.135</td>\n",
       "</tr>\n",
       "<tr>\n",
       "  <th>Neighborhood_StoneBr</th> <td>    0.1797</td> <td>    0.029</td> <td>    6.296</td> <td> 0.000</td> <td>    0.124</td> <td>    0.236</td>\n",
       "</tr>\n",
       "<tr>\n",
       "  <th>Neighborhood_Veenker</th> <td>    0.0926</td> <td>    0.039</td> <td>    2.394</td> <td> 0.017</td> <td>    0.017</td> <td>    0.168</td>\n",
       "</tr>\n",
       "<tr>\n",
       "  <th>BldgType_2fmCon</th>      <td>    0.1184</td> <td>    0.028</td> <td>    4.236</td> <td> 0.000</td> <td>    0.064</td> <td>    0.173</td>\n",
       "</tr>\n",
       "<tr>\n",
       "  <th>SaleCondition_Normal</th> <td>    0.0573</td> <td>    0.012</td> <td>    4.804</td> <td> 0.000</td> <td>    0.034</td> <td>    0.081</td>\n",
       "</tr>\n",
       "<tr>\n",
       "  <th>SaleType_New</th>         <td>    0.0703</td> <td>    0.018</td> <td>    3.904</td> <td> 0.000</td> <td>    0.035</td> <td>    0.106</td>\n",
       "</tr>\n",
       "</table>\n",
       "<table class=\"simpletable\">\n",
       "<tr>\n",
       "  <th>Omnibus:</th>       <td>965.820</td> <th>  Durbin-Watson:     </th> <td>   1.984</td> \n",
       "</tr>\n",
       "<tr>\n",
       "  <th>Prob(Omnibus):</th> <td> 0.000</td>  <th>  Jarque-Bera (JB):  </th> <td>49276.502</td>\n",
       "</tr>\n",
       "<tr>\n",
       "  <th>Skew:</th>          <td>-2.597</td>  <th>  Prob(JB):          </th> <td>    0.00</td> \n",
       "</tr>\n",
       "<tr>\n",
       "  <th>Kurtosis:</th>      <td>31.607</td>  <th>  Cond. No.          </th> <td>2.13e+05</td> \n",
       "</tr>\n",
       "</table><br/><br/>Warnings:<br/>[1] Standard Errors assume that the covariance matrix of the errors is correctly specified.<br/>[2] The condition number is large, 2.13e+05. This might indicate that there are<br/>strong multicollinearity or other numerical problems."
      ],
      "text/plain": [
       "<class 'statsmodels.iolib.summary.Summary'>\n",
       "\"\"\"\n",
       "                            OLS Regression Results                            \n",
       "==============================================================================\n",
       "Dep. Variable:              SalePrice   R-squared:                       0.884\n",
       "Model:                            OLS   Adj. R-squared:                  0.881\n",
       "Method:                 Least Squares   F-statistic:                     371.7\n",
       "Date:                Wed, 20 Nov 2019   Prob (F-statistic):               0.00\n",
       "Time:                        17:50:47   Log-Likelihood:                 935.76\n",
       "No. Observations:                1399   AIC:                            -1814.\n",
       "Df Residuals:                    1370   BIC:                            -1661.\n",
       "Df Model:                          28                                         \n",
       "Covariance Type:            nonrobust                                         \n",
       "========================================================================================\n",
       "                           coef    std err          t      P>|t|      [0.025      0.975]\n",
       "----------------------------------------------------------------------------------------\n",
       "const                   10.7548      0.048    225.490      0.000      10.661      10.848\n",
       "MSSubClass              -0.0012   9.47e-05    -13.030      0.000      -0.001      -0.001\n",
       "LotArea               1.605e-06   3.76e-07      4.268      0.000    8.67e-07    2.34e-06\n",
       "OverallQual              0.0575      0.005     12.452      0.000       0.048       0.067\n",
       "OverallCond              0.0390      0.004     10.853      0.000       0.032       0.046\n",
       "YearBuilt               -0.0029      0.000    -14.397      0.000      -0.003      -0.002\n",
       "BsmtQual                 0.0284      0.009      3.333      0.001       0.012       0.045\n",
       "BsmtExposure             0.0216      0.004      5.770      0.000       0.014       0.029\n",
       "GrLivArea                0.0002   1.48e-05     14.160      0.000       0.000       0.000\n",
       "BsmtFullBath             0.0571      0.007      8.060      0.000       0.043       0.071\n",
       "KitchenQual              0.0371      0.007      4.958      0.000       0.022       0.052\n",
       "TotRmsAbvGrd             0.0132      0.004      3.315      0.001       0.005       0.021\n",
       "Fireplaces               0.0355      0.006      5.553      0.000       0.023       0.048\n",
       "GarageYrBlt          -8.908e-05   2.44e-05     -3.656      0.000      -0.000   -4.13e-05\n",
       "GarageCars               0.0564      0.008      7.431      0.000       0.042       0.071\n",
       "GarageQual               0.0617      0.015      4.142      0.000       0.032       0.091\n",
       "WoodDeckSF               0.0001   2.93e-05      3.536      0.000    4.61e-05       0.000\n",
       "ScreenPorch              0.0003    6.3e-05      5.266      0.000       0.000       0.000\n",
       "LotConfig_CulDSac        0.0429      0.014      2.997      0.003       0.015       0.071\n",
       "Neighborhood_Crawfor     0.1776      0.019      9.267      0.000       0.140       0.215\n",
       "Neighborhood_Edwards    -0.0617      0.014     -4.261      0.000      -0.090      -0.033\n",
       "Neighborhood_NoRidge     0.1156      0.023      5.130      0.000       0.071       0.160\n",
       "Neighborhood_NridgHt     0.1446      0.018      8.110      0.000       0.110       0.180\n",
       "Neighborhood_Somerst     0.1040      0.016      6.473      0.000       0.072       0.135\n",
       "Neighborhood_StoneBr     0.1797      0.029      6.296      0.000       0.124       0.236\n",
       "Neighborhood_Veenker     0.0926      0.039      2.394      0.017       0.017       0.168\n",
       "BldgType_2fmCon          0.1184      0.028      4.236      0.000       0.064       0.173\n",
       "SaleCondition_Normal     0.0573      0.012      4.804      0.000       0.034       0.081\n",
       "SaleType_New             0.0703      0.018      3.904      0.000       0.035       0.106\n",
       "==============================================================================\n",
       "Omnibus:                      965.820   Durbin-Watson:                   1.984\n",
       "Prob(Omnibus):                  0.000   Jarque-Bera (JB):            49276.502\n",
       "Skew:                          -2.597   Prob(JB):                         0.00\n",
       "Kurtosis:                      31.607   Cond. No.                     2.13e+05\n",
       "==============================================================================\n",
       "\n",
       "Warnings:\n",
       "[1] Standard Errors assume that the covariance matrix of the errors is correctly specified.\n",
       "[2] The condition number is large, 2.13e+05. This might indicate that there are\n",
       "strong multicollinearity or other numerical problems.\n",
       "\"\"\""
      ]
     },
     "execution_count": 527,
     "metadata": {},
     "output_type": "execute_result"
    }
   ],
   "source": [
    "model_fit.summary()"
   ]
  }
 ],
 "metadata": {
  "kernelspec": {
   "display_name": "Python 3",
   "language": "python",
   "name": "python3"
  },
  "language_info": {
   "codemirror_mode": {
    "name": "ipython",
    "version": 3
   },
   "file_extension": ".py",
   "mimetype": "text/x-python",
   "name": "python",
   "nbconvert_exporter": "python",
   "pygments_lexer": "ipython3",
   "version": "3.6.8"
  }
 },
 "nbformat": 4,
 "nbformat_minor": 2
}
