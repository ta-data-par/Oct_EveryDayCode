{
 "cells": [
  {
   "cell_type": "code",
   "execution_count": 1,
   "metadata": {},
   "outputs": [],
   "source": [
    "from sklearn import datasets"
   ]
  },
  {
   "cell_type": "code",
   "execution_count": 10,
   "metadata": {
    "collapsed": true
   },
   "outputs": [
    {
     "data": {
      "text/plain": [
       "{'data': array([[1.799e+01, 1.038e+01, 1.228e+02, ..., 2.654e-01, 4.601e-01,\n",
       "         1.189e-01],\n",
       "        [2.057e+01, 1.777e+01, 1.329e+02, ..., 1.860e-01, 2.750e-01,\n",
       "         8.902e-02],\n",
       "        [1.969e+01, 2.125e+01, 1.300e+02, ..., 2.430e-01, 3.613e-01,\n",
       "         8.758e-02],\n",
       "        ...,\n",
       "        [1.660e+01, 2.808e+01, 1.083e+02, ..., 1.418e-01, 2.218e-01,\n",
       "         7.820e-02],\n",
       "        [2.060e+01, 2.933e+01, 1.401e+02, ..., 2.650e-01, 4.087e-01,\n",
       "         1.240e-01],\n",
       "        [7.760e+00, 2.454e+01, 4.792e+01, ..., 0.000e+00, 2.871e-01,\n",
       "         7.039e-02]]),\n",
       " 'target': array([0, 0, 0, 0, 0, 0, 0, 0, 0, 0, 0, 0, 0, 0, 0, 0, 0, 0, 0, 1, 1, 1,\n",
       "        0, 0, 0, 0, 0, 0, 0, 0, 0, 0, 0, 0, 0, 0, 0, 1, 0, 0, 0, 0, 0, 0,\n",
       "        0, 0, 1, 0, 1, 1, 1, 1, 1, 0, 0, 1, 0, 0, 1, 1, 1, 1, 0, 1, 0, 0,\n",
       "        1, 1, 1, 1, 0, 1, 0, 0, 1, 0, 1, 0, 0, 1, 1, 1, 0, 0, 1, 0, 0, 0,\n",
       "        1, 1, 1, 0, 1, 1, 0, 0, 1, 1, 1, 0, 0, 1, 1, 1, 1, 0, 1, 1, 0, 1,\n",
       "        1, 1, 1, 1, 1, 1, 1, 0, 0, 0, 1, 0, 0, 1, 1, 1, 0, 0, 1, 0, 1, 0,\n",
       "        0, 1, 0, 0, 1, 1, 0, 1, 1, 0, 1, 1, 1, 1, 0, 1, 1, 1, 1, 1, 1, 1,\n",
       "        1, 1, 0, 1, 1, 1, 1, 0, 0, 1, 0, 1, 1, 0, 0, 1, 1, 0, 0, 1, 1, 1,\n",
       "        1, 0, 1, 1, 0, 0, 0, 1, 0, 1, 0, 1, 1, 1, 0, 1, 1, 0, 0, 1, 0, 0,\n",
       "        0, 0, 1, 0, 0, 0, 1, 0, 1, 0, 1, 1, 0, 1, 0, 0, 0, 0, 1, 1, 0, 0,\n",
       "        1, 1, 1, 0, 1, 1, 1, 1, 1, 0, 0, 1, 1, 0, 1, 1, 0, 0, 1, 0, 1, 1,\n",
       "        1, 1, 0, 1, 1, 1, 1, 1, 0, 1, 0, 0, 0, 0, 0, 0, 0, 0, 0, 0, 0, 0,\n",
       "        0, 0, 1, 1, 1, 1, 1, 1, 0, 1, 0, 1, 1, 0, 1, 1, 0, 1, 0, 0, 1, 1,\n",
       "        1, 1, 1, 1, 1, 1, 1, 1, 1, 1, 1, 0, 1, 1, 0, 1, 0, 1, 1, 1, 1, 1,\n",
       "        1, 1, 1, 1, 1, 1, 1, 1, 1, 0, 1, 1, 1, 0, 1, 0, 1, 1, 1, 1, 0, 0,\n",
       "        0, 1, 1, 1, 1, 0, 1, 0, 1, 0, 1, 1, 1, 0, 1, 1, 1, 1, 1, 1, 1, 0,\n",
       "        0, 0, 1, 1, 1, 1, 1, 1, 1, 1, 1, 1, 1, 0, 0, 1, 0, 0, 0, 1, 0, 0,\n",
       "        1, 1, 1, 1, 1, 0, 1, 1, 1, 1, 1, 0, 1, 1, 1, 0, 1, 1, 0, 0, 1, 1,\n",
       "        1, 1, 1, 1, 0, 1, 1, 1, 1, 1, 1, 1, 0, 1, 1, 1, 1, 1, 0, 1, 1, 0,\n",
       "        1, 1, 1, 1, 1, 1, 1, 1, 1, 1, 1, 1, 0, 1, 0, 0, 1, 0, 1, 1, 1, 1,\n",
       "        1, 0, 1, 1, 0, 1, 0, 1, 1, 0, 1, 0, 1, 1, 1, 1, 1, 1, 1, 1, 0, 0,\n",
       "        1, 1, 1, 1, 1, 1, 0, 1, 1, 1, 1, 1, 1, 1, 1, 1, 1, 0, 1, 1, 1, 1,\n",
       "        1, 1, 1, 0, 1, 0, 1, 1, 0, 1, 1, 1, 1, 1, 0, 0, 1, 0, 1, 0, 1, 1,\n",
       "        1, 1, 1, 0, 1, 1, 0, 1, 0, 1, 0, 0, 1, 1, 1, 0, 1, 1, 1, 1, 1, 1,\n",
       "        1, 1, 1, 1, 1, 0, 1, 0, 0, 1, 1, 1, 1, 1, 1, 1, 1, 1, 1, 1, 1, 1,\n",
       "        1, 1, 1, 1, 1, 1, 1, 1, 1, 1, 1, 1, 0, 0, 0, 0, 0, 0, 1]),\n",
       " 'target_names': array(['malignant', 'benign'], dtype='<U9'),\n",
       " 'DESCR': '.. _breast_cancer_dataset:\\n\\nBreast cancer wisconsin (diagnostic) dataset\\n--------------------------------------------\\n\\n**Data Set Characteristics:**\\n\\n    :Number of Instances: 569\\n\\n    :Number of Attributes: 30 numeric, predictive attributes and the class\\n\\n    :Attribute Information:\\n        - radius (mean of distances from center to points on the perimeter)\\n        - texture (standard deviation of gray-scale values)\\n        - perimeter\\n        - area\\n        - smoothness (local variation in radius lengths)\\n        - compactness (perimeter^2 / area - 1.0)\\n        - concavity (severity of concave portions of the contour)\\n        - concave points (number of concave portions of the contour)\\n        - symmetry \\n        - fractal dimension (\"coastline approximation\" - 1)\\n\\n        The mean, standard error, and \"worst\" or largest (mean of the three\\n        largest values) of these features were computed for each image,\\n        resulting in 30 features.  For instance, field 3 is Mean Radius, field\\n        13 is Radius SE, field 23 is Worst Radius.\\n\\n        - class:\\n                - WDBC-Malignant\\n                - WDBC-Benign\\n\\n    :Summary Statistics:\\n\\n    ===================================== ====== ======\\n                                           Min    Max\\n    ===================================== ====== ======\\n    radius (mean):                        6.981  28.11\\n    texture (mean):                       9.71   39.28\\n    perimeter (mean):                     43.79  188.5\\n    area (mean):                          143.5  2501.0\\n    smoothness (mean):                    0.053  0.163\\n    compactness (mean):                   0.019  0.345\\n    concavity (mean):                     0.0    0.427\\n    concave points (mean):                0.0    0.201\\n    symmetry (mean):                      0.106  0.304\\n    fractal dimension (mean):             0.05   0.097\\n    radius (standard error):              0.112  2.873\\n    texture (standard error):             0.36   4.885\\n    perimeter (standard error):           0.757  21.98\\n    area (standard error):                6.802  542.2\\n    smoothness (standard error):          0.002  0.031\\n    compactness (standard error):         0.002  0.135\\n    concavity (standard error):           0.0    0.396\\n    concave points (standard error):      0.0    0.053\\n    symmetry (standard error):            0.008  0.079\\n    fractal dimension (standard error):   0.001  0.03\\n    radius (worst):                       7.93   36.04\\n    texture (worst):                      12.02  49.54\\n    perimeter (worst):                    50.41  251.2\\n    area (worst):                         185.2  4254.0\\n    smoothness (worst):                   0.071  0.223\\n    compactness (worst):                  0.027  1.058\\n    concavity (worst):                    0.0    1.252\\n    concave points (worst):               0.0    0.291\\n    symmetry (worst):                     0.156  0.664\\n    fractal dimension (worst):            0.055  0.208\\n    ===================================== ====== ======\\n\\n    :Missing Attribute Values: None\\n\\n    :Class Distribution: 212 - Malignant, 357 - Benign\\n\\n    :Creator:  Dr. William H. Wolberg, W. Nick Street, Olvi L. Mangasarian\\n\\n    :Donor: Nick Street\\n\\n    :Date: November, 1995\\n\\nThis is a copy of UCI ML Breast Cancer Wisconsin (Diagnostic) datasets.\\nhttps://goo.gl/U2Uwz2\\n\\nFeatures are computed from a digitized image of a fine needle\\naspirate (FNA) of a breast mass.  They describe\\ncharacteristics of the cell nuclei present in the image.\\n\\nSeparating plane described above was obtained using\\nMultisurface Method-Tree (MSM-T) [K. P. Bennett, \"Decision Tree\\nConstruction Via Linear Programming.\" Proceedings of the 4th\\nMidwest Artificial Intelligence and Cognitive Science Society,\\npp. 97-101, 1992], a classification method which uses linear\\nprogramming to construct a decision tree.  Relevant features\\nwere selected using an exhaustive search in the space of 1-4\\nfeatures and 1-3 separating planes.\\n\\nThe actual linear program used to obtain the separating plane\\nin the 3-dimensional space is that described in:\\n[K. P. Bennett and O. L. Mangasarian: \"Robust Linear\\nProgramming Discrimination of Two Linearly Inseparable Sets\",\\nOptimization Methods and Software 1, 1992, 23-34].\\n\\nThis database is also available through the UW CS ftp server:\\n\\nftp ftp.cs.wisc.edu\\ncd math-prog/cpo-dataset/machine-learn/WDBC/\\n\\n.. topic:: References\\n\\n   - W.N. Street, W.H. Wolberg and O.L. Mangasarian. Nuclear feature extraction \\n     for breast tumor diagnosis. IS&T/SPIE 1993 International Symposium on \\n     Electronic Imaging: Science and Technology, volume 1905, pages 861-870,\\n     San Jose, CA, 1993.\\n   - O.L. Mangasarian, W.N. Street and W.H. Wolberg. Breast cancer diagnosis and \\n     prognosis via linear programming. Operations Research, 43(4), pages 570-577, \\n     July-August 1995.\\n   - W.H. Wolberg, W.N. Street, and O.L. Mangasarian. Machine learning techniques\\n     to diagnose breast cancer from fine-needle aspirates. Cancer Letters 77 (1994) \\n     163-171.',\n",
       " 'feature_names': array(['mean radius', 'mean texture', 'mean perimeter', 'mean area',\n",
       "        'mean smoothness', 'mean compactness', 'mean concavity',\n",
       "        'mean concave points', 'mean symmetry', 'mean fractal dimension',\n",
       "        'radius error', 'texture error', 'perimeter error', 'area error',\n",
       "        'smoothness error', 'compactness error', 'concavity error',\n",
       "        'concave points error', 'symmetry error',\n",
       "        'fractal dimension error', 'worst radius', 'worst texture',\n",
       "        'worst perimeter', 'worst area', 'worst smoothness',\n",
       "        'worst compactness', 'worst concavity', 'worst concave points',\n",
       "        'worst symmetry', 'worst fractal dimension'], dtype='<U23'),\n",
       " 'filename': 'C:\\\\Users\\\\eldiy\\\\Anaconda3\\\\lib\\\\site-packages\\\\sklearn\\\\datasets\\\\data\\\\breast_cancer.csv'}"
      ]
     },
     "execution_count": 10,
     "metadata": {},
     "output_type": "execute_result"
    }
   ],
   "source": [
    "datasets.load_breast_cancer()"
   ]
  },
  {
   "cell_type": "code",
   "execution_count": 19,
   "metadata": {},
   "outputs": [
    {
     "data": {
      "text/plain": [
       "(array([[ 0.55270476,  1.51028972, -0.63553229],\n",
       "        [-2.12788137, -1.65890096,  0.00297078],\n",
       "        [ 1.87437705, -1.69007736,  1.85058911],\n",
       "        [-0.77080251,  1.13745153, -1.02120433],\n",
       "        [-1.91939877,  0.57179301, -1.21353951],\n",
       "        [-1.43578967, -1.26468709,  0.08747573],\n",
       "        [-0.04341259, -0.10660214,  0.04284703],\n",
       "        [ 0.12608857,  0.91853312, -0.48252961],\n",
       "        [ 1.18728322,  1.21207077, -0.17011687],\n",
       "        [ 0.01530676, -1.24178294,  0.7372491 ]]),\n",
       " array([1, 0, 0, 1, 1, 0, 0, 1, 1, 0]))"
      ]
     },
     "execution_count": 19,
     "metadata": {},
     "output_type": "execute_result"
    }
   ],
   "source": [
    "datasets.make_classification(n_samples=10,n_features=3,n_informative=2,n_redundant=1,n_classes=2)"
   ]
  },
  {
   "cell_type": "code",
   "execution_count": 26,
   "metadata": {},
   "outputs": [],
   "source": [
    "X,y=datasets.make_regression(n_samples=10, n_features=2, bias=0)"
   ]
  },
  {
   "cell_type": "code",
   "execution_count": 29,
   "metadata": {
    "collapsed": true
   },
   "outputs": [
    {
     "data": {
      "text/plain": [
       "(array([[ 2.70361016, -0.65952017],\n",
       "        [-0.95654591,  3.65773117],\n",
       "        [ 3.27873784, -0.04537208],\n",
       "        [ 0.21841298,  0.27901197],\n",
       "        [ 4.18416953,  1.46581496],\n",
       "        [ 3.12112067, -0.67099346],\n",
       "        [ 4.9363742 ,  1.44753284],\n",
       "        [ 3.05850493,  0.33870033],\n",
       "        [ 3.81245012,  0.9809541 ],\n",
       "        [ 4.57692536,  0.85469144],\n",
       "        [ 3.7923085 ,  0.93487632],\n",
       "        [ 4.94745448,  0.23847241],\n",
       "        [-0.8157254 ,  0.47449444],\n",
       "        [ 5.41078815,  0.97779349],\n",
       "        [ 4.90636961,  0.73002976],\n",
       "        [-0.36770045,  1.1648206 ],\n",
       "        [ 4.25144573,  0.13650914],\n",
       "        [-0.20518864,  0.35810179],\n",
       "        [ 3.96380585, -0.6898731 ],\n",
       "        [-1.38402628,  1.90284606],\n",
       "        [ 2.23783   ,  0.82268576],\n",
       "        [ 4.8523371 , -0.33595725],\n",
       "        [-0.72595834,  0.32581463],\n",
       "        [-2.09785719,  0.92864728],\n",
       "        [ 1.95827224,  0.61177845],\n",
       "        [ 3.89908348, -0.96640714],\n",
       "        [-2.09133879,  1.27275647],\n",
       "        [ 3.17375759,  0.16594341],\n",
       "        [ 6.47129476, -2.08828199],\n",
       "        [-0.0068954 , -0.59373158],\n",
       "        [-0.77157665,  0.34630833],\n",
       "        [ 4.19363177, -0.93924531],\n",
       "        [ 0.13393968,  1.94330892],\n",
       "        [ 5.00313442, -0.52181219],\n",
       "        [ 5.20060693, -0.20674466],\n",
       "        [ 4.89647404,  0.74023553],\n",
       "        [ 3.88874544,  0.08203566],\n",
       "        [ 4.0014928 , -0.67440549],\n",
       "        [ 4.55896485,  0.30932966],\n",
       "        [-0.29677695, -0.50976412],\n",
       "        [ 0.97167955,  0.8158797 ],\n",
       "        [ 2.10905275,  1.52856327],\n",
       "        [ 5.18058774,  0.23859342],\n",
       "        [-0.53229028,  2.0414247 ],\n",
       "        [ 4.42950925, -1.21645425],\n",
       "        [-0.53916405,  1.77300142],\n",
       "        [ 4.10658389,  1.53502474],\n",
       "        [-0.73501216,  1.56383179],\n",
       "        [-0.59068103, -0.1497625 ],\n",
       "        [-2.3456123 ,  1.21022515],\n",
       "        [-0.49639482, -0.13762856],\n",
       "        [ 2.82968357, -0.83307835],\n",
       "        [-2.13994178,  0.43454484],\n",
       "        [ 5.88068671,  1.01880225],\n",
       "        [-0.978265  ,  1.44897916],\n",
       "        [-0.6885214 ,  0.20090827],\n",
       "        [ 2.99555091,  0.73672604],\n",
       "        [ 4.05523354,  0.07455764],\n",
       "        [ 2.14148236,  1.27015022],\n",
       "        [-0.80908631,  0.56091111],\n",
       "        [ 2.79793502,  0.54719073],\n",
       "        [ 3.28734727,  0.47957894],\n",
       "        [ 3.24012356,  2.13347169],\n",
       "        [-1.81502541,  2.04683054],\n",
       "        [-0.08369802,  1.6607801 ],\n",
       "        [ 1.47057769,  0.15931235],\n",
       "        [-2.37069749,  2.36974873],\n",
       "        [ 5.14463808, -0.93562163],\n",
       "        [ 3.18255783, -0.17014782],\n",
       "        [ 2.71054238,  2.80759881],\n",
       "        [ 2.40089567, -0.40893242],\n",
       "        [ 3.81960021,  0.65158015],\n",
       "        [ 3.53850224,  0.02204835],\n",
       "        [ 3.58180979,  1.0181398 ],\n",
       "        [ 6.00739555, -0.91091736],\n",
       "        [ 4.76142939, -0.53380989],\n",
       "        [ 2.43534422,  0.89653141],\n",
       "        [ 1.45451253,  1.92383273],\n",
       "        [-2.40695262,  1.51315735],\n",
       "        [ 6.20940245, -0.40324893],\n",
       "        [-0.26855537,  2.00435079],\n",
       "        [-1.15214664,  1.91812289],\n",
       "        [ 3.74417268,  0.90561242],\n",
       "        [ 2.57415654, -1.15033746],\n",
       "        [ 3.15854331, -0.83370642],\n",
       "        [ 1.82687323,  0.30191743],\n",
       "        [ 5.67952247,  0.09581849],\n",
       "        [ 1.97485437,  0.36524584],\n",
       "        [ 0.9867304 ,  1.82338606],\n",
       "        [ 3.95240319,  0.64783419],\n",
       "        [ 1.99632993,  0.76521793],\n",
       "        [-0.08706325,  0.93611734],\n",
       "        [-1.59006556,  0.26435874],\n",
       "        [ 0.40807772, -0.21684661],\n",
       "        [-1.63405831,  0.89976758],\n",
       "        [-0.31577535, -1.87559165],\n",
       "        [ 3.47935455,  1.64434375],\n",
       "        [ 4.25306371,  0.67200954],\n",
       "        [ 3.97859542, -1.53046732],\n",
       "        [ 0.72137313,  1.42483248]]),\n",
       " array([0, 1, 0, 1, 0, 2, 0, 2, 2, 2, 2, 2, 1, 2, 2, 1, 2, 1, 2, 1, 0, 2,\n",
       "        1, 1, 0, 2, 1, 2, 2, 1, 1, 2, 1, 2, 2, 2, 2, 2, 2, 1, 0, 0, 0, 1,\n",
       "        0, 1, 0, 1, 1, 1, 1, 0, 1, 2, 1, 1, 0, 0, 0, 1, 0, 2, 0, 1, 1, 0,\n",
       "        1, 2, 0, 0, 0, 0, 2, 0, 2, 2, 0, 0, 1, 2, 1, 1, 2, 0, 0, 0, 2, 0,\n",
       "        0, 2, 0, 1, 1, 0, 1, 1, 0, 2, 2, 0]))"
      ]
     },
     "execution_count": 29,
     "metadata": {},
     "output_type": "execute_result"
    }
   ],
   "source": [
    "datasets.make_blobs()"
   ]
  },
  {
   "cell_type": "code",
   "execution_count": 30,
   "metadata": {
    "collapsed": true
   },
   "outputs": [
    {
     "data": {
      "text/plain": [
       "(array([[-1.59599895e-01,  9.87181783e-01],\n",
       "        [ 9.67948422e-01, -4.99486216e-01],\n",
       "        [-4.04783343e-01,  9.14412623e-01],\n",
       "        [ 1.99794539e+00,  4.35929780e-01],\n",
       "        [ 1.62348980e+00, -2.81831482e-01],\n",
       "        [ 8.40400105e-01, -4.87181783e-01],\n",
       "        [ 3.20515776e-02,  9.99486216e-01],\n",
       "        [-4.62538290e-01,  8.86599306e-01],\n",
       "        [ 4.04783343e-01,  9.14412623e-01],\n",
       "        [-9.81559157e-01,  1.91158629e-01],\n",
       "        [-9.60230259e-02,  9.95379113e-01],\n",
       "        [ 9.26916757e-01,  3.75267005e-01],\n",
       "        [-2.22520934e-01,  9.74927912e-01],\n",
       "        [ 1.71834935e+00, -1.95682551e-01],\n",
       "        [ 1.80141362e+00, -9.81105305e-02],\n",
       "        [-9.91790014e-01,  1.27877162e-01],\n",
       "        [ 1.15959990e+00, -4.87181783e-01],\n",
       "        [ 8.01413622e-01,  5.98110530e-01],\n",
       "        [ 6.23489802e-01,  7.81831482e-01],\n",
       "        [-7.18349350e-01,  6.95682551e-01],\n",
       "        [-9.97945393e-01,  6.40702200e-02],\n",
       "        [ 3.76510198e-01, -2.81831482e-01],\n",
       "        [-7.61445958e-01,  6.48228395e-01],\n",
       "        [ 1.90096887e+00,  6.61162609e-02],\n",
       "        [ 1.09602303e+00, -4.95379113e-01],\n",
       "        [-8.01413622e-01,  5.98110530e-01],\n",
       "        [-8.71318704e-01,  4.90717552e-01],\n",
       "        [ 2.38554042e-01, -1.48228395e-01],\n",
       "        [ 2.84527587e-01,  9.58667853e-01],\n",
       "        [ 9.03976974e-01, -4.95379113e-01],\n",
       "        [ 5.72116660e-01,  8.20172255e-01],\n",
       "        [ 1.84408430e-02,  3.08841371e-01],\n",
       "        [ 1.98586378e-01, -9.81105305e-02],\n",
       "        [ 9.00968868e-01,  4.33883739e-01],\n",
       "        [ 1.57211666e+00, -3.20172255e-01],\n",
       "        [ 1.76144596e+00, -1.48228395e-01],\n",
       "        [ 4.81607432e-01, -3.55142763e-01],\n",
       "        [ 3.45365054e-01,  9.38468422e-01],\n",
       "        [ 1.59599895e-01,  9.87181783e-01],\n",
       "        [ 9.81559157e-01,  1.91158629e-01],\n",
       "        [ 1.51839257e+00, -3.55142763e-01],\n",
       "        [-6.72300890e-01,  7.40277997e-01],\n",
       "        [ 4.62538290e-01,  8.86599306e-01],\n",
       "        [-5.72116660e-01,  8.20172255e-01],\n",
       "        [ 7.18349350e-01,  6.95682551e-01],\n",
       "        [ 2.05460725e-03,  4.35929780e-01],\n",
       "        [ 8.38088105e-01,  5.45534901e-01],\n",
       "        [ 8.71318704e-01,  4.90717552e-01],\n",
       "        [ 5.18392568e-01,  8.55142763e-01],\n",
       "        [ 5.09442530e-02,  1.84891782e-01],\n",
       "        [ 0.00000000e+00,  5.00000000e-01],\n",
       "        [ 1.98155916e+00,  3.08841371e-01],\n",
       "        [ 2.00000000e+00,  5.00000000e-01],\n",
       "        [-9.26916757e-01,  3.75267005e-01],\n",
       "        [ 1.28452759e+00, -4.58667853e-01],\n",
       "        [ 1.34536505e+00, -4.38468422e-01],\n",
       "        [ 1.67230089e+00, -2.40277997e-01],\n",
       "        [ 4.27883340e-01, -3.20172255e-01],\n",
       "        [-3.45365054e-01,  9.38468422e-01],\n",
       "        [ 7.61445958e-01,  6.48228395e-01],\n",
       "        [ 6.72300890e-01,  7.40277997e-01],\n",
       "        [-9.67294863e-01,  2.53654584e-01],\n",
       "        [ 1.83808810e+00, -4.55349012e-02],\n",
       "        [ 9.49055747e-01,  3.15108218e-01],\n",
       "        [-2.84527587e-01,  9.58667853e-01],\n",
       "        [ 7.77479066e-01, -4.74927912e-01],\n",
       "        [ 5.37461710e-01, -3.86599306e-01],\n",
       "        [-9.49055747e-01,  3.15108218e-01],\n",
       "        [ 3.27051370e-02,  2.46345416e-01],\n",
       "        [ 7.30832427e-02,  1.24732995e-01],\n",
       "        [ 1.22252093e+00, -4.74927912e-01],\n",
       "        [ 8.20998618e-03,  3.72122838e-01],\n",
       "        [-5.18392568e-01,  8.55142763e-01],\n",
       "        [ 9.67294863e-01,  2.53654584e-01],\n",
       "        [ 1.92691676e+00,  1.24732995e-01],\n",
       "        [ 3.27699110e-01, -2.40277997e-01],\n",
       "        [ 5.95216657e-01, -4.14412623e-01],\n",
       "        [ 1.61911895e-01, -4.55349012e-02],\n",
       "        [ 6.54634946e-01, -4.38468422e-01],\n",
       "        [ 1.99179001e+00,  3.72122838e-01],\n",
       "        [ 1.40478334e+00, -4.14412623e-01],\n",
       "        [-3.20515776e-02,  9.99486216e-01],\n",
       "        [ 1.96729486e+00,  2.46345416e-01],\n",
       "        [ 9.97945393e-01,  6.40702200e-02],\n",
       "        [-1.00000000e+00,  1.22464680e-16],\n",
       "        [ 9.91790014e-01,  1.27877162e-01],\n",
       "        [ 2.22520934e-01,  9.74927912e-01],\n",
       "        [ 1.46253829e+00, -3.86599306e-01],\n",
       "        [-8.38088105e-01,  5.45534901e-01],\n",
       "        [ 1.03205158e+00, -4.99486216e-01],\n",
       "        [ 9.90311321e-02,  6.61162609e-02],\n",
       "        [ 1.28681296e-01,  9.28244800e-03],\n",
       "        [-9.00968868e-01,  4.33883739e-01],\n",
       "        [ 1.94905575e+00,  1.84891782e-01],\n",
       "        [ 1.00000000e+00,  0.00000000e+00],\n",
       "        [ 2.81650650e-01, -1.95682551e-01],\n",
       "        [ 1.87131870e+00,  9.28244800e-03],\n",
       "        [ 7.15472413e-01, -4.58667853e-01],\n",
       "        [ 9.60230259e-02,  9.95379113e-01],\n",
       "        [-6.23489802e-01,  7.81831482e-01]]),\n",
       " array([0, 1, 0, 1, 1, 1, 0, 0, 0, 0, 0, 0, 0, 1, 1, 0, 1, 0, 0, 0, 0, 1,\n",
       "        0, 1, 1, 0, 0, 1, 0, 1, 0, 1, 1, 0, 1, 1, 1, 0, 0, 0, 1, 0, 0, 0,\n",
       "        0, 1, 0, 0, 0, 1, 1, 1, 1, 0, 1, 1, 1, 1, 0, 0, 0, 0, 1, 0, 0, 1,\n",
       "        1, 0, 1, 1, 1, 1, 0, 0, 1, 1, 1, 1, 1, 1, 1, 0, 1, 0, 0, 0, 0, 1,\n",
       "        0, 1, 1, 1, 0, 1, 0, 1, 1, 1, 0, 0], dtype=int64))"
      ]
     },
     "execution_count": 30,
     "metadata": {},
     "output_type": "execute_result"
    }
   ],
   "source": [
    "datasets.make_moons()"
   ]
  },
  {
   "cell_type": "code",
   "execution_count": null,
   "metadata": {},
   "outputs": [],
   "source": []
  },
  {
   "cell_type": "code",
   "execution_count": null,
   "metadata": {},
   "outputs": [],
   "source": []
  },
  {
   "cell_type": "code",
   "execution_count": 31,
   "metadata": {},
   "outputs": [],
   "source": [
    "digits=datasets.load_digits()"
   ]
  },
  {
   "cell_type": "code",
   "execution_count": 32,
   "metadata": {},
   "outputs": [
    {
     "data": {
      "text/plain": [
       "(1797, 8, 8)"
      ]
     },
     "execution_count": 32,
     "metadata": {},
     "output_type": "execute_result"
    }
   ],
   "source": [
    "digits.images.shape"
   ]
  },
  {
   "cell_type": "code",
   "execution_count": 33,
   "metadata": {},
   "outputs": [],
   "source": [
    "import matplotlib.pyplot as plt"
   ]
  },
  {
   "cell_type": "code",
   "execution_count": 36,
   "metadata": {},
   "outputs": [
    {
     "data": {
      "image/png": "[encoded data removed]",
      "text/plain": [
       "<Figure size 576x576 with 100 Axes>"
      ]
     },
     "metadata": {
      "needs_background": "light"
     },
     "output_type": "display_data"
    }
   ],
   "source": [
    "fig,axis=plt.subplots(10,10,figsize=(8,8))\n",
    "\n",
    "for i, ax in enumerate(axis.flat):\n",
    "    ax.imshow(digits.images[i],cmap='binary', interpolation='nearest')"
   ]
  },
  {
   "cell_type": "code",
   "execution_count": 38,
   "metadata": {},
   "outputs": [],
   "source": [
    "X=digits.data"
   ]
  },
  {
   "cell_type": "code",
   "execution_count": 39,
   "metadata": {},
   "outputs": [],
   "source": [
    "y=digits.target"
   ]
  },
  {
   "cell_type": "code",
   "execution_count": 40,
   "metadata": {
    "scrolled": true
   },
   "outputs": [
    {
     "data": {
      "text/plain": [
       "((1797, 64), (1797,))"
      ]
     },
     "execution_count": 40,
     "metadata": {},
     "output_type": "execute_result"
    }
   ],
   "source": [
    "X.shape,y.shape"
   ]
  },
  {
   "cell_type": "code",
   "execution_count": 44,
   "metadata": {},
   "outputs": [],
   "source": [
    "from sklearn.model_selection import train_test_split"
   ]
  },
  {
   "cell_type": "code",
   "execution_count": 41,
   "metadata": {},
   "outputs": [],
   "source": [
    "from sklearn.naive_bayes import GaussianNB"
   ]
  },
  {
   "cell_type": "code",
   "execution_count": 46,
   "metadata": {},
   "outputs": [],
   "source": [
    "X_train,X_test,y_train,y_test = train_test_split(X,y, test_size=0.3)"
   ]
  },
  {
   "cell_type": "code",
   "execution_count": 42,
   "metadata": {},
   "outputs": [],
   "source": [
    "model=GaussianNB()"
   ]
  },
  {
   "cell_type": "code",
   "execution_count": 47,
   "metadata": {},
   "outputs": [
    {
     "data": {
      "text/plain": [
       "GaussianNB(priors=None, var_smoothing=1e-09)"
      ]
     },
     "execution_count": 47,
     "metadata": {},
     "output_type": "execute_result"
    }
   ],
   "source": [
    "model.fit(X_train,y_train)"
   ]
  },
  {
   "cell_type": "code",
   "execution_count": 49,
   "metadata": {},
   "outputs": [],
   "source": [
    "y_model=model.predict(X_test)"
   ]
  },
  {
   "cell_type": "code",
   "execution_count": 50,
   "metadata": {},
   "outputs": [],
   "source": [
    "from sklearn.metrics import accuracy_score, confusion_matrix"
   ]
  },
  {
   "cell_type": "code",
   "execution_count": 51,
   "metadata": {},
   "outputs": [
    {
     "data": {
      "text/plain": [
       "0.8296296296296296"
      ]
     },
     "execution_count": 51,
     "metadata": {},
     "output_type": "execute_result"
    }
   ],
   "source": [
    "accuracy_score(y_test, y_model)"
   ]
  },
  {
   "cell_type": "code",
   "execution_count": 52,
   "metadata": {},
   "outputs": [],
   "source": [
    "mat=confusion_matrix(y_test,y_model)"
   ]
  },
  {
   "cell_type": "code",
   "execution_count": 54,
   "metadata": {},
   "outputs": [],
   "source": [
    "import seaborn as sns"
   ]
  },
  {
   "cell_type": "code",
   "execution_count": 56,
   "metadata": {
    "scrolled": false
   },
   "outputs": [
    {
     "data": {
      "text/plain": [
       "<matplotlib.axes._subplots.AxesSubplot at 0x25bd4f63710>"
      ]
     },
     "execution_count": 56,
     "metadata": {},
     "output_type": "execute_result"
    },
    {
     "data": {
      "image/png": "[encoded data removed]",
      "text/plain": [
       "<Figure size 432x288 with 1 Axes>"
      ]
     },
     "metadata": {
      "needs_background": "light"
     },
     "output_type": "display_data"
    }
   ],
   "source": [
    "sns.heatmap(mat,square=True, annot=True, cbar=False)"
   ]
  },
  {
   "cell_type": "code",
   "execution_count": 57,
   "metadata": {},
   "outputs": [],
   "source": [
    "from sklearn.linear_model import LogisticRegression"
   ]
  },
  {
   "cell_type": "code",
   "execution_count": 69,
   "metadata": {},
   "outputs": [],
   "source": [
    "model2=LogisticRegression(multi_class='multinomial', solver='lbfgs')"
   ]
  },
  {
   "cell_type": "code",
   "execution_count": 70,
   "metadata": {},
   "outputs": [
    {
     "name": "stderr",
     "output_type": "stream",
     "text": [
      "C:\\Users\\eldiy\\Anaconda3\\lib\\site-packages\\sklearn\\linear_model\\logistic.py:758: ConvergenceWarning: lbfgs failed to converge. Increase the number of iterations.\n",
      "  \"of iterations.\", ConvergenceWarning)\n"
     ]
    },
    {
     "data": {
      "text/plain": [
       "LogisticRegression(C=1.0, class_weight=None, dual=False, fit_intercept=True,\n",
       "          intercept_scaling=1, max_iter=100, multi_class='multinomial',\n",
       "          n_jobs=None, penalty='l2', random_state=None, solver='lbfgs',\n",
       "          tol=0.0001, verbose=0, warm_start=False)"
      ]
     },
     "execution_count": 70,
     "metadata": {},
     "output_type": "execute_result"
    }
   ],
   "source": [
    "model2.fit(X_train,y_train)"
   ]
  },
  {
   "cell_type": "code",
   "execution_count": 74,
   "metadata": {},
   "outputs": [],
   "source": [
    "?LogisticRegression"
   ]
  },
  {
   "cell_type": "code",
   "execution_count": 71,
   "metadata": {},
   "outputs": [],
   "source": [
    "y_hat2=model2.predict(X_test)"
   ]
  },
  {
   "cell_type": "code",
   "execution_count": 72,
   "metadata": {},
   "outputs": [
    {
     "data": {
      "text/plain": [
       "0.9648148148148148"
      ]
     },
     "execution_count": 72,
     "metadata": {},
     "output_type": "execute_result"
    }
   ],
   "source": [
    "accuracy_score(y_test,y_hat2)"
   ]
  },
  {
   "cell_type": "code",
   "execution_count": 73,
   "metadata": {},
   "outputs": [
    {
     "data": {
      "text/plain": [
       "<matplotlib.axes._subplots.AxesSubplot at 0x25bd4f65ba8>"
      ]
     },
     "execution_count": 73,
     "metadata": {},
     "output_type": "execute_result"
    },
    {
     "data": {
      "image/png": "[encoded data removed]",
      "text/plain": [
       "<Figure size 432x288 with 1 Axes>"
      ]
     },
     "metadata": {
      "needs_background": "light"
     },
     "output_type": "display_data"
    }
   ],
   "source": [
    "mat=confusion_matrix(y_test,y_hat2)\n",
    "sns.heatmap(mat,square=True, annot=True, cbar=False)"
   ]
  },
  {
   "cell_type": "code",
   "execution_count": null,
   "metadata": {},
   "outputs": [],
   "source": []
  },
  {
   "cell_type": "code",
   "execution_count": null,
   "metadata": {},
   "outputs": [],
   "source": []
  },
  {
   "cell_type": "code",
   "execution_count": null,
   "metadata": {},
   "outputs": [],
   "source": []
  },
  {
   "cell_type": "code",
   "execution_count": 77,
   "metadata": {},
   "outputs": [],
   "source": [
    "import numpy as np"
   ]
  },
  {
   "cell_type": "code",
   "execution_count": 75,
   "metadata": {},
   "outputs": [],
   "source": [
    "def true_func(x):\n",
    "    return np.sin(2*np.pi*x)"
   ]
  },
  {
   "cell_type": "code",
   "execution_count": 78,
   "metadata": {},
   "outputs": [
    {
     "data": {
      "text/plain": [
       "-2.4492935982947064e-16"
      ]
     },
     "execution_count": 78,
     "metadata": {},
     "output_type": "execute_result"
    }
   ],
   "source": [
    "true_func(1)"
   ]
  },
  {
   "cell_type": "code",
   "execution_count": 79,
   "metadata": {},
   "outputs": [],
   "source": [
    "num_samples=30\n",
    "noise=0.1\n",
    "X=np.sort(np.random.rand(num_samples))"
   ]
  },
  {
   "cell_type": "code",
   "execution_count": 80,
   "metadata": {},
   "outputs": [],
   "source": [
    "y=true_func(X)+np.random.randn(num_samples)*noise"
   ]
  },
  {
   "cell_type": "code",
   "execution_count": 83,
   "metadata": {},
   "outputs": [
    {
     "data": {
      "image/png": "[encoded data removed]",
      "text/plain": [
       "<Figure size 720x432 with 1 Axes>"
      ]
     },
     "metadata": {
      "needs_background": "light"
     },
     "output_type": "display_data"
    }
   ],
   "source": [
    "plt.figure(figsize=(10,6))\n",
    "X_range=np.linspace(0,1,100)\n",
    "plt.plot(X_range,true_func(X_range), label='True Function')\n",
    "plt.scatter(X,y,label='Samples', edgecolor='r')\n",
    "plt.show()"
   ]
  },
  {
   "cell_type": "code",
   "execution_count": 84,
   "metadata": {},
   "outputs": [],
   "source": [
    "from sklearn.linear_model import LinearRegression\n",
    "from sklearn.preprocessing import PolynomialFeatures"
   ]
  },
  {
   "cell_type": "code",
   "execution_count": 85,
   "metadata": {},
   "outputs": [],
   "source": [
    "from sklearn.pipeline import make_pipeline"
   ]
  },
  {
   "cell_type": "code",
   "execution_count": 100,
   "metadata": {},
   "outputs": [
    {
     "data": {
      "text/plain": [
       "Pipeline(memory=None,\n",
       "     steps=[('polynomialfeatures', PolynomialFeatures(degree=3, include_bias=True, interaction_only=False)), ('linearregression', LinearRegression(copy_X=True, fit_intercept=True, n_jobs=None,\n",
       "         normalize=False))])"
      ]
     },
     "execution_count": 100,
     "metadata": {},
     "output_type": "execute_result"
    }
   ],
   "source": [
    "model=make_pipeline(PolynomialFeatures(degree=3),\n",
    "                   LinearRegression())\n",
    "model.fit(X[:,np.newaxis],y)"
   ]
  },
  {
   "cell_type": "code",
   "execution_count": 106,
   "metadata": {
    "collapsed": true
   },
   "outputs": [
    {
     "data": {
      "text/html": [
       "<div>\n",
       "<style scoped>\n",
       "    .dataframe tbody tr th:only-of-type {\n",
       "        vertical-align: middle;\n",
       "    }\n",
       "\n",
       "    .dataframe tbody tr th {\n",
       "        vertical-align: top;\n",
       "    }\n",
       "\n",
       "    .dataframe thead th {\n",
       "        text-align: right;\n",
       "    }\n",
       "</style>\n",
       "<table border=\"1\" class=\"dataframe\">\n",
       "  <thead>\n",
       "    <tr style=\"text-align: right;\">\n",
       "      <th></th>\n",
       "      <th>0</th>\n",
       "      <th>1</th>\n",
       "      <th>2</th>\n",
       "      <th>3</th>\n",
       "    </tr>\n",
       "  </thead>\n",
       "  <tbody>\n",
       "    <tr>\n",
       "      <th>0</th>\n",
       "      <td>1.0</td>\n",
       "      <td>0.030001</td>\n",
       "      <td>0.000900</td>\n",
       "      <td>0.000027</td>\n",
       "    </tr>\n",
       "    <tr>\n",
       "      <th>1</th>\n",
       "      <td>1.0</td>\n",
       "      <td>0.032570</td>\n",
       "      <td>0.001061</td>\n",
       "      <td>0.000035</td>\n",
       "    </tr>\n",
       "    <tr>\n",
       "      <th>2</th>\n",
       "      <td>1.0</td>\n",
       "      <td>0.034438</td>\n",
       "      <td>0.001186</td>\n",
       "      <td>0.000041</td>\n",
       "    </tr>\n",
       "    <tr>\n",
       "      <th>3</th>\n",
       "      <td>1.0</td>\n",
       "      <td>0.064152</td>\n",
       "      <td>0.004116</td>\n",
       "      <td>0.000264</td>\n",
       "    </tr>\n",
       "    <tr>\n",
       "      <th>4</th>\n",
       "      <td>1.0</td>\n",
       "      <td>0.072585</td>\n",
       "      <td>0.005269</td>\n",
       "      <td>0.000382</td>\n",
       "    </tr>\n",
       "    <tr>\n",
       "      <th>5</th>\n",
       "      <td>1.0</td>\n",
       "      <td>0.109410</td>\n",
       "      <td>0.011971</td>\n",
       "      <td>0.001310</td>\n",
       "    </tr>\n",
       "    <tr>\n",
       "      <th>6</th>\n",
       "      <td>1.0</td>\n",
       "      <td>0.111700</td>\n",
       "      <td>0.012477</td>\n",
       "      <td>0.001394</td>\n",
       "    </tr>\n",
       "    <tr>\n",
       "      <th>7</th>\n",
       "      <td>1.0</td>\n",
       "      <td>0.124892</td>\n",
       "      <td>0.015598</td>\n",
       "      <td>0.001948</td>\n",
       "    </tr>\n",
       "    <tr>\n",
       "      <th>8</th>\n",
       "      <td>1.0</td>\n",
       "      <td>0.231676</td>\n",
       "      <td>0.053674</td>\n",
       "      <td>0.012435</td>\n",
       "    </tr>\n",
       "    <tr>\n",
       "      <th>9</th>\n",
       "      <td>1.0</td>\n",
       "      <td>0.284230</td>\n",
       "      <td>0.080787</td>\n",
       "      <td>0.022962</td>\n",
       "    </tr>\n",
       "    <tr>\n",
       "      <th>10</th>\n",
       "      <td>1.0</td>\n",
       "      <td>0.298608</td>\n",
       "      <td>0.089167</td>\n",
       "      <td>0.026626</td>\n",
       "    </tr>\n",
       "    <tr>\n",
       "      <th>11</th>\n",
       "      <td>1.0</td>\n",
       "      <td>0.300894</td>\n",
       "      <td>0.090537</td>\n",
       "      <td>0.027242</td>\n",
       "    </tr>\n",
       "    <tr>\n",
       "      <th>12</th>\n",
       "      <td>1.0</td>\n",
       "      <td>0.329471</td>\n",
       "      <td>0.108551</td>\n",
       "      <td>0.035764</td>\n",
       "    </tr>\n",
       "    <tr>\n",
       "      <th>13</th>\n",
       "      <td>1.0</td>\n",
       "      <td>0.354355</td>\n",
       "      <td>0.125567</td>\n",
       "      <td>0.044495</td>\n",
       "    </tr>\n",
       "    <tr>\n",
       "      <th>14</th>\n",
       "      <td>1.0</td>\n",
       "      <td>0.359179</td>\n",
       "      <td>0.129009</td>\n",
       "      <td>0.046337</td>\n",
       "    </tr>\n",
       "    <tr>\n",
       "      <th>15</th>\n",
       "      <td>1.0</td>\n",
       "      <td>0.378816</td>\n",
       "      <td>0.143501</td>\n",
       "      <td>0.054361</td>\n",
       "    </tr>\n",
       "    <tr>\n",
       "      <th>16</th>\n",
       "      <td>1.0</td>\n",
       "      <td>0.409131</td>\n",
       "      <td>0.167388</td>\n",
       "      <td>0.068484</td>\n",
       "    </tr>\n",
       "    <tr>\n",
       "      <th>17</th>\n",
       "      <td>1.0</td>\n",
       "      <td>0.410630</td>\n",
       "      <td>0.168617</td>\n",
       "      <td>0.069239</td>\n",
       "    </tr>\n",
       "    <tr>\n",
       "      <th>18</th>\n",
       "      <td>1.0</td>\n",
       "      <td>0.519716</td>\n",
       "      <td>0.270105</td>\n",
       "      <td>0.140378</td>\n",
       "    </tr>\n",
       "    <tr>\n",
       "      <th>19</th>\n",
       "      <td>1.0</td>\n",
       "      <td>0.568123</td>\n",
       "      <td>0.322764</td>\n",
       "      <td>0.183369</td>\n",
       "    </tr>\n",
       "    <tr>\n",
       "      <th>20</th>\n",
       "      <td>1.0</td>\n",
       "      <td>0.593091</td>\n",
       "      <td>0.351757</td>\n",
       "      <td>0.208624</td>\n",
       "    </tr>\n",
       "    <tr>\n",
       "      <th>21</th>\n",
       "      <td>1.0</td>\n",
       "      <td>0.656116</td>\n",
       "      <td>0.430488</td>\n",
       "      <td>0.282450</td>\n",
       "    </tr>\n",
       "    <tr>\n",
       "      <th>22</th>\n",
       "      <td>1.0</td>\n",
       "      <td>0.718522</td>\n",
       "      <td>0.516274</td>\n",
       "      <td>0.370955</td>\n",
       "    </tr>\n",
       "    <tr>\n",
       "      <th>23</th>\n",
       "      <td>1.0</td>\n",
       "      <td>0.733295</td>\n",
       "      <td>0.537721</td>\n",
       "      <td>0.394308</td>\n",
       "    </tr>\n",
       "    <tr>\n",
       "      <th>24</th>\n",
       "      <td>1.0</td>\n",
       "      <td>0.764871</td>\n",
       "      <td>0.585028</td>\n",
       "      <td>0.447471</td>\n",
       "    </tr>\n",
       "    <tr>\n",
       "      <th>25</th>\n",
       "      <td>1.0</td>\n",
       "      <td>0.808931</td>\n",
       "      <td>0.654369</td>\n",
       "      <td>0.529339</td>\n",
       "    </tr>\n",
       "    <tr>\n",
       "      <th>26</th>\n",
       "      <td>1.0</td>\n",
       "      <td>0.829423</td>\n",
       "      <td>0.687942</td>\n",
       "      <td>0.570595</td>\n",
       "    </tr>\n",
       "    <tr>\n",
       "      <th>27</th>\n",
       "      <td>1.0</td>\n",
       "      <td>0.871277</td>\n",
       "      <td>0.759124</td>\n",
       "      <td>0.661408</td>\n",
       "    </tr>\n",
       "    <tr>\n",
       "      <th>28</th>\n",
       "      <td>1.0</td>\n",
       "      <td>0.916221</td>\n",
       "      <td>0.839461</td>\n",
       "      <td>0.769132</td>\n",
       "    </tr>\n",
       "    <tr>\n",
       "      <th>29</th>\n",
       "      <td>1.0</td>\n",
       "      <td>0.964962</td>\n",
       "      <td>0.931152</td>\n",
       "      <td>0.898527</td>\n",
       "    </tr>\n",
       "  </tbody>\n",
       "</table>\n",
       "</div>"
      ],
      "text/plain": [
       "      0         1         2         3\n",
       "0   1.0  0.030001  0.000900  0.000027\n",
       "1   1.0  0.032570  0.001061  0.000035\n",
       "2   1.0  0.034438  0.001186  0.000041\n",
       "3   1.0  0.064152  0.004116  0.000264\n",
       "4   1.0  0.072585  0.005269  0.000382\n",
       "5   1.0  0.109410  0.011971  0.001310\n",
       "6   1.0  0.111700  0.012477  0.001394\n",
       "7   1.0  0.124892  0.015598  0.001948\n",
       "8   1.0  0.231676  0.053674  0.012435\n",
       "9   1.0  0.284230  0.080787  0.022962\n",
       "10  1.0  0.298608  0.089167  0.026626\n",
       "11  1.0  0.300894  0.090537  0.027242\n",
       "12  1.0  0.329471  0.108551  0.035764\n",
       "13  1.0  0.354355  0.125567  0.044495\n",
       "14  1.0  0.359179  0.129009  0.046337\n",
       "15  1.0  0.378816  0.143501  0.054361\n",
       "16  1.0  0.409131  0.167388  0.068484\n",
       "17  1.0  0.410630  0.168617  0.069239\n",
       "18  1.0  0.519716  0.270105  0.140378\n",
       "19  1.0  0.568123  0.322764  0.183369\n",
       "20  1.0  0.593091  0.351757  0.208624\n",
       "21  1.0  0.656116  0.430488  0.282450\n",
       "22  1.0  0.718522  0.516274  0.370955\n",
       "23  1.0  0.733295  0.537721  0.394308\n",
       "24  1.0  0.764871  0.585028  0.447471\n",
       "25  1.0  0.808931  0.654369  0.529339\n",
       "26  1.0  0.829423  0.687942  0.570595\n",
       "27  1.0  0.871277  0.759124  0.661408\n",
       "28  1.0  0.916221  0.839461  0.769132\n",
       "29  1.0  0.964962  0.931152  0.898527"
      ]
     },
     "execution_count": 106,
     "metadata": {},
     "output_type": "execute_result"
    }
   ],
   "source": [
    "import pandas as pd\n",
    "pd.DataFrame(PolynomialFeatures(degree=3).fit_transform(X[:,np.newaxis]))"
   ]
  },
  {
   "cell_type": "code",
   "execution_count": 110,
   "metadata": {},
   "outputs": [
    {
     "data": {
      "image/png": "[encoded data removed]",
      "text/plain": [
       "<Figure size 720x432 with 1 Axes>"
      ]
     },
     "metadata": {
      "needs_background": "light"
     },
     "output_type": "display_data"
    }
   ],
   "source": [
    "plt.figure(figsize=(10,6))\n",
    "X_range=np.linspace(-1,1.2,100)\n",
    "plt.plot(X_range,true_func(X_range), label='True Function')\n",
    "plt.scatter(X,y,label='Samples', edgecolor='r')\n",
    "plt.plot(X_range,model.predict(X_range[:,np.newaxis]), label='model')\n",
    "plt.legend(loc='best')\n",
    "plt.ylim((-3,3))\n",
    "plt.show()"
   ]
  },
  {
   "cell_type": "code",
   "execution_count": 103,
   "metadata": {},
   "outputs": [
    {
     "data": {
      "text/plain": [
       "0.974477744045445"
      ]
     },
     "execution_count": 103,
     "metadata": {},
     "output_type": "execute_result"
    }
   ],
   "source": [
    "model.score(X[:,np.newaxis],y)"
   ]
  },
  {
   "cell_type": "code",
   "execution_count": null,
   "metadata": {},
   "outputs": [],
   "source": []
  }
 ],
 "metadata": {
  "kernelspec": {
   "display_name": "Python 3",
   "language": "python",
   "name": "python3"
  },
  "language_info": {
   "codemirror_mode": {
    "name": "ipython",
    "version": 3
   },
   "file_extension": ".py",
   "mimetype": "text/x-python",
   "name": "python",
   "nbconvert_exporter": "python",
   "pygments_lexer": "ipython3",
   "version": "3.6.8"
  }
 },
 "nbformat": 4,
 "nbformat_minor": 2
}
